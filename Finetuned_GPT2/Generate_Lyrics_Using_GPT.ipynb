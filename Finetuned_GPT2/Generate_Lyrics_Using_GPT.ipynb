{
 "cells": [
  {
   "cell_type": "markdown",
   "metadata": {
    "id": "LntKza6NMSYo"
   },
   "source": [
    "# Now Generate Text And Have Fun "
   ]
  },
  {
   "cell_type": "code",
   "execution_count": null,
   "metadata": {
    "id": "Vxu2F94IG96p"
   },
   "outputs": [],
   "source": [
    "# First install gpt\n",
    "!pip install gpt-2-simple\n"
   ]
  },
  {
   "cell_type": "code",
   "execution_count": 8,
   "metadata": {
    "id": "uO5exeqTGnh9"
   },
   "outputs": [],
   "source": [
    "# import gpt\n",
    "%tensorflow_version 1.x\n",
    "import gpt_2_simple as gpt2\n",
    "from google.colab import files\n",
    "import pprint\n",
    "pp = pprint.PrettyPrinter(width=100, compact=True)"
   ]
  },
  {
   "cell_type": "markdown",
   "metadata": {
    "id": "8jYjKpIuMl4S"
   },
   "source": [
    "# Generate text using Model 1 `GPT2- 124M`\n",
    "* this model should to approximately `500MB`"
   ]
  },
  {
   "cell_type": "code",
   "execution_count": 2,
   "metadata": {
    "id": "2JHJ0mzqHGgL"
   },
   "outputs": [],
   "source": [
    "gpt2.copy_checkpoint_from_gdrive(run_name='run1')"
   ]
  },
  {
   "cell_type": "code",
   "execution_count": 3,
   "metadata": {
    "colab": {
     "base_uri": "https://localhost:8080/"
    },
    "id": "Z6jkIHP4HM_E",
    "outputId": "5a38919b-ca1f-4b51-da6d-0176df792025"
   },
   "outputs": [
    {
     "name": "stdout",
     "output_type": "stream",
     "text": [
      "Loading checkpoint checkpoint/run1/model-1000\n",
      "INFO:tensorflow:Restoring parameters from checkpoint/run1/model-1000\n"
     ]
    }
   ],
   "source": [
    "sess= gpt2.start_tf_sess()\n",
    "gpt2.load_gpt2(sess,run_name='run1')"
   ]
  },
  {
   "cell_type": "markdown",
   "metadata": {
    "id": "Ekw_EQTEJIq3"
   },
   "source": [
    "### Options to pass in gpt2.generate \n",
    "You can pass in a `prefix` to the generate function to force the text to start with a given character sequence and generate text from there (good if you add an indicator when the text starts).\n",
    "\n",
    "You can also generate multiple texts at a time by specifing `nsamples`. Unique to GPT-2, you can pass a `batch_size` to generate multiple samples in parallel, giving a massive speedup (in Colaboratory, set a maximum of 20 for `batch_size`).\n",
    "\n",
    "Other optional-but-helpful parameters for `gpt2.generate` and friends:\n",
    "\n",
    "*  **`length`**: Number of tokens to generate (default 1023, the maximum)\n",
    "* **`temperature`**: The higher the temperature, the crazier the text (default 0.7, recommended to keep between 0.7 and 1.0)\n",
    "* **`top_k`**: Limits the generated guesses to the top *k* guesses (default 0 which disables the behavior; if the generated output is super crazy, you may want to set `top_k=40`)\n",
    "* **`top_p`**: Nucleus sampling: limits the generated guesses to a cumulative probability. (gets good results on a dataset with `top_p=0.9`)\n",
    "* **`truncate`**: Truncates the input text until a given sequence, excluding that sequence (e.g. if `truncate='<|endoftext|>'`, the returned text will include everything before the first `<|endoftext|>`). It may be useful to combine this with a smaller `length` if the input texts are short.\n",
    "*  **`include_prefix`**: If using `truncate` and `include_prefix=False`, the specified `prefix` will not be included in the returned text."
   ]
  },
  {
   "cell_type": "markdown",
   "metadata": {
    "id": "Ye071-7EMw7-"
   },
   "source": [
    "### Output 1"
   ]
  },
  {
   "cell_type": "code",
   "execution_count": 22,
   "metadata": {
    "id": "k_SeFG2lJVQu"
   },
   "outputs": [],
   "source": [
    "pref= 'I am on the road'\n",
    "output= gpt2.generate(sess,\n",
    "                      prefix=pref,\n",
    "                      length=200,\n",
    "                      temperature=0.7,\n",
    "                      return_as_list=True,\n",
    "                      seed=0)"
   ]
  },
  {
   "cell_type": "code",
   "execution_count": 23,
   "metadata": {
    "colab": {
     "base_uri": "https://localhost:8080/"
    },
    "id": "g68njWfRKmow",
    "outputId": "1949110a-ee5e-4383-b0b0-a16fcf68e1fb"
   },
   "outputs": [
    {
     "name": "stdout",
     "output_type": "stream",
     "text": [
      "('I am on the road and i am working day and night i am driving around with my friends and i am back on the road but i am a mile or two from home but i am working even on weekends i am driving crazy '\n",
      " 'on the halfwheel but i am the speed of light but i am feeling alright i am working even on weekends i am driving crazy on the halfwheel but i am a mile or two from home but i am a mile or two from '\n",
      " 'home but i am a mile or two from home but i am a mile or two from home but i am a mile or two from home i am working out of state and i am working out of the way but i am taking charge cause i am '\n",
      " 'driving crazy on the halfwheel but i am feeling alright i am working even on weekends i am driving crazy on the halfwheel but i am a mile or two from home but i am a mile or two from home but i am '\n",
      " 'a mile or two from home i am working out of state and i am taking')\n"
     ]
    }
   ],
   "source": [
    "output = \"\".join(output)\n",
    "pp.pprint(output)"
   ]
  },
  {
   "cell_type": "markdown",
   "metadata": {
    "id": "14YbemC2LfHu"
   },
   "source": [
    "### Output 2"
   ]
  },
  {
   "cell_type": "code",
   "execution_count": 33,
   "metadata": {
    "id": "dsYuOjdQM1JW"
   },
   "outputs": [],
   "source": [
    "pref= \"I love to Sing\"\n",
    "output2= gpt2.generate(sess,\n",
    "                      prefix=pref,\n",
    "                      length=50,\n",
    "                      temperature=0.7,\n",
    "                      return_as_list=True,\n",
    "                      nsamples=5,\n",
    "                       batch_size=5,\n",
    "                      seed=0)"
   ]
  },
  {
   "cell_type": "code",
   "execution_count": 34,
   "metadata": {
    "colab": {
     "base_uri": "https://localhost:8080/"
    },
    "id": "K-FrVfypNMUa",
    "outputId": "045930d3-1a79-4c34-a9fc-7961e9289c5b"
   },
   "outputs": [
    {
     "data": {
      "text/plain": [
       "['I love to Sing it all night long and thank you for the watch i dont want to miss it all of the people thinkin that i should be with you but i dont want to miss it all of the people thinkin that i should be with you i want you',\n",
       " 'I love to Sing along to the music of the moon and the stars we know well be singing along to the music of the moon and the stars we know well be singing along to the music of the moon and the stars we know well be singing along to the music of',\n",
       " 'I love to Sing for the lost so come on and sing to me its time to get the groove on weve got to get the groove on weve got to get the groove on weve got to get the groove on weve got to get the groove on we',\n",
       " 'I love to Sing my heart is breaking my thoughts and soul i think i need a friend to hold me in my arms and let me know my love is true i love to sing my heart is breaking my thoughts and soul i think i need a friend to hold me in',\n",
       " 'I love to Sing along with him and every night we both laughed about it the way its so long ago and i still can’t believe that i fell in love with him he is like a miracle but i’ll never forget it i love to be with']"
      ]
     },
     "execution_count": 34,
     "metadata": {
      "tags": []
     },
     "output_type": "execute_result"
    }
   ],
   "source": [
    "output2"
   ]
  },
  {
   "cell_type": "markdown",
   "metadata": {
    "id": "r6Ey8z-NNSgJ"
   },
   "source": [
    "**Note**- this are 5 different generations using same prefix"
   ]
  },
  {
   "cell_type": "markdown",
   "metadata": {
    "id": "BHjFHDrbN7Vp"
   },
   "source": [
    "### Output 3"
   ]
  },
  {
   "cell_type": "code",
   "execution_count": 36,
   "metadata": {
    "id": "1pKD16tTN-5Y"
   },
   "outputs": [],
   "source": [
    "pref= \"I can do the things that i can explain\"\n",
    "output3= gpt2.generate(sess,\n",
    "                      prefix=pref,\n",
    "                      length=300,\n",
    "                      temperature=0.7,\n",
    "                      return_as_list=True,\n",
    "                      seed=0)"
   ]
  },
  {
   "cell_type": "code",
   "execution_count": 37,
   "metadata": {
    "colab": {
     "base_uri": "https://localhost:8080/"
    },
    "id": "OCQH8u1KONBr",
    "outputId": "0e2a9206-ef43-4dd6-e008-853db730c98f"
   },
   "outputs": [
    {
     "name": "stdout",
     "output_type": "stream",
     "text": [
      "('I can do the things that i can explain but first i would like to thank you for this gift of love and i would like to say my thanks to you for the love that we share i need to thank you for the '\n",
      " 'kind words that i dont have to say and i would like to thank you for the things that i can say but first i would like to thank you for the love that we share i need to thank you for the kind words '\n",
      " 'that i dont have to say and i would like to thank you for the things that i can say but first i would like to thank you for the loving that we share i need to thank you for the kind words that i '\n",
      " 'dont have to say and i would like to thank you for the things that i can say but first i would like to thank you for the love that we share i need to thank you for the kind words that i dont have '\n",
      " 'to say and i would like to thank you for the things that i can say but first i would like to thank you for the love that we share i need to thank you for the kind words that i dont have to say and '\n",
      " 'i would like to thank you for the things that i can say but first i would like to thank you for the loving that we share when i wake up to the sound of the beat of the morning rain i can hear the '\n",
      " 'sound of the beat of the morning rain i got a ticket to the country for the first time since i was a child i can feel you now and its coming from the country just a little')\n"
     ]
    }
   ],
   "source": [
    "output3 = \" \".join(output3)\n",
    "pp.pprint(output3)"
   ]
  },
  {
   "cell_type": "markdown",
   "metadata": {
    "id": "JYteojdAO--i"
   },
   "source": [
    "# Generate text using Model 2 `GPT2- 355M`\n",
    "* this model should be approx `1 - 1.4GB`"
   ]
  },
  {
   "cell_type": "code",
   "execution_count": 40,
   "metadata": {
    "id": "ORpS1n94OdAi"
   },
   "outputs": [],
   "source": [
    "gpt2.copy_checkpoint_from_gdrive(run_name='run2')"
   ]
  },
  {
   "cell_type": "code",
   "execution_count": 2,
   "metadata": {
    "colab": {
     "base_uri": "https://localhost:8080/"
    },
    "id": "zbor1Q4jO-vo",
    "outputId": "87ac6811-5b89-40b8-903a-af9c2ac6e316"
   },
   "outputs": [
    {
     "name": "stdout",
     "output_type": "stream",
     "text": [
      "Loading checkpoint checkpoint/run2/model-1000\n",
      "INFO:tensorflow:Restoring parameters from checkpoint/run2/model-1000\n"
     ]
    }
   ],
   "source": [
    "sess=gpt2.start_tf_sess()\n",
    "gpt2.load_gpt2(sess,run_name='run2')"
   ]
  },
  {
   "cell_type": "markdown",
   "metadata": {
    "id": "kTZ-maLZRWG8"
   },
   "source": [
    "### Output 1"
   ]
  },
  {
   "cell_type": "code",
   "execution_count": 12,
   "metadata": {
    "id": "XWxcg5R7Q2YW"
   },
   "outputs": [],
   "source": [
    "pref= 'I am on the road'\n",
    "output= gpt2.generate(sess,\n",
    "                        run_name='run2',\n",
    "                        prefix=pref,\n",
    "                        length=200,\n",
    "                        temperature=0.7,\n",
    "                        return_as_list=True,\n",
    "                        seed=0)"
   ]
  },
  {
   "cell_type": "code",
   "execution_count": 13,
   "metadata": {
    "colab": {
     "base_uri": "https://localhost:8080/"
    },
    "id": "Izy4AY6rQ-zE",
    "outputId": "1346ecaf-0105-47c7-d14f-55b3b38b9c1b"
   },
   "outputs": [
    {
     "name": "stdout",
     "output_type": "stream",
     "text": [
      "('I am on the road now and im not going nowhere i see the sun going down in the sky and i cant '\n",
      " 'help but feel the love that we wish upon the stars and the moon and the rain is falling down '\n",
      " 'from the sky and i cant help but feel the love that we wish upon the stars and the moon and the '\n",
      " 'rain is falling down from the sky and i cant help but feel the love that we wish upon the stars '\n",
      " 'and the moon and the rain is falling down from the sky and i cant help but feel the love that we '\n",
      " 'wish upon the stars and the moon and the rain is falling down from the sky i am on the road now '\n",
      " 'and im not going nowhere i see the sun going down in the sky and i cant help but feel the love '\n",
      " 'that we wish upon the stars and the moon and the rain is falling down from the sky and i cant '\n",
      " 'help but feel the love that we wish upon the stars and the moon and the rain is falling down '\n",
      " 'from the sky and i cant help but feel the love that')\n"
     ]
    }
   ],
   "source": [
    "output = \" \".join(output)\n",
    "pp.pprint(output)"
   ]
  },
  {
   "cell_type": "markdown",
   "metadata": {
    "id": "lBdT-rdCRVG8"
   },
   "source": [
    "### Output 2"
   ]
  },
  {
   "cell_type": "code",
   "execution_count": 16,
   "metadata": {
    "id": "L2DSE_s_Pcxb"
   },
   "outputs": [],
   "source": [
    "pref= \"I can stop thinking about you\"\n",
    "output2= gpt2.generate(sess,\n",
    "                        run_name='run2',\n",
    "                        prefix=pref,\n",
    "                        length=50,\n",
    "                        temperature=0.7,\n",
    "                        return_as_list=True,\n",
    "                        seed=0)"
   ]
  },
  {
   "cell_type": "code",
   "execution_count": 17,
   "metadata": {
    "colab": {
     "base_uri": "https://localhost:8080/"
    },
    "id": "Fs7Vb7DLP7vz",
    "outputId": "4246a892-6fe9-4b03-9c86-72c58bfa1fcb"
   },
   "outputs": [
    {
     "name": "stdout",
     "output_type": "stream",
     "text": [
      "('I can stop thinking about you in the morning and i can stop thinking about you in the afternoon '\n",
      " 'and i can stop thinking about you when you get the call at night and i can stop thinking about '\n",
      " 'you with the lights on and the world on my mind and i can stop thinking about')\n"
     ]
    }
   ],
   "source": [
    "output2 = \" \".join(output2)\n",
    "pp.pprint(output2)"
   ]
  },
  {
   "cell_type": "markdown",
   "metadata": {
    "id": "_YxoPiSlSKih"
   },
   "source": [
    "### Output 3"
   ]
  },
  {
   "cell_type": "code",
   "execution_count": 19,
   "metadata": {
    "id": "C3X5GRPEQQo5"
   },
   "outputs": [],
   "source": [
    "pref= \"I am alone\"\n",
    "output3= gpt2.generate(sess,\n",
    "                        run_name='run2',\n",
    "                        prefix=pref,\n",
    "                        length=30,\n",
    "                        temperature=0.7,\n",
    "                        return_as_list=True,\n",
    "                        nsamples=5,\n",
    "                        batch_size=5,\n",
    "                        seed=0)  \n",
    "  "
   ]
  },
  {
   "cell_type": "code",
   "execution_count": 20,
   "metadata": {
    "colab": {
     "base_uri": "https://localhost:8080/"
    },
    "id": "1Ag8d4fhSCSB",
    "outputId": "415c8e46-08da-4ef8-da5a-aa6feeca05c7"
   },
   "outputs": [
    {
     "data": {
      "text/plain": [
       "['I am alone theres no one here to rescue me and no one there to see me through my mind is wide open and my arms are long enough but my fingers',\n",
       " 'I am alone in a dark room with my own thoughts and a knife in my heart i cant save you i can only light your fire i can only feel your love',\n",
       " 'I am alone with my thoughts and im waiting for the day that i will know that i am the man i wish that i was but to know that i am alone',\n",
       " 'I am alone and i can only be with you and me so i am alone and i can only be with you and me theres a world of love and a',\n",
       " 'I am alone like a village girl did before the world is gone and the suns gone and the sea is gone and the moon is gone and the sky is gone']"
      ]
     },
     "execution_count": 20,
     "metadata": {
      "tags": []
     },
     "output_type": "execute_result"
    }
   ],
   "source": [
    "output3"
   ]
  }
 ],
 "metadata": {
  "colab": {
   "name": "Generate_Lyrics_Using_GPT.ipynb",
   "provenance": []
  },
  "kernelspec": {
   "display_name": "Python 3",
   "language": "python",
   "name": "python3"
  },
  "language_info": {
   "codemirror_mode": {
    "name": "ipython",
    "version": 3
   },
   "file_extension": ".py",
   "mimetype": "text/x-python",
   "name": "python",
   "nbconvert_exporter": "python",
   "pygments_lexer": "ipython3",
   "version": "3.8.8"
  }
 },
 "nbformat": 4,
 "nbformat_minor": 4
}
