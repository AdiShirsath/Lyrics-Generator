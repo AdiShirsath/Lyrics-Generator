{
  "nbformat": 4,
  "nbformat_minor": 0,
  "metadata": {
    "colab": {
      "name": "Gpt2.ipynb",
      "provenance": [],
      "collapsed_sections": []
    },
    "kernelspec": {
      "name": "python3",
      "display_name": "Python 3"
    },
    "language_info": {
      "name": "python"
    },
    "accelerator": "GPU"
  },
  "cells": [
    {
      "cell_type": "markdown",
      "metadata": {
        "id": "MH7vy1ByHvOj"
      },
      "source": [
        "We are going to use gpt 2 simple to generate lyrics.\n",
        "For more about `gpt-2-simple`, you can visit [this GitHub repository](https://github.com/minimaxir/gpt-2-simple). You can also read my [blog post](https://minimaxir.com/2019/09/howto-gpt2/) "
      ]
    },
    {
      "cell_type": "markdown",
      "metadata": {
        "id": "57BTA3yoWYdL"
      },
      "source": [
        "# import data"
      ]
    },
    {
      "cell_type": "code",
      "metadata": {
        "id": "_2TSVlfUWefy"
      },
      "source": [
        "import pandas as pd\n",
        "import pickle"
      ],
      "execution_count": null,
      "outputs": []
    },
    {
      "cell_type": "markdown",
      "metadata": {
        "id": "5zyfczqWjIDf"
      },
      "source": [
        "**Note** we have done all necessary preprocessing in preprocessing notebook we will just import clean text file"
      ]
    },
    {
      "cell_type": "code",
      "metadata": {
        "id": "qN1U-HX2XSOV"
      },
      "source": [
        "with open(\"/content/drive/MyDrive/Machine learning/RNN/Lyrics_Generation/Data/cleaned_text.txt\", 'rb') as fp:\n",
        "  text= pickle.load(fp)"
      ],
      "execution_count": null,
      "outputs": []
    },
    {
      "cell_type": "code",
      "metadata": {
        "colab": {
          "base_uri": "https://localhost:8080/"
        },
        "id": "p-EaAB7SjUsP",
        "outputId": "0a2b9deb-9c3f-4892-d7f5-b934e462ad59"
      },
      "source": [
        "text[:5]"
      ],
      "execution_count": null,
      "outputs": [
        {
          "output_type": "execute_result",
          "data": {
            "text/plain": [
              "['thought id end up with sean',\n",
              " 'but he wasnt a match',\n",
              " 'wrote some songs about ricky',\n",
              " 'now i listen and laugh',\n",
              " 'even almost got married']"
            ]
          },
          "metadata": {
            "tags": []
          },
          "execution_count": 14
        }
      ]
    },
    {
      "cell_type": "markdown",
      "metadata": {
        "id": "uXqmTITcaLwd"
      },
      "source": [
        "#### This are list of strings we need them joined"
      ]
    },
    {
      "cell_type": "code",
      "metadata": {
        "id": "6Ov6P1KEbYUl"
      },
      "source": [
        "corpus=' '.join(text)"
      ],
      "execution_count": null,
      "outputs": []
    },
    {
      "cell_type": "code",
      "metadata": {
        "colab": {
          "base_uri": "https://localhost:8080/"
        },
        "id": "69hLNT1ykN55",
        "outputId": "7f8329f0-5301-4348-b286-65308be7cc96"
      },
      "source": [
        "len(corpus)"
      ],
      "execution_count": null,
      "outputs": [
        {
          "output_type": "execute_result",
          "data": {
            "text/plain": [
              "7950303"
            ]
          },
          "metadata": {
            "tags": []
          },
          "execution_count": 27
        }
      ]
    },
    {
      "cell_type": "code",
      "metadata": {
        "id": "JcYlwPDbkiqN"
      },
      "source": [
        "# save corpus \n",
        "with open(\"/content/drive/MyDrive/Machine learning/RNN/Lyrics_Generation/Data/final_text_corpus.txt\", 'wb') as fp:\n",
        "  pickle.dump(corpus, fp)"
      ],
      "execution_count": null,
      "outputs": []
    },
    {
      "cell_type": "markdown",
      "metadata": {
        "id": "y9OjQi1COZiF"
      },
      "source": [
        "# gpt2 stands for ***Generative Pretrained Transformer 2*** :-\n",
        "* Generative means model was trained to predict or generate the next token in a sequence. OpenAI built this language model using Transformers architecture.\n",
        "* To learn more about this model visit Jay Alammar's blog [here](https://jalammar.github.io/illustrated-gpt2/)"
      ]
    },
    {
      "cell_type": "code",
      "metadata": {
        "colab": {
          "base_uri": "https://localhost:8080/"
        },
        "id": "STa-SN61NzjI",
        "outputId": "9a1126ac-2e60-480c-a594-99302595c03e"
      },
      "source": [
        "# install gpt 2\n",
        "!pip3 install gpt-2-simple"
      ],
      "execution_count": null,
      "outputs": [
        {
          "output_type": "stream",
          "text": [
            "Collecting gpt-2-simple\n",
            "  Downloading https://files.pythonhosted.org/packages/e8/c9/44fe420225244ab9e3f2938a1d11651681078cf72f7444c66d0ea49f1320/gpt_2_simple-0.7.2.tar.gz\n",
            "Requirement already satisfied: regex in /usr/local/lib/python3.7/dist-packages (from gpt-2-simple) (2019.12.20)\n",
            "Requirement already satisfied: requests in /usr/local/lib/python3.7/dist-packages (from gpt-2-simple) (2.23.0)\n",
            "Requirement already satisfied: tqdm in /usr/local/lib/python3.7/dist-packages (from gpt-2-simple) (4.41.1)\n",
            "Requirement already satisfied: numpy in /usr/local/lib/python3.7/dist-packages (from gpt-2-simple) (1.19.5)\n",
            "Collecting toposort\n",
            "  Downloading https://files.pythonhosted.org/packages/f2/7d/55784e894ee0cde2474fb977ffd1651e74e840a9f92e1d847f7e3115d5ec/toposort-1.6-py2.py3-none-any.whl\n",
            "Requirement already satisfied: urllib3!=1.25.0,!=1.25.1,<1.26,>=1.21.1 in /usr/local/lib/python3.7/dist-packages (from requests->gpt-2-simple) (1.24.3)\n",
            "Requirement already satisfied: chardet<4,>=3.0.2 in /usr/local/lib/python3.7/dist-packages (from requests->gpt-2-simple) (3.0.4)\n",
            "Requirement already satisfied: certifi>=2017.4.17 in /usr/local/lib/python3.7/dist-packages (from requests->gpt-2-simple) (2020.12.5)\n",
            "Requirement already satisfied: idna<3,>=2.5 in /usr/local/lib/python3.7/dist-packages (from requests->gpt-2-simple) (2.10)\n",
            "Building wheels for collected packages: gpt-2-simple\n",
            "  Building wheel for gpt-2-simple (setup.py) ... \u001b[?25l\u001b[?25hdone\n",
            "  Created wheel for gpt-2-simple: filename=gpt_2_simple-0.7.2-cp37-none-any.whl size=23621 sha256=481e8bbeb9812e98753e9e9d01181b7f753d3700c4c15cc71c7aba95815fd085\n",
            "  Stored in directory: /root/.cache/pip/wheels/68/1d/15/c87a4302a6c7273ce1b4f282bec3c6877fb2f521535d87d30f\n",
            "Successfully built gpt-2-simple\n",
            "Installing collected packages: toposort, gpt-2-simple\n",
            "Successfully installed gpt-2-simple-0.7.2 toposort-1.6\n"
          ],
          "name": "stdout"
        }
      ]
    },
    {
      "cell_type": "markdown",
      "metadata": {
        "id": "sLgOCB02QGfF"
      },
      "source": [
        "**note**- we need tensorflows contib module to work gpt2simple so we will need to select tensorflow version 1 beause they excluded that from version 2"
      ]
    },
    {
      "cell_type": "code",
      "metadata": {
        "id": "iGHJRucpQfWO"
      },
      "source": [
        "%tensorflow_version 1.x\n",
        "import gpt_2_simple as gpt2\n",
        "from datetime import datetime"
      ],
      "execution_count": null,
      "outputs": []
    },
    {
      "cell_type": "markdown",
      "metadata": {
        "id": "Byc47VSuQuOe"
      },
      "source": [
        "## Downloading GPT-2\n",
        "\n",
        "If we're retraining a model on new text, we need to download the GPT-2 model first. \n",
        "\n",
        "There are three released sizes of GPT-2:\n",
        "\n",
        "* `124M` (default): the \"small\" model, 500MB on disk.\n",
        "* `355M`: the \"medium\" model, 1.5GB on disk.\n",
        "* `774M`: the \"large\" model, cannot currently be finetuned with Colaboratory but can be used to generate text from the pretrained model (see later in Notebook)\n",
        "* `1558M`: the \"extra large\", true model. Will not work if a K80/P4 GPU is attached to the notebook. (like `774M`, it cannot be finetuned).\n"
      ]
    },
    {
      "cell_type": "code",
      "metadata": {
        "colab": {
          "base_uri": "https://localhost:8080/"
        },
        "id": "W_znDip-U_MZ",
        "outputId": "ab730bce-929e-4400-b833-d08b18f91095"
      },
      "source": [
        "gpt2.download_gpt2(model_name=\"124M\")"
      ],
      "execution_count": null,
      "outputs": [
        {
          "output_type": "stream",
          "text": [
            "Fetching checkpoint: 1.05Mit [00:00, 461Mit/s]                                                      \n",
            "Fetching encoder.json: 1.05Mit [00:00, 2.86Mit/s]\n",
            "Fetching hparams.json: 1.05Mit [00:00, 608Mit/s]                                                    \n",
            "Fetching model.ckpt.data-00000-of-00001: 498Mit [01:49, 4.54Mit/s]\n",
            "Fetching model.ckpt.index: 1.05Mit [00:00, 412Mit/s]                                                \n",
            "Fetching model.ckpt.meta: 1.05Mit [00:00, 3.92Mit/s]\n",
            "Fetching vocab.bpe: 1.05Mit [00:00, 4.12Mit/s]\n"
          ],
          "name": "stderr"
        }
      ]
    },
    {
      "cell_type": "markdown",
      "metadata": {
        "id": "YYTtNb7XWE2Q"
      },
      "source": [
        "The best way to get input text to-be-trained into the Colaboratory VM, and to get the trained model out of Colaboratory, is to route it through Google Drive first."
      ]
    },
    {
      "cell_type": "code",
      "metadata": {
        "colab": {
          "base_uri": "https://localhost:8080/"
        },
        "id": "qU30SHDHl08o",
        "outputId": "d7115710-e4f8-4fe8-8d67-8d5246f2889c"
      },
      "source": [
        "gpt2.mount_gdrive()\n"
      ],
      "execution_count": 10,
      "outputs": [
        {
          "output_type": "stream",
          "text": [
            "Drive already mounted at /content/drive; to attempt to forcibly remount, call drive.mount(\"/content/drive\", force_remount=True).\n"
          ],
          "name": "stdout"
        }
      ]
    },
    {
      "cell_type": "code",
      "metadata": {
        "id": "-Kls0HZSl3Vv"
      },
      "source": [
        "file_name='/content/drive/MyDrive/Machine learning/RNN/Lyrics_Generation/Data/final_text_corpus.txt'"
      ],
      "execution_count": null,
      "outputs": []
    },
    {
      "cell_type": "markdown",
      "metadata": {
        "id": "Beh_Or2_mAw8"
      },
      "source": [
        "## Finetune GPT2\n",
        "\n",
        "The next cell will start the actual finetuning of GPT-2. It creates a persistent TensorFlow session which stores the training config, then runs the training for the specified number of `steps`. (to have the finetuning run indefinitely, set `steps = -1`)\n",
        "\n",
        "The model checkpoints will be saved in `/checkpoint/run1` by default. The checkpoints are saved every 500 steps (can be changed) and when the cell is stopped.\n",
        "\n",
        "The training might time out after 4ish hours; make sure you end training and save the results so you don't lose them!\n",
        "\n",
        "some options of gpt\n",
        "*  **`restore_from`**: Set to `fresh` to start training from the base GPT-2, or set to `latest` to restart training from an existing checkpoint.\n",
        "* **`sample_every`**: Number of steps to print example output\n",
        "* **`print_every`**: Number of steps to print training progress.\n",
        "* **`learning_rate`**:  Learning rate for the training. (default `1e-4`, can lower to `1e-5` if you have <1MB input data)\n",
        "*  **`run_name`**: subfolder within `checkpoint` to save the model. This is useful if you want to work with multiple models (will also need to specify  `run_name` when loading the model)\n",
        "* **`overwrite`**: Set to `True` if you want to continue finetuning an existing model (w/ `restore_from='latest'`) without creating duplicate copies. "
      ]
    },
    {
      "cell_type": "markdown",
      "metadata": {
        "id": "QFISumiY47NH"
      },
      "source": [
        "# Training model 1 `GPT2-124M`"
      ]
    },
    {
      "cell_type": "code",
      "metadata": {
        "id": "h-NFnv9vmMlo",
        "colab": {
          "base_uri": "https://localhost:8080/"
        },
        "outputId": "958678e7-8170-4133-85d4-b30f4283657a"
      },
      "source": [
        "sess= gpt2.start_tf_sess()\n",
        "\n",
        "gpt2.finetune(sess,\n",
        "              dataset=file_name,\n",
        "              model_name='124M',\n",
        "              steps=1000,\n",
        "              restore_from = 'fresh',\n",
        "              run_name='run1',\n",
        "              print_every=10,\n",
        "              sample_every=200,\n",
        "              save_every=500)"
      ],
      "execution_count": null,
      "outputs": [
        {
          "output_type": "stream",
          "text": [
            "WARNING:tensorflow:From /usr/local/lib/python3.7/dist-packages/gpt_2_simple/src/sample.py:17: where (from tensorflow.python.ops.array_ops) is deprecated and will be removed in a future version.\n",
            "Instructions for updating:\n",
            "Use tf.where in 2.0, which has the same broadcast rule as np.where\n",
            "Loading checkpoint models/124M/model.ckpt\n",
            "INFO:tensorflow:Restoring parameters from models/124M/model.ckpt\n"
          ],
          "name": "stdout"
        },
        {
          "output_type": "stream",
          "text": [
            "\r  0%|          | 0/1 [00:00<?, ?it/s]"
          ],
          "name": "stderr"
        },
        {
          "output_type": "stream",
          "text": [
            "Loading dataset...\n"
          ],
          "name": "stdout"
        },
        {
          "output_type": "stream",
          "text": [
            "100%|██████████| 1/1 [00:07<00:00,  7.85s/it]\n"
          ],
          "name": "stderr"
        },
        {
          "output_type": "stream",
          "text": [
            "dataset has 1807805 tokens\n",
            "Training...\n",
            "[10 | 27.47] loss=3.02 avg=3.02\n",
            "[20 | 48.96] loss=2.97 avg=3.00\n",
            "[30 | 70.62] loss=2.98 avg=2.99\n",
            "[40 | 92.50] loss=2.69 avg=2.91\n",
            "[50 | 114.54] loss=2.85 avg=2.90\n",
            "[60 | 136.79] loss=3.26 avg=2.96\n",
            "[70 | 159.19] loss=3.01 avg=2.97\n",
            "[80 | 181.77] loss=3.16 avg=2.99\n",
            "[90 | 204.46] loss=3.16 avg=3.01\n",
            "[100 | 227.28] loss=3.24 avg=3.04\n",
            "[110 | 250.25] loss=2.60 avg=2.99\n",
            "[120 | 273.34] loss=2.81 avg=2.98\n",
            "[130 | 296.45] loss=2.61 avg=2.95\n",
            "[140 | 319.54] loss=2.75 avg=2.93\n",
            "[150 | 342.62] loss=3.40 avg=2.97\n",
            "[160 | 365.66] loss=2.85 avg=2.96\n",
            "[170 | 388.74] loss=3.00 avg=2.96\n",
            "[180 | 411.79] loss=3.19 avg=2.98\n",
            "[190 | 434.82] loss=2.79 avg=2.97\n",
            "[200 | 457.91] loss=3.49 avg=2.99\n",
            "======== SAMPLE 1 ========\n",
            " with no chance to do good so let it go let it go let it go let it go let it go let it go let it go let it go let it go let it go let it go let it go let it go let it go let it go let it go let it go let it go let it go let it go let it go let it go let it go let it go and the world will be alright let it go let it go let it go let it go let it go let it go let it go let it go let it go let it go let it go let it go let it go let it go let it go let it go let it go let it go lets run running for cover let run running for cover lets run running for cover let run running for cover lets run running for cover lets run running for cover lets run running for cover lets run running for cover lets run running for cover lets run running for cover lets run running for cover lets run running for cover lets run running from under the city let run running from under the city lets run running over a city lets run running over a city lets run running over a city lets run running over a city let run running over a city let run running over a city let run running over a city lets run running over a city lets run running over a city lets run running out over the city let run running out over the city lets run running over a city lets run running over a city lets run running over a city lets run running over a city hey what a day it seems to be right there right here on the table and the room is bright and clear let me tell ya how i feel its hot in here oh yeah all my friends come and everybody is busy making a movie and it kind of hurts me to say it it doesnt hurt my heart when i see the sun go out and all my friends stay in bed oh yeah lets run running for cover lets run running for cover lets run running for cover lets run running over a city lets run running over a city lets run running over a city lets run running over a city oh yeah yeah yeah oh yeah yeah yeah lets run running for cover lets run running for cover lets run running for cover lets run running for cover lets run running through a city lets run running for cover lets run running for cover lets run running for cover lets run running over a city lets run running over a city lets run running over a city lets run running over a city lets run running over a city yeah yeah yeah yeah yeah yeah i just wanna get a drink of water to get the hang of a drink of water hey lets run running for cover lets run running for cover lets run running over a city lets run running over a city lets run running over a city lets run running for cover lets run running over a city lets run running out over the city let run running over a city lets run running over a city lets run running over a city lets run running over a city lets run running for cover lets run running for cover lets run running for cover lets run running for cover lets run running for cover lets run running for cover lets run running out over the city let run running over a city lets run running over a city let run running for cover lets run running for cover lets run running over a city lets run running over a city let run running out over the city hey lets run running for cover lets run running for cover lets run running for cover lets run running for cover lets run running for cover lets run running for cover lets running running for cover oh yeah yeah yeah yeah lets run running oh yeah yeah oh yes yeah yeah yeah lets run running oh yeah yeah yeah yeah yeah yeah yeah yeah yeah i just got the message to the party girls im in the house we couldnt see the party girl id like to show i could watch it she was all over the floor and i wanna say hey im with her and its all i wanna say you do it im so good that im glad i gave it up for a friend cause he can see it im so good that it keeps us all alive im loving all day all night i said hey im with her in the party with her i cant look up at her now im with her you do it im so good that im glad i gave it up for a friend cause he could see it im so good that it keeps us all alive im loving all day all night i said hey im with her in the party with her i cant think of a time weve never had just let me have the time cause all we do is dance let us dance let us dance and so lets dance let it go let us dance let us dance and im not even trying i just cant figure out to what it must be oh yeah now youre with her on the floor you hold me there you make me feel so good i dont even know why youve been lying down to me oh yeah now youre with her on the floor you hold me there you make me feel so good i dont even know why youve been lying down to me i dont even know why youve been lying down to me oh yes you see\n",
            "\n",
            "[210 | 491.33] loss=2.77 avg=2.98\n",
            "[220 | 514.44] loss=2.57 avg=2.96\n",
            "[230 | 537.53] loss=3.02 avg=2.96\n",
            "[240 | 560.64] loss=2.75 avg=2.95\n",
            "[250 | 583.71] loss=2.64 avg=2.94\n",
            "[260 | 606.80] loss=3.33 avg=2.96\n",
            "[270 | 629.86] loss=2.59 avg=2.94\n",
            "[280 | 652.95] loss=3.28 avg=2.95\n",
            "[290 | 676.07] loss=2.91 avg=2.95\n",
            "[300 | 699.19] loss=3.07 avg=2.96\n",
            "[310 | 722.28] loss=2.79 avg=2.95\n",
            "[320 | 745.36] loss=2.71 avg=2.94\n",
            "[330 | 768.49] loss=2.62 avg=2.93\n",
            "[340 | 791.62] loss=3.05 avg=2.94\n",
            "[350 | 814.76] loss=2.89 avg=2.93\n",
            "[360 | 837.90] loss=2.53 avg=2.92\n",
            "[370 | 861.01] loss=3.00 avg=2.92\n",
            "[380 | 884.09] loss=2.89 avg=2.92\n",
            "[390 | 907.20] loss=3.10 avg=2.93\n",
            "[400 | 930.33] loss=2.73 avg=2.92\n",
            "======== SAMPLE 1 ========\n",
            " sleeping in the morning you aint got much use for me you know thats the way that we are you gotta live with it that is the way you gotta live with it thats how i got into the life of it that is the way you gotta live with it thats how im feeling yeah thats the way you gotta live with it thats how im feeling yeah thats how im feeling yeah im glad i got that baby thats how im feeling yeah thats the way you gotta live with it thats how im feeling yeah thats the way you gotta live with it thats how way you gotta live with it thats how the way you gotta live with it thats how i got in the world when she asked yeah yeah yeah yeah she told me her name and she said yeah yeah yeah i think your mother is up now a lot of the ladies who you might be im wondering yeah yeah yeah yeah yeah yeah thats the way you gotta live with it thats how you gotta live with it thats how way you gotta live with it i love the way you are you can be strong and you just keep changing the world and you know it a little bit i love the way you are you could do anything right now and you could be the first and you and you and you are the one the best all together i like to be where i wanna be you know you wanna be where you are who you wanna be and you know you know that i love who you wanna be and you know you know that i love who you wanna be and you know you know that i love who you wanna be and you know you know that i love who you wanna be and you know you know that i love who you wanna be and you know you know that i love who you wanna be and they say that if you love you cant be alone well take the time and find somewhere you are going out of your mind when you have loved someone else when you have loved someone else oh yeah when you have loved someone else when you have loved someone else ill be right there with you when you have loved someone else ill be right there with you ill be right there with you when you have loved someone else when you have loved someone else i love the way i look at you when i look in the mirror when i think of you its the way you look at me i see the way that aint you i love the way you dance to the beat of a song i kiss a dream i feel the way that youre smiling when i wake up to the music where do i go when do i go i cant keep my cool cause im getting tired cant stay here on the weekends cant hang out here on the street not like you cant stay in bed or in a bar cant eat my food because you dont know me anymore it cant be no you cant always have your cake and eat my cake but its not that bad that if all i do is lie i like it i like it i like it i like it i like it cant always have my cake and eat my cake cant lie but its not that bad that if all i do is lie i like it i like it i like it yeah i like it i like it cause when you fall asleep i look in your eyes again i like it i like it i like it cant always have my cake and eat my cake but its not that bad that if all i do is lie i like it i like it i like it cant always have my cake and eat my cake cant lie but its not that bad that if all i do is lie oh i like it i like it i like it cant always have my cake and eat my cake cant lie but its not that bad that if all i do is lie oh i like it i like it i like it cant always have my cake and eat my cake cant lie but its not that bad that if all i do is lie dont you know youre getting older no you dont understand i get older no you dont understand i get older if youre a loser take it off youre a loser i dont understand no we dont understand dont understand dont understand dont understand dont understand dont understand dont understand dont understand dont understand dont understand dont understand dont understand dont understand dont understand dont understand cant be a loser dont understand dont understand dont understand dont understand dont understand dont understand dont understand dont understand dont understand dont understand dont understand dont understand dont understand dont understand dont understand dont understand dont understand cant be a loser dont understand dont understand dont understand dont understand dont understand dont understand dont understand dont understand dont understand dont understand dont understand dont understand dont understand dont understand dont understand just a silly dream just a stupid life just a stupid dream just a silly dream cant be a loser cant be a loser i dont understand no dont understand dont understand dont understand dont understand dont understand dont understand dont understand dont understand dont understand dont understand to me i know this is only my life here in this town i guess this is only my life if i cant find the words to say to you i can die in the sand and be a king and a queen i know its only my life as a little baby i know its only my life i would be a king and a queen just a stupid dream\n",
            "\n",
            "[410 | 962.45] loss=2.86 avg=2.92\n",
            "[420 | 985.52] loss=2.80 avg=2.92\n",
            "[430 | 1008.61] loss=3.11 avg=2.92\n",
            "[440 | 1031.78] loss=2.72 avg=2.92\n",
            "[450 | 1054.93] loss=2.57 avg=2.91\n",
            "[460 | 1078.05] loss=2.50 avg=2.90\n",
            "[470 | 1101.14] loss=2.66 avg=2.89\n",
            "[480 | 1124.22] loss=2.78 avg=2.89\n",
            "[490 | 1147.30] loss=2.61 avg=2.88\n",
            "[500 | 1170.39] loss=2.87 avg=2.88\n",
            "Saving checkpoint/run1/model-500\n",
            "[510 | 1196.32] loss=2.82 avg=2.88\n",
            "[520 | 1219.52] loss=2.98 avg=2.88\n",
            "[530 | 1242.59] loss=3.29 avg=2.89\n",
            "[540 | 1265.68] loss=2.94 avg=2.89\n",
            "[550 | 1288.80] loss=2.52 avg=2.88\n",
            "[560 | 1311.95] loss=2.23 avg=2.87\n",
            "[570 | 1335.09] loss=2.68 avg=2.86\n",
            "[580 | 1358.23] loss=2.82 avg=2.86\n",
            "[590 | 1381.36] loss=3.03 avg=2.87\n",
            "[600 | 1404.48] loss=2.76 avg=2.86\n",
            "======== SAMPLE 1 ========\n",
            " heart i dont have so many lovers you want to hear me say hey hey hey come on baby come on i wanna hear you say hey hey hey youve never tried to play me off but in this game youll try my game theres no fear in me its a pain you dont know about the ones that love you youre not a man youre not one for me you wanna hear me say hey hey hey hey hey youre not a man cause im too scared to be like this baby when youre sleeping in my bed youre no girl that i dont know about you i hear you cry when youre in my arms my hearts are just a little higher dont you know that ill survive no im no man youre not one for me you wanna hear me say hey hey hey you cant you hear me cry out and ask for me hey hey you aint gonna take me away theres no need to fear theres no pain no need to feel the pain in me youre just another bad dream no shame in this world i dont need the pain in me youre not one for me you wanna hear me say hey hey hey you dont know what ill do for you or me hey hey you cant you hear me cry out and ask for me hey hey you aint gonna take me away theres no need to fear theres no pain no need to feel the pain in me youre just another bad dream no shame in this world i dont need the pain in me youre not one for me you wanna hear me say hey hey hey you dont know what ill do for you or me hey hey you cant you hear me cry out and ask for me hey hey you aint gonna take me away theres no need to fear theres no pain no need to feel the pain in me you dont need the pain in me youre just a bad dream no shame in this world i dont need the pain in me youre not one for me you wanna hear me say hey hey hey you cant you hear me cry out and ask for me hey hey you aint gonna take me away theres no need to fear theres no pain no need to feel the pain in me you dont need the pain in me youre just a bad dream no shame in this world i dont need the pain in me youre not one for me you wanna hear me say hey hey hey you cant you hear me cry out and ask for me hey hey you aint gonna take me away theres no need to fear theres no pain no need to feel the pain in me you dont need the pain in me youre just a bad dream no shame in this world i dont need the pain in me youre not one for me you wanna hear me say hey hey hey you cant you hear me cry out and ask for me hey hey you aint gonna take me away theres no need to fear theres no pain no need to feel the pain in me you dont need the pain in me youre just a bad dream no shame in this world i dont need the pain in me youre not one for me you wanna hear me say hey hey hey you dont know what ill do for you or me hey hey you cant you hear me cry out and beg me to hear you say hey hey hey you cant you hear me cry out and ask for me hey hey you aint gonna take me away theres no need to fear theres no pain no need to feel the pain in me you dont need the pain in me you are the reason that you do not feel well just like a bird that flies you fly me the reason i cannot breathe ill fly you ill fly you ill fly you ill fly you ill fly you ill fly you ill fly you ill fly you ill fly you oh oh oh you are the reason that you do not feel ill tell you your reasons ill say a prayer ill take me the way that you need me ill hold me the distance from you ill never touch you your feet ill never hold you ill never fall ill hold me you will never touch you your hair aching a little more than anything that youve ever had i know ill love you ill love you youll love you ill love you oh oh oh ill be your only friend i love you so i love you so i will love you ill love you well and ill love you oh oh oh ill be your only friend i love you so im glad that your body is mine to love and ill be that you will never touch you you ill love you im glad that you dont need anyone else ill be your only friend i love you so i love you so i will love you ill love you well when i walk away the time that i leave is long enough to say goodbye i will walk away but ill come alive when i see you again i shall look into your eyes and i will never let you touch me again i will walk away and i will never let you touch me again i will walk away and i will never let you touch me again i will walk away and i will never let you touch me again and i will walk away and i will walk away\n",
            "\n",
            "[610 | 1436.58] loss=2.43 avg=2.85\n",
            "[620 | 1459.66] loss=2.79 avg=2.85\n",
            "[630 | 1482.79] loss=2.71 avg=2.85\n",
            "[640 | 1505.91] loss=2.71 avg=2.85\n",
            "[650 | 1529.01] loss=3.22 avg=2.85\n",
            "[660 | 1552.10] loss=2.64 avg=2.85\n",
            "[670 | 1575.22] loss=2.29 avg=2.84\n",
            "[680 | 1598.36] loss=2.98 avg=2.84\n",
            "[690 | 1621.53] loss=2.59 avg=2.84\n",
            "[700 | 1644.68] loss=3.25 avg=2.84\n",
            "[710 | 1667.81] loss=2.92 avg=2.85\n",
            "[720 | 1690.92] loss=2.73 avg=2.84\n",
            "[730 | 1714.00] loss=2.21 avg=2.83\n",
            "[740 | 1737.11] loss=2.65 avg=2.83\n",
            "[750 | 1760.23] loss=2.59 avg=2.82\n",
            "[760 | 1783.29] loss=2.35 avg=2.81\n",
            "[770 | 1806.42] loss=2.10 avg=2.80\n",
            "[780 | 1829.57] loss=2.55 avg=2.80\n",
            "[790 | 1852.69] loss=2.54 avg=2.79\n",
            "[800 | 1875.76] loss=2.94 avg=2.79\n",
            "======== SAMPLE 1 ========\n",
            " record was when i heard the buzz i still see my memories you got the sound too i never thought id end up where you are again but then the next day i heard that it was your name that you had on your lips but you werent so you came up through the crowd then you took me to dinner youre a star and a dancer and everything about you is so crazy youre so hot hot hot hot hot like youre like a movie and i can feel it creeping in through those dark sunglasses your fingers in my hair when we walk into the room just to rock and roll youre just hot hot hot hot hot yeah youre just hot hot hot hot hot like youre like a movie and i can feel it creeping in through those dark sunglasses your fingers in my hair when we walk into the room just to rock and roll youre just hot hot hot hot hot like youre like a movie and i can feel it creeping in through those dark sunglasses your fingers in my hair when we walk into the room just to rock and roll youre just hot hot hot hot hot like youre like a movie and i can feel it creeping in through those dark sunglasses your fingers in my hair when we walk into the room just to rock and roll youre just hot hot hot hot like youre like a movie youre just hot hot hot hot like youre like a movie when we walk into the room just to rock and roll youre just hot hot hot hot like youre like a movie when we walk into the room just to rock and roll youre just hot hot hot youre just hot hot like youre like a movie i know i know theres no excuses the way you walk to the movies and the way youre gonna let that cloud keep you down i know i know i bet ill never be in your position i know i bet ill never be true you are the type of person that wont even let the things youve ever done get by oh im not that type of person cause im a loser a fool too much too much too much i’m too much a fool and i will never break your hearts if you were right so give it up give up give up give up give up well well well well well i feel like the perfect man a heart like you is the best that i ever had so give up give it up give it up give up give it up well well well well we’ve been through a lot we deserve to but that never gets no better the way you walk to the movies and the way youre gonna let that cloud keep you down i know i know i bet ill never be in your position i know i bet ill never be true you are the type of woman thatll give you up give up give you give up give it too well well well well we’ve been through a lot we deserve to but that never gets no better the way you walk to the movies and the way youre gonna let that cloud keep you down i know i know i bet ill never be in your position i know i bet ill never be true you are the type of woman thatll give you up give up give it up give away give it up hey lets watch this man move and hold on theres gotta be somethin for him to say we dont need this no more and why we gotta watch a man who can do it but i aint seen him play no more hes been too busy waiting for the moment before they see somethin that he can do and they know he wont be the type of woman thatll give you up give it up give it up give it up give it up well well well well well i feel like the perfect man a heart like you is the best that i ever had so give up give it up give it up give it up well well well well well well i feel like the perfect man a heart like you is the best every day he gets his baby and he waits a lifetime for his son he wants it for himself and he waits a lifetime waiting for his son for theirs every other day he waits waiting for the moment before the moment of truth what else does he have to be waiting for another day of truth wait for the moment before the moment of truth what else does he have to be waiting for another day of truth wait for the moment before the moment of truth what else does he have to wait waiting for another day of truth wait for the moment before the moment of truth what else does he have to wait waiting waiting waiting waiting waiting waiting waiting waiting waiting waiting wait waiting waiting waiting waiting waiting waiting waiting waiting waiting waiting waiting waiting waiting waiting waiting waiting waiting waiting waiting waiting waiting waiting waiting waiting waiting waiting wait waiting waiting wait waiting waiting waiting waiting waiting waiting waiting waiting waiting waiting waiting waiting waiting waiting wait waiting waiting waiting waiting waiting waiting waiting waiting waiting waiting waiting waiting waiting waiting waiting wait waiting waiting waiting waiting waiting waiting waiting waiting waiting waiting waiting waiting waiting waiting waiting waiting waiting waiting waiting waiting waiting waiting waiting waiting waiting waiting waiting waiting waiting waiting waiting waiting waiting waiting wait waiting waiting waiting waiting waiting waiting waiting waiting waiting waiting waiting waiting wait waiting waiting waiting waiting waiting waiting\n",
            "\n",
            "[810 | 1907.87] loss=3.04 avg=2.80\n",
            "[820 | 1930.95] loss=2.77 avg=2.80\n",
            "[830 | 1954.04] loss=2.53 avg=2.79\n",
            "[840 | 1977.11] loss=2.75 avg=2.79\n",
            "[850 | 2000.21] loss=1.87 avg=2.78\n",
            "[860 | 2023.30] loss=2.48 avg=2.77\n",
            "[870 | 2046.40] loss=2.68 avg=2.77\n",
            "[880 | 2069.53] loss=2.29 avg=2.76\n",
            "[890 | 2092.65] loss=2.50 avg=2.76\n",
            "[900 | 2115.76] loss=2.63 avg=2.76\n",
            "[910 | 2138.87] loss=2.60 avg=2.75\n",
            "[920 | 2162.01] loss=2.35 avg=2.75\n",
            "[930 | 2185.14] loss=2.97 avg=2.75\n",
            "[940 | 2208.28] loss=2.58 avg=2.75\n",
            "[950 | 2231.38] loss=2.13 avg=2.74\n",
            "[960 | 2254.47] loss=2.69 avg=2.74\n",
            "[970 | 2277.55] loss=2.83 avg=2.74\n",
            "[980 | 2300.64] loss=2.41 avg=2.73\n",
            "[990 | 2323.70] loss=2.53 avg=2.73\n",
            "[1000 | 2346.78] loss=2.50 avg=2.73\n",
            "Saving checkpoint/run1/model-1000\n",
            "WARNING:tensorflow:From /tensorflow-1.15.2/python3.7/tensorflow_core/python/training/saver.py:963: remove_checkpoint (from tensorflow.python.training.checkpoint_management) is deprecated and will be removed in a future version.\n",
            "Instructions for updating:\n",
            "Use standard file APIs to delete files with this prefix.\n"
          ],
          "name": "stdout"
        }
      ]
    },
    {
      "cell_type": "markdown",
      "metadata": {
        "id": "_1OuSo-Go6pB"
      },
      "source": [
        "#### saving model checkpoints to drive"
      ]
    },
    {
      "cell_type": "code",
      "metadata": {
        "id": "vkxuS1DFzO9N"
      },
      "source": [
        "gpt2.copy_checkpoint_to_gdrive(run_name='run1')"
      ],
      "execution_count": null,
      "outputs": []
    },
    {
      "cell_type": "markdown",
      "metadata": {
        "id": "fDcML9IY0kS_"
      },
      "source": [
        "Load trained model checkpoints\n"
      ]
    },
    {
      "cell_type": "code",
      "metadata": {
        "colab": {
          "base_uri": "https://localhost:8080/"
        },
        "id": "gXt86VGj0i-Z",
        "outputId": "affc6ab4-3178-4f89-aac0-d552eee99fb6"
      },
      "source": [
        "%tensorflow_version 1.x\n",
        "import gpt_2_simple as gpt2\n",
        "from datetime import datetime"
      ],
      "execution_count": 1,
      "outputs": [
        {
          "output_type": "stream",
          "text": [
            "TensorFlow 1.x selected.\n",
            "WARNING:tensorflow:\n",
            "The TensorFlow contrib module will not be included in TensorFlow 2.0.\n",
            "For more information, please see:\n",
            "  * https://github.com/tensorflow/community/blob/master/rfcs/20180907-contrib-sunset.md\n",
            "  * https://github.com/tensorflow/addons\n",
            "  * https://github.com/tensorflow/io (for I/O related ops)\n",
            "If you depend on functionality not listed there, please file an issue.\n",
            "\n"
          ],
          "name": "stdout"
        }
      ]
    },
    {
      "cell_type": "code",
      "metadata": {
        "colab": {
          "base_uri": "https://localhost:8080/"
        },
        "id": "WQo9glnr0wSu",
        "outputId": "6500e4eb-7970-44a4-afe6-0953bdd18007"
      },
      "source": [
        "sess = gpt2.start_tf_sess()\n",
        "gpt2.load_gpt2(sess, run_name='run1')"
      ],
      "execution_count": null,
      "outputs": [
        {
          "output_type": "stream",
          "text": [
            "Loading checkpoint checkpoint/run1/model-1000\n",
            "INFO:tensorflow:Restoring parameters from checkpoint/run1/model-1000\n"
          ],
          "name": "stdout"
        }
      ]
    },
    {
      "cell_type": "markdown",
      "metadata": {
        "id": "VpZX96VS2l51"
      },
      "source": [
        "# Training Model 2 `GPT2-355m`"
      ]
    },
    {
      "cell_type": "code",
      "metadata": {
        "id": "X8PSHsyr30pb"
      },
      "source": [
        "file_name='/content/drive/MyDrive/Machine learning/RNN/Lyrics_Generation/Data/final_text_corpus.txt'"
      ],
      "execution_count": 2,
      "outputs": []
    },
    {
      "cell_type": "code",
      "metadata": {
        "colab": {
          "base_uri": "https://localhost:8080/"
        },
        "id": "F11th4gI4jZ2",
        "outputId": "0a81adc8-1c83-4879-a647-23bd583b6b85"
      },
      "source": [
        "gpt2.download_gpt2(model_name='355M')"
      ],
      "execution_count": 15,
      "outputs": [
        {
          "output_type": "stream",
          "text": [
            "Fetching checkpoint: 1.05Mit [00:00, 690Mit/s]                                                      \n",
            "Fetching encoder.json: 1.05Mit [00:00, 2.84Mit/s]\n",
            "Fetching hparams.json: 1.05Mit [00:00, 355Mit/s]                                                    \n",
            "Fetching model.ckpt.data-00000-of-00001: 1.42Git [03:35, 6.59Mit/s]\n",
            "Fetching model.ckpt.index: 1.05Mit [00:00, 275Mit/s]                                                \n",
            "Fetching model.ckpt.meta: 1.05Mit [00:00, 3.33Mit/s]\n",
            "Fetching vocab.bpe: 1.05Mit [00:00, 4.26Mit/s]\n"
          ],
          "name": "stderr"
        }
      ]
    },
    {
      "cell_type": "code",
      "metadata": {
        "colab": {
          "base_uri": "https://localhost:8080/"
        },
        "id": "7mKAj_AJ37U7",
        "outputId": "b3770f78-5d81-4b69-d133-2797351ad61b"
      },
      "source": [
        "sess= gpt2.start_tf_sess()\n",
        "\n",
        "gpt2.finetune(sess,\n",
        "              dataset=file_name,\n",
        "              steps=1000,\n",
        "              model_name='355M',\n",
        "              restore_from='fresh',\n",
        "              run_name='run2',\n",
        "              print_every=10,\n",
        "              sample_every=200,\n",
        "              save_every=500)\n"
      ],
      "execution_count": 3,
      "outputs": [
        {
          "output_type": "stream",
          "text": [
            "WARNING:tensorflow:From /usr/local/lib/python3.7/dist-packages/gpt_2_simple/src/sample.py:17: where (from tensorflow.python.ops.array_ops) is deprecated and will be removed in a future version.\n",
            "Instructions for updating:\n",
            "Use tf.where in 2.0, which has the same broadcast rule as np.where\n",
            "WARNING:tensorflow:From /usr/local/lib/python3.7/dist-packages/gpt_2_simple/src/memory_saving_gradients.py:62: get_backward_walk_ops (from tensorflow.contrib.graph_editor.select) is deprecated and will be removed after 2019-06-06.\n",
            "Instructions for updating:\n",
            "Please use tensorflow.python.ops.op_selector.get_backward_walk_ops.\n",
            "Loading checkpoint models/355M/model.ckpt\n",
            "INFO:tensorflow:Restoring parameters from models/355M/model.ckpt\n"
          ],
          "name": "stdout"
        },
        {
          "output_type": "stream",
          "text": [
            "\r  0%|          | 0/1 [00:00<?, ?it/s]"
          ],
          "name": "stderr"
        },
        {
          "output_type": "stream",
          "text": [
            "Loading dataset...\n"
          ],
          "name": "stdout"
        },
        {
          "output_type": "stream",
          "text": [
            "100%|██████████| 1/1 [00:08<00:00,  8.22s/it]\n"
          ],
          "name": "stderr"
        },
        {
          "output_type": "stream",
          "text": [
            "dataset has 1807805 tokens\n",
            "Training...\n",
            "[10 | 23.28] loss=3.61 avg=3.61\n",
            "[20 | 39.51] loss=2.20 avg=2.90\n",
            "[30 | 56.09] loss=2.64 avg=2.81\n",
            "[40 | 72.53] loss=2.58 avg=2.75\n",
            "[50 | 88.74] loss=2.88 avg=2.78\n",
            "[60 | 104.94] loss=2.53 avg=2.74\n",
            "[70 | 121.22] loss=2.24 avg=2.66\n",
            "[80 | 137.61] loss=2.44 avg=2.63\n",
            "[90 | 153.97] loss=3.34 avg=2.72\n",
            "[100 | 170.20] loss=1.97 avg=2.64\n",
            "[110 | 186.43] loss=2.42 avg=2.62\n",
            "[120 | 202.76] loss=3.94 avg=2.73\n",
            "[130 | 219.09] loss=2.49 avg=2.71\n",
            "[140 | 235.44] loss=2.41 avg=2.69\n",
            "[150 | 251.77] loss=3.25 avg=2.73\n",
            "[160 | 268.08] loss=2.36 avg=2.71\n",
            "[170 | 284.36] loss=2.47 avg=2.69\n",
            "[180 | 300.67] loss=2.68 avg=2.69\n",
            "[190 | 316.96] loss=4.28 avg=2.78\n",
            "[200 | 333.26] loss=3.26 avg=2.81\n",
            "======== SAMPLE 1 ========\n",
            " a the first thing i thought was oh aint that why i got so high so high and nothin bout you im here to give this place a try i love the vibe the way the girls run when i see you i know you you dont hate me i know that you like me and i know i know that you want me you need me now but you never loved me if i never loved you then you never loved me dont give up you know we are just living and our lives together are short if not short then not long if not short then not long if not short then not long you know where we are going i love you and i knew it when i was young oh baby baby baby baby i love you love you love you love you love you oh baby baby baby baby oh baby baby baby baby baby baby baby baby baby we are all living together are we not living together are we not living together are we not living together baby yeah yeah yeah baby we know where we are going and we cant wait to go baby baby baby baby so close so close so so close so close so close so close baby so close so close so close so close baby so close so close so close so close baby so close baby so close so close so close yeah yeah yeah yeah yeah yeah yeah yeah yeah yeah yeah yeah yeah yeah yeahyeah yeah yeah yeahyeah yeahyeahyeahyeahyeah yeah yeah yeah yeah yeah yeah yeah yeah yeah yeah yeah yeah yeahyeahyeahyeahyeahyeahyeahyeah yeah yeah yeah yeah yeah yeah yeah yeah yeah yeah yeah yeah ooh baby baby baby baby baby you look so pretty on my phone im gonna take my time baby im looking at that picture of you standing there with your pants down on that carpet thats just how its like to be me on that sofa and your hand is holding a glass of wine with your feet up on my lap and youre all mine and youre giving me your love and your money and the things youve said and weve all done weve all taken a hit and weve had a drink and weve had our fun and weve had a laugh and weve had a party and its like you cant wait no no no no no im gonna take time and im walking into the house and i feel like im in love but i dont know how i should go with a feeling that youre the only one that makes me cry i know you wont feel the way i feel if i never touch your heart i wanna love you but still it makes me mad i know it makes me mad and i know it makes me mad and i know it makes me mad but you keep me here and it makes me mad i know it makes me mad but i know it makes me mad but you keep me here and it makes me mad so im getting back here to the house and i feel like im out on a date on the street with a guy i can keep him out but then he walks away so im got to ask him out but no you dont know me well and i cant help but think i feel too good at the moment and i cant breathe im still thinking i like to be you but i love you and love you i love you but no i know and it makes me mad its like i gotta go with the flow its like i gotta go with the flow my body feels the way it did when i was here and its like im out on a date on the street with a guy i can keep him out but then he walks away so im got to ask him out but no you dont know me well and i cant help but think i feel too good at the moment and i cant breathe im still thinking im gonna go with the flow its like i gotta go with the flow my body feels the way it did so when im here and its like im out on a date on the street with a guy i can keep him out but then he walks away so im got to ask him out but no you dont know me well and i cant help but think i feel too good at the moment and i cant breathe Im still thinking im gonna go with the flow its like i gotta go with the flow my body feels the way it did so when im here and its like im out on a date on the street with a guy i can keep him out but then he walks away so im got to ask him out but no you dont know me well and i cant help but think i feel too good at the moment and i cant breathe im still thinking im gonna go with the flow its like i gotta go with the flow my body feels the way it did so when im here and its like im out on a date on the street with a guy i can keep him out but then he walks away so im got to ask him out but no you dont know me well and i cant help but think i feel too good at the moment and i cant breathe im still gonna get up here im back at the club and im not a party boy just a guy i know so i go where i need to go and theres a place on the floor that you can go and i wanna say just the other day was\n",
            "\n",
            "[210 | 372.09] loss=2.07 avg=2.77\n",
            "[220 | 388.31] loss=4.12 avg=2.84\n",
            "[230 | 404.50] loss=2.36 avg=2.81\n",
            "[240 | 420.70] loss=2.86 avg=2.82\n",
            "[250 | 436.91] loss=3.67 avg=2.86\n",
            "[260 | 453.09] loss=2.34 avg=2.83\n",
            "[270 | 469.29] loss=4.78 avg=2.92\n",
            "[280 | 485.49] loss=2.87 avg=2.91\n",
            "[290 | 501.70] loss=2.78 avg=2.91\n",
            "[300 | 517.91] loss=2.37 avg=2.89\n",
            "[310 | 534.11] loss=2.16 avg=2.86\n",
            "[320 | 550.27] loss=3.24 avg=2.87\n",
            "[330 | 566.45] loss=3.74 avg=2.90\n",
            "[340 | 582.65] loss=2.47 avg=2.89\n",
            "[350 | 598.84] loss=2.79 avg=2.89\n",
            "[360 | 615.05] loss=2.13 avg=2.86\n",
            "[370 | 631.29] loss=2.37 avg=2.85\n",
            "[380 | 647.49] loss=3.74 avg=2.87\n",
            "[390 | 663.70] loss=2.24 avg=2.85\n",
            "[400 | 679.97] loss=2.60 avg=2.85\n",
            "======== SAMPLE 1 ========\n",
            " to all my fans that that they are my new friend i was never so lonely that i never called you back i cant believe how these days gone by what can i say when theyll still be talking you gotta make them laugh the same way that i laughed at the end of a bad joke no i wasnt joking no i swear i meant the word like jokingly well ill be sorry no i dont mean to be an asshole you gotta do what i wasnt trying to do i was always just trying to be funny no i swear it was a poor idea to give up my life on a bad note well i can get the hell off my own behind i am a free spirit i can dance with no hands i may only dance once in my lifetime well if anybody in this world is gonna love me then so be it well i can get the hell off my own behind i can dance with no hands i may only dance once in my lifetime well if anybody in this world is gonna love me then so be it i just cant make it if we cannot dance in time you gotta dance with no hands i may only dance once in my lifetime well if anybody in this world is gonna love me then so be it this world is mine to save well i may only dance once in my lifetime well if anybody in this world is gonna love me then so be it this world is mine to save well if anybody in this world is gonna love me then so be it ive been here since i can remember all this time ive been here all of this time ive been here all of this time ive been here all of this time ive been here all of this time ive been here all of this time i dont even know where i am ive been here all of this time ive been here all of this time ive been here all of this all of all of this all of all of all of all of all of all of all all of all of all of all of my baby all of my daddy all of these houses all of these bridges all these cars all those roads all those roads all this money all this space all these people aint gonna come to my rescue my daddy dont mean to be rude they are just doing what they gotta all of this money all this space all these people aint gonna come to my rescue my daddy dont mean to be rude they are just doing what they gotta all of this money all this space all those people aint gonna come to my rescue my daddy dont mean to be rude they are just doing what they gotta all of this money all this space all these people aint gonna come to my rescue my daddy dont mean to be rude they are just doing what they gotta all of this money all this space all this time all these people aint gonna come to my rescue my daddy dont mean to be rude they are just doing what they gotta all of this money all this space all these people aint gonna come to my rescue my daddy you better believe all this money all this space all these people aint gonna show cause they aint gonna come cause they aint gonna come cause there aint gonna be no cause all these years aint gonna change aint ever gonna change aint ever gonna change cause those kids aint gonna ever change cause my aunty never gonna change cause thats where its at all the time aint gonna stop for a minute cause i already know all about the old days with those pictures on the wall it aint gonna change cause we all the same youre never gonna change they aint gonna get up so you know the deal just like i know all about the old days with those pictures on the wall it aint gonna change cause we all the same youre never gonna change i bet you never seen another blue as blue as blue as Blue as blue as blue as blue as blue as blue as blue as blue as blue as blue as blue as blue as blue as blue as blue as blue as blue as blue as blue as blue as blue as blue as blue as blue as blue as blue as blue as blue as blue as blue as blue as blue as blue as blue as blue as blue as blue as blue as blue as blue as blue as blue as blue as blue as blue as blue as blue as blue as blue as blue as blue as blue as blue as blue as blue as blue as blue as blue as the colors that you see in this world blue sky blue sky blue sky blue sky blue sky blue sky blue sky blue sky blue sky blue sky blue sky blue sky blue sky blue sky blue sky blue sky blue sky blue sky blue sky blue sky blue sky blue sky blue sky blue sky blue sky blue sky blue sky blue sky blue sky blue sky blue sky blue sky blue sky blue sky blue sky blue sky blue sky blue sky blue sky blue sky blue sky blue sky blue sky blue sky blue sky blue sky blue sky blue sky blue sky blue sky blue sky blue sky blue sky blue sky blue sky blue sky blue sky blue sky blue baby blue as blue as blue as blue as blue as blue as blue as blue as blue as blue as\n",
            "\n",
            "[410 | 716.51] loss=4.04 avg=2.88\n",
            "[420 | 732.67] loss=1.60 avg=2.84\n",
            "[430 | 748.87] loss=2.26 avg=2.83\n",
            "[440 | 765.13] loss=2.47 avg=2.82\n",
            "[450 | 781.36] loss=2.56 avg=2.81\n",
            "[460 | 797.54] loss=2.59 avg=2.80\n",
            "[470 | 813.72] loss=2.90 avg=2.81\n",
            "[480 | 829.94] loss=2.67 avg=2.80\n",
            "[490 | 846.17] loss=2.57 avg=2.80\n",
            "[500 | 862.40] loss=3.04 avg=2.80\n",
            "Saving checkpoint/run2/model-500\n",
            "[510 | 886.27] loss=2.13 avg=2.79\n",
            "[520 | 902.63] loss=3.64 avg=2.81\n",
            "[530 | 918.88] loss=2.80 avg=2.81\n",
            "[540 | 935.02] loss=2.76 avg=2.81\n",
            "[550 | 951.15] loss=2.97 avg=2.81\n",
            "[560 | 967.39] loss=3.26 avg=2.82\n",
            "[570 | 983.64] loss=3.27 avg=2.83\n",
            "[580 | 999.84] loss=2.41 avg=2.82\n",
            "[590 | 1016.01] loss=2.35 avg=2.81\n",
            "[600 | 1032.23] loss=2.70 avg=2.81\n",
            "======== SAMPLE 1 ========\n",
            " vacation in a rented piper just to hang around with you when we get back home and you know we are going to make it ok yeah we got the answer you see the answer that you think is obvious when you are feeling blue of spirit oh im looking forward to the next one on your list one where it starts to snow well theres nothing else on your list that i wanna stay to watch you play when it starts to rain one where it starts to snow well theres nothing else on your list that i wanna stay to watch you play the day that it starts to rain one where it starts the weather changes one where it changes when you feel blue of spirit im looking forward to the next one one where it starts to rain well theres nothing else on your list that i wanna stay to watch you play cause nothing else on your list that i wanna stay to watch you play the day that it starts to rain one where it starts to rain well theres nothing else on your list that i wanna stay to watch you play one where it starts to rain one where it starts raining one where it starts the weather changes one where it changes the weather change one where it changes well theres nothing else on your list that i wanna stay to watch you play the day that it starts to rain one where it starts to rain one where it changes one where it changes the weather change one where it changes well theres nothing else on your list that i wanna stay to watch you play hey theres nothing else on your list that i wanna stay to watch you play one where it starts the weather changes one where it changes one where it changes the weather change one where it changes well theres nothing else on your list that i wanna stay to watch you play one where it starts the weather changes one where it changes well theres nothing else on your list that i wanna stay to watch you play i know that they can wait but when i hear you say goodbye and i hear the same old song that i used to sing then i hear the same old song again i cant forget the same old song that i used to sing it takes me back a day or two there before then theres a song about a lonely man a lonely girl all alone trying to find love in love just one lonely lonely lonely lonely lonely lonely lonely lonely lonely lonely lonely lonely lonely lonely lonely lonely lonely lonely lonely lonely lonely lonely lonely lonely lonely lonely lonely lonely lonely lonely lonely lonely lonely lonely lonely lonely lonely lonely lonely lonely lonely lonely lonely lonely lonely lonely lonely lonely sad lonely lonely lonely lonely loneliness lonely lonely lonely lonely lonely lonely lonely lonely lonely lonely lonely lonely lonely lonely lonely lonely lonely lonely lonely lonely lonely lonely lonely lonely lonely lonely lonely lonely lonely lonely lonely lonely lonely lonely lonely lonely lonely lonely lonely lonely lonely lonely lonely lonely lonely lonely lonely lonely lonely lonely lonely lonely lonely lonely lonely lonely lonely lonely lonely lonely lonely lonely lonely lonely lonely depressed loneliness lonely unl unl in love in the past the past oh whoa im trying to catch a little break through here and there she looks like she wants to be with me but its not working she looks like she does not want it this time in the past the past oh whoa im trying to catch a little break through here and there whoa im trying to catch a little break through here and there oh whoa im trying to catch a little break through now and there and there you make me wanna go crazy this break through break through break through break through break through break through break through here and there oh whoa im trying to catch a little break through break through here and there whoa im trying to catch a little break through now and there and there oh whoa i dont wanna leave this town oh whoa im trying to catch a little break through break through break through break through break through break through break through here and there oh whoa im trying to catch a little break through break through here and there whoa im trying to catch a little break through now and there and there oh whoa i dont wanna leave this town oh whoa thats got to end this game so so good to know there aint no end and i know you want it all so so so so so good to know hes gonna keep on gonna find everyones going to get in the way oh oh oh oh i dont wanna leave this town oh whoa thats got to end this game and i know you want it all to get in the way oh oh oh oh oh i dont wanna leave this town oh whoa thats gotta end this game and i know you want it all to get in the way oh oh oh oh oh oh i dont wanna leave this town oh whoa thats got to end this game and i know you want it all to get in the way oh oh oh oh oh i dont wanna leave this town oh whoa thats got to end this game that i aint leaving tonight i dont wanna let you down now that i dont wanna see you here it aint over so good to know there aint no need for regret yeah the best thing that could ever happen here it aint over no more no more no no more no more no more no more no more no\n",
            "\n",
            "[610 | 1068.81] loss=2.42 avg=2.80\n",
            "[620 | 1085.01] loss=1.88 avg=2.78\n",
            "[630 | 1101.28] loss=2.31 avg=2.77\n",
            "[640 | 1117.52] loss=2.85 avg=2.77\n",
            "[650 | 1133.75] loss=2.88 avg=2.77\n",
            "[660 | 1149.99] loss=3.00 avg=2.78\n",
            "[670 | 1166.18] loss=2.67 avg=2.78\n",
            "[680 | 1182.39] loss=2.33 avg=2.77\n",
            "[690 | 1198.60] loss=2.23 avg=2.76\n",
            "[700 | 1214.80] loss=2.97 avg=2.76\n",
            "[710 | 1231.01] loss=2.63 avg=2.76\n",
            "[720 | 1247.25] loss=3.15 avg=2.77\n",
            "[730 | 1263.44] loss=2.48 avg=2.76\n",
            "[740 | 1279.63] loss=2.57 avg=2.76\n",
            "[750 | 1295.85] loss=2.65 avg=2.76\n",
            "[760 | 1312.03] loss=2.24 avg=2.75\n",
            "[770 | 1328.22] loss=4.20 avg=2.77\n",
            "[780 | 1344.39] loss=2.54 avg=2.77\n",
            "[790 | 1360.57] loss=1.95 avg=2.75\n",
            "[800 | 1376.78] loss=3.21 avg=2.76\n",
            "======== SAMPLE 1 ========\n",
            " now there it is you got it made and everything feels so fine you got me so wrapped up in your arms you got me so caught up in your dreams that you have forgotten the things that you used to do you know i like the dream and i need to get away from here i know this might sound so strange but i will explain i really just like the dream you are what i dream about when all i have is in my head you are everything i love and i like them you are what i dream about when all i have is in my head you are everything i love your heart is where it belongs the love that makes you what you are i can be my own best friend and you can be nothing but an anchor in my life you are everything i love and i like them you have never been the type of girl you should not go to the beach with this guy if you want me to i can be everything from a young stripper as a woman as a lover or even as a bad boy because i really just like you so if you want me the way you are my own best friend and you can be nothing but an anchor in my life you are everything i love and i like them they dont know me they say dont trust me but they dont know who i am they just like me i do not understand why they think that they can never know me and then they wonder why they think i will never understand my life and they wonder why they think that i never find the meaning behind whats right in front of each other you come out with so much promise but you dont deliver what you say is just a lie that just gets them laughing but dont let it hold you down and i love you so so much you show me how to be who i am and you dont let me down so dont hold me down i promise that i will always love you i promise that i will always love you and let me know youre mine so dont want to feel me cry and let me know im yours so dont want to feel me cry when im feeling down im feeling so down cause i love you so much and i love your sweet love i tell you all ill show you all ill show you all my love and i promise that you can have me and if you dont like me you should have taken another shot that same night where you got a little spark there again again there comes a time in which you want to share all your love with somebody new but then you dont feel the same with me i promise that you can have me and if you dont like me you should have took another shot that same night where you got a little spark there again there comes a time in which you want to share all your love with somebody new but then you dont feel the same with me we got some good stories to tell the love between us is good too well be well be well just as love is well be a love is a love is well be well be well just as love is well be a treatise on our love so why don’t you tell him i will never speak of you without you to protect that sacred secret you left behind and i know you love me aint no way that you can hurt me or my girl i never would never love you no more and i bet all that weve got is a love is a beauty is a love is a love is a love is a love is a love is a love the one who loves you most will never regret the one who loves you less and the one who loves you more the one that you like and the one that you hate most will you ever love the one who loves you the most will never regret the one who loves you least and the one who loves you the next best thing your girl if you only know the way we are one who loves you most will never regret the one who loves you least and the one that loves you the next best thing your girl if you only know the way we are one who loves you least will never regret the one who loves you least and the one who loves you love yourself well maybe thats a misunderstanding i hope somebody on the other side will appreciate how i feel you tell me i am as free as a bird in the sky if you only know the way we are one who loves you least will never regret the one who loves you least and the one who loves you you let me take you for a spin if you only know the way we are one who loves you least will never regret the one who loves you least and the one who loves you love yourself well maybe thats a misunderstanding yeah i hope i havent let my mind get stuck down in the wrong place im not the type to stay in the club all alone if i could i would i might as well i know you dont like me or you dont love me i know you dont love me i guess what i am i dont have time for no other person i feel like it was meant to be i wish it was you that wanted me im not the type of person to wait if you only know the way i am one who loves you you least will never regret the one that loves\n",
            "\n",
            "[810 | 1413.36] loss=2.58 avg=2.76\n",
            "[820 | 1429.57] loss=2.50 avg=2.75\n",
            "[830 | 1445.76] loss=2.21 avg=2.74\n",
            "[840 | 1461.94] loss=2.30 avg=2.74\n",
            "[850 | 1478.13] loss=2.83 avg=2.74\n",
            "[860 | 1494.32] loss=3.00 avg=2.74\n",
            "[870 | 1510.54] loss=3.12 avg=2.75\n",
            "[880 | 1526.78] loss=2.75 avg=2.75\n",
            "[890 | 1543.04] loss=2.58 avg=2.75\n",
            "[900 | 1559.23] loss=2.26 avg=2.74\n",
            "[910 | 1575.45] loss=2.61 avg=2.74\n",
            "[920 | 1591.69] loss=3.16 avg=2.74\n",
            "[930 | 1607.95] loss=2.95 avg=2.75\n",
            "[940 | 1624.20] loss=2.32 avg=2.74\n",
            "[950 | 1640.44] loss=2.67 avg=2.74\n",
            "[960 | 1656.68] loss=2.69 avg=2.74\n",
            "[970 | 1672.92] loss=2.45 avg=2.73\n",
            "[980 | 1689.17] loss=2.08 avg=2.72\n",
            "[990 | 1705.41] loss=3.15 avg=2.73\n",
            "[1000 | 1721.69] loss=2.63 avg=2.73\n",
            "Saving checkpoint/run2/model-1000\n",
            "WARNING:tensorflow:From /tensorflow-1.15.2/python3.7/tensorflow_core/python/training/saver.py:963: remove_checkpoint (from tensorflow.python.training.checkpoint_management) is deprecated and will be removed in a future version.\n",
            "Instructions for updating:\n",
            "Use standard file APIs to delete files with this prefix.\n"
          ],
          "name": "stdout"
        }
      ]
    },
    {
      "cell_type": "markdown",
      "metadata": {
        "id": "Fm2cvsjxGGCD"
      },
      "source": [
        "#### save checkpoints to drive"
      ]
    },
    {
      "cell_type": "code",
      "metadata": {
        "id": "TcbKLf1J4fFC"
      },
      "source": [
        "gpt2.copy_checkpoint_to_gdrive(run_name='run2')"
      ],
      "execution_count": 4,
      "outputs": []
    },
    {
      "cell_type": "code",
      "metadata": {
        "id": "akwZ4Mcj6uyT"
      },
      "source": [
        ""
      ],
      "execution_count": null,
      "outputs": []
    }
  ]
}