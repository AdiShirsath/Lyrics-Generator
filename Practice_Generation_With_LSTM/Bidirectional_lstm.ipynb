{
  "nbformat": 4,
  "nbformat_minor": 0,
  "metadata": {
    "colab": {
      "name": "Bidirectional-lstm.ipynb",
      "provenance": []
    },
    "kernelspec": {
      "name": "python3",
      "display_name": "Python 3"
    },
    "language_info": {
      "name": "python"
    },
    "accelerator": "GPU"
  },
  "cells": [
    {
      "cell_type": "code",
      "metadata": {
        "id": "MCtCPMjkbqfg"
      },
      "source": [
        "from tensorflow.keras import Sequential\n",
        "from tensorflow.keras.layers import LSTM, Bidirectional, Dense,Dropout,Embedding\n",
        "from sklearn.model_selection import train_test_split\n",
        "import pickle \n",
        "from tensorflow.keras.utils import to_categorical\n",
        "import numpy as np"
      ],
      "execution_count": 1,
      "outputs": []
    },
    {
      "cell_type": "markdown",
      "metadata": {
        "id": "ACqPbS5sclWn"
      },
      "source": [
        "### Load preprocessed data "
      ]
    },
    {
      "cell_type": "code",
      "metadata": {
        "id": "D9zgLFa0cph-"
      },
      "source": [
        "with open('/content/drive/MyDrive/lyrics-generator/Data/sequences.txt', 'rb') as fp:\n",
        "  sequences= pickle.load(fp)"
      ],
      "execution_count": 2,
      "outputs": []
    },
    {
      "cell_type": "code",
      "metadata": {
        "id": "M9ezxkWrc7vg"
      },
      "source": [
        "with open('/content/drive/MyDrive/lyrics-generator/Data/next_word.txt', 'rb') as fp:\n",
        "  next_word= pickle.load(fp)"
      ],
      "execution_count": 3,
      "outputs": []
    },
    {
      "cell_type": "code",
      "metadata": {
        "id": "iID5i2_bw35G"
      },
      "source": [
        "with open('/content/drive/MyDrive/lyrics-generator/Data/word_indices.txt', 'rb') as fp:\n",
        "  word_indices= pickle.load(fp)"
      ],
      "execution_count": 4,
      "outputs": []
    },
    {
      "cell_type": "code",
      "metadata": {
        "id": "hG9MfpSI_t-f"
      },
      "source": [
        "with open('/content/drive/MyDrive/lyrics-generator/Data/indices_word.txt', 'rb') as fp:\n",
        "  indices_word= pickle.load(fp)"
      ],
      "execution_count": 5,
      "outputs": []
    },
    {
      "cell_type": "code",
      "metadata": {
        "colab": {
          "base_uri": "https://localhost:8080/"
        },
        "id": "TnwJcc6_c-UI",
        "outputId": "f23fbbf1-dc50-46e9-f178-10ad2f2d1a8f"
      },
      "source": [
        "sequences[:10]"
      ],
      "execution_count": 6,
      "outputs": [
        {
          "output_type": "execute_result",
          "data": {
            "text/plain": [
              "[['but', 'he', 'wasnt', 'a', 'match'],\n",
              " ['he', 'wasnt', 'a', 'match', 'wrote'],\n",
              " ['wasnt', 'a', 'match', 'wrote', 'some'],\n",
              " ['a', 'match', 'wrote', 'some', 'songs'],\n",
              " ['match', 'wrote', 'some', 'songs', 'about'],\n",
              " ['wrote', 'some', 'songs', 'about', 'ricky'],\n",
              " ['some', 'songs', 'about', 'ricky', 'now'],\n",
              " ['songs', 'about', 'ricky', 'now', 'i'],\n",
              " ['about', 'ricky', 'now', 'i', 'listen'],\n",
              " ['ricky', 'now', 'i', 'listen', 'and']]"
            ]
          },
          "metadata": {
            "tags": []
          },
          "execution_count": 6
        }
      ]
    },
    {
      "cell_type": "code",
      "metadata": {
        "colab": {
          "base_uri": "https://localhost:8080/"
        },
        "id": "geyCd7YKdACN",
        "outputId": "55700c13-b9b0-4386-be1e-339d907cd8b4"
      },
      "source": [
        "next_word[:10]"
      ],
      "execution_count": 7,
      "outputs": [
        {
          "output_type": "execute_result",
          "data": {
            "text/plain": [
              "['wrote',\n",
              " 'some',\n",
              " 'songs',\n",
              " 'about',\n",
              " 'ricky',\n",
              " 'now',\n",
              " 'i',\n",
              " 'listen',\n",
              " 'and',\n",
              " 'laugh']"
            ]
          },
          "metadata": {
            "tags": []
          },
          "execution_count": 7
        }
      ]
    },
    {
      "cell_type": "markdown",
      "metadata": {
        "id": "Lxymb4ExBS1w"
      },
      "source": [
        "### ***Imp Note***- Before we build our model we need to create data generator fuction to avoid out of memmory error."
      ]
    },
    {
      "cell_type": "code",
      "metadata": {
        "id": "VICmCAiBYjrM"
      },
      "source": [
        "MIN_SEQ=5\n",
        "VOCAB_SIZE=7233\n",
        "BATCH_SIZE= 128"
      ],
      "execution_count": 8,
      "outputs": []
    },
    {
      "cell_type": "code",
      "metadata": {
        "id": "QF28A-M0BdNd"
      },
      "source": [
        "def generator(sequences_list, next_word_list, batch_size=BATCH_SIZE):\n",
        "  index=0\n",
        "  while True:\n",
        "      x = np.zeros((batch_size, MIN_SEQ), dtype=np.int32)\n",
        "      y= np.zeros((batch_size), dtype=np.int32)\n",
        "\n",
        "      for i in range(batch_size):\n",
        "        for t, w in enumerate(sequences_list[index % len(sequences_list)]):\n",
        "            x[i, t]= word_indices[w]\n",
        "        y[i] = word_indices[next_word_list[index % len(sequences_list)]]\n",
        "\n",
        "        index = index+1\n",
        "      yield x, y      \n",
        "\n",
        "\n",
        "   "
      ],
      "execution_count": 9,
      "outputs": []
    },
    {
      "cell_type": "markdown",
      "metadata": {
        "id": "rkgwfxJ5dBks"
      },
      "source": [
        "### Split data into train and test set"
      ]
    },
    {
      "cell_type": "code",
      "metadata": {
        "id": "Kv6zU4yddLtG"
      },
      "source": [
        "X_train,X_test, y_train,y_test = train_test_split(sequences,next_word, test_size=0.02, random_state=0)"
      ],
      "execution_count": 10,
      "outputs": []
    },
    {
      "cell_type": "code",
      "metadata": {
        "colab": {
          "base_uri": "https://localhost:8080/"
        },
        "id": "BHZsDNswdelE",
        "outputId": "2c746dd5-185c-45fe-a6bf-efc1df4d9530"
      },
      "source": [
        "len(X_train),len(X_test), len(y_train),len(y_test)"
      ],
      "execution_count": 11,
      "outputs": [
        {
          "output_type": "execute_result",
          "data": {
            "text/plain": [
              "(1438147, 29350, 1438147, 29350)"
            ]
          },
          "metadata": {
            "tags": []
          },
          "execution_count": 11
        }
      ]
    },
    {
      "cell_type": "markdown",
      "metadata": {
        "id": "Czf9uWaS65EN"
      },
      "source": [
        "## Model1"
      ]
    },
    {
      "cell_type": "code",
      "metadata": {
        "id": "0s27sVXa7Ozq"
      },
      "source": [
        "model = Sequential()\n",
        "# # add embedding layer\n",
        "model.add(Embedding(VOCAB_SIZE, 100))\n",
        "# adding bidirectional lstm\n",
        "model.add(Bidirectional(LSTM(150, return_sequences=True)))\n",
        "# Add dropout reguralization\n",
        "model.add(Dropout(0.2))\n",
        "# add lstm layyer\n",
        "model.add(LSTM(100))\n",
        "# add output layer\n",
        "model.add(Dense(VOCAB_SIZE, activation='softmax'))"
      ],
      "execution_count": null,
      "outputs": []
    },
    {
      "cell_type": "code",
      "metadata": {
        "colab": {
          "base_uri": "https://localhost:8080/"
        },
        "id": "3gM9IAl47Ozq",
        "outputId": "a5e6233f-3074-4e1f-cf28-6a192de272f5"
      },
      "source": [
        "model.summary()"
      ],
      "execution_count": null,
      "outputs": [
        {
          "output_type": "stream",
          "text": [
            "Model: \"sequential\"\n",
            "_________________________________________________________________\n",
            "Layer (type)                 Output Shape              Param #   \n",
            "=================================================================\n",
            "embedding (Embedding)        (None, None, 100)         723300    \n",
            "_________________________________________________________________\n",
            "bidirectional (Bidirectional (None, None, 300)         301200    \n",
            "_________________________________________________________________\n",
            "dropout (Dropout)            (None, None, 300)         0         \n",
            "_________________________________________________________________\n",
            "lstm_1 (LSTM)                (None, 100)               160400    \n",
            "_________________________________________________________________\n",
            "dense (Dense)                (None, 7233)              730533    \n",
            "=================================================================\n",
            "Total params: 1,915,433\n",
            "Trainable params: 1,915,433\n",
            "Non-trainable params: 0\n",
            "_________________________________________________________________\n"
          ],
          "name": "stdout"
        }
      ]
    },
    {
      "cell_type": "markdown",
      "metadata": {
        "id": "vkFBHW8S7Ozr"
      },
      "source": [
        "***IMP note :- if loss categorical crossentropy used then shapes incompatible error will occcur beause we have to use sparse_categorical_crossentropy when we have all diffrent labels categorical is for mutliclass labels***\n"
      ]
    },
    {
      "cell_type": "code",
      "metadata": {
        "id": "uwwUBj_v7Ozr"
      },
      "source": [
        "\n",
        "model.compile(loss='sparse_categorical_crossentropy', optimizer=\"adam\", metrics=['accuracy'])\n"
      ],
      "execution_count": null,
      "outputs": []
    },
    {
      "cell_type": "code",
      "metadata": {
        "id": "qiNZEl9n7Ozr"
      },
      "source": [
        "from tensorflow.keras.callbacks import ModelCheckpoint, EarlyStopping, LambdaCallback"
      ],
      "execution_count": null,
      "outputs": []
    },
    {
      "cell_type": "code",
      "metadata": {
        "id": "rEWs-2ZP7Ozr"
      },
      "source": [
        "checkpoint = ModelCheckpoint(\"/content/drive/MyDrive/Projects/lyrics_generation/model_checkpoints/\", monitor='val_accuracy', save_best_only=True)\n",
        "\n",
        "early_stopping = EarlyStopping(monitor='val_accuracy', patience=10)\n",
        "\n",
        "callbacks_list = [checkpoint, early_stopping]"
      ],
      "execution_count": null,
      "outputs": []
    },
    {
      "cell_type": "code",
      "metadata": {
        "id": "zNvobzXp7Ozs"
      },
      "source": [
        "EPOCHS= 30 #@param {type:'slider', max:100, min:10, step:10}"
      ],
      "execution_count": null,
      "outputs": []
    },
    {
      "cell_type": "markdown",
      "metadata": {
        "id": "RBAAwNhHZVmC"
      },
      "source": [
        "### **IMP NOTE** - here to avoid unknown samples need to use sptes per epoch else model will fit for infinite samples"
      ]
    },
    {
      "cell_type": "code",
      "metadata": {
        "id": "FZjRdP8fPwM3"
      },
      "source": [
        "steps_per_epoch = np.ceil(len(X_train)/BATCH_SIZE,)\n",
        "steps_per_epoch_val = np.ceil(len(X_test)/BATCH_SIZE)"
      ],
      "execution_count": 12,
      "outputs": []
    },
    {
      "cell_type": "code",
      "metadata": {
        "colab": {
          "base_uri": "https://localhost:8080/"
        },
        "id": "pHEUut40PxZD",
        "outputId": "92a95041-6468-4225-d50a-cc94de638827"
      },
      "source": [
        "steps_per_epoch"
      ],
      "execution_count": 13,
      "outputs": [
        {
          "output_type": "execute_result",
          "data": {
            "text/plain": [
              "11236.0"
            ]
          },
          "metadata": {
            "tags": []
          },
          "execution_count": 13
        }
      ]
    },
    {
      "cell_type": "code",
      "metadata": {
        "id": "VdMdJclR7Ozs"
      },
      "source": [
        "history1= model.fit(generator(X_train,y_train,batch_size=BATCH_SIZE),\n",
        "                            epochs=EPOCHS,\n",
        "                            callbacks=callbacks_list,\n",
        "                    steps_per_epoch=steps_per_epoch,\n",
        "                            validation_data=generator(X_test, y_train, BATCH_SIZE),\n",
        "                            validation_steps=steps_per_epoch_val)"
      ],
      "execution_count": null,
      "outputs": []
    },
    {
      "cell_type": "markdown",
      "metadata": {
        "id": "CEelcuipeYFL"
      },
      "source": [
        "## Hypertune model\n",
        "* changing output dim for embbedding\n",
        "* added one dense layer "
      ]
    },
    {
      "cell_type": "markdown",
      "metadata": {
        "id": "M-CJK0AP_byb"
      },
      "source": [
        "### Follwing function are taken from  keras-team/keras/blob/master/examples/lstm_text_generation.py\n"
      ]
    },
    {
      "cell_type": "code",
      "metadata": {
        "id": "NuQw_l4U_YnY"
      },
      "source": [
        "def sample(preds, temperature=1.0):\n",
        "\n",
        "   # helper function to sample an index from a probability array\n",
        "\n",
        "   preds = np.asarray(preds).astype('float64')\n",
        "\n",
        "   preds = np.log(preds) / temperature\n",
        "\n",
        "   exp_preds = np.exp(preds)\n",
        "\n",
        "   preds = exp_preds / np.sum(exp_preds)\n",
        "\n",
        "   probas = np.random.multinomial(1, preds, 1)\n",
        "\n",
        "   return np.argmax(probas)\n",
        "\n"
      ],
      "execution_count": 14,
      "outputs": []
    },
    {
      "cell_type": "code",
      "metadata": {
        "id": "xbR_LHxU_68I"
      },
      "source": [
        "\n",
        "def on_epoch_end(epoch, logs):\n",
        "\n",
        "   # Function invoked at end of each epoch. Prints generated text.\n",
        "\n",
        "   examples_file.write('\\n----- Generating text after Epoch: %d\\n' % epoch)\n",
        "\n",
        "\n",
        "   # Randomly pick a seed sequence\n",
        "\n",
        "   seed_index = np.random.randint(len(X_train+X_test))\n",
        "\n",
        "   seed = (X_train+X_test)[seed_index]\n",
        "\n",
        "\n",
        "   for diversity in [0.3, 0.4, 0.5, 0.6, 0.7]:\n",
        "\n",
        "       sentence = seed\n",
        "\n",
        "       examples_file.write('----- Diversity:' + str(diversity) + '\\n')\n",
        "\n",
        "       examples_file.write('----- Generating with seed:\\n\"' + ' '.join(sentence) + '\"\\n')\n",
        "\n",
        "       examples_file.write(' '.join(sentence))\n",
        "\n",
        "\n",
        "       for i in range(50):\n",
        "\n",
        "           x_pred = np.zeros((1, MIN_SEQ))\n",
        "\n",
        "           for t, word in enumerate(sentence):\n",
        "\n",
        "               x_pred[0, t] = word_indices[word]\n",
        "\n",
        "\n",
        "           preds = model2.predict(x_pred, verbose=0)[0]\n",
        "\n",
        "           next_index = sample(preds, diversity)\n",
        "\n",
        "           next_word = indices_word[next_index]\n",
        "\n",
        "\n",
        "           sentence = sentence[1:]\n",
        "\n",
        "           sentence.append(next_word)\n",
        "\n",
        "\n",
        "           examples_file.write(\" \"+next_word)\n",
        "\n",
        "       examples_file.write('\\n')\n",
        "\n",
        "   examples_file.write('='*80 + '\\n')\n",
        "\n",
        "   examples_file.flush()"
      ],
      "execution_count": 15,
      "outputs": []
    },
    {
      "cell_type": "markdown",
      "metadata": {
        "id": "RCZHrOCTiwSp"
      },
      "source": [
        "###read more about embedding [here](https://machinelearningmastery.com/use-word-embedding-layers-deep-learning-keras/#:~:text=The%20Embedding%20has%20a%20vocabulary,an%20input%20length%20of%204.&text=Importantly%2C%20the%20output%20from%20the,to%20the%20Dense%20output%20layer.)"
      ]
    },
    {
      "cell_type": "code",
      "metadata": {
        "id": "c_Mk25MOemIH"
      },
      "source": [
        "model2 = Sequential()\n",
        "# # add embedding layer\n",
        "model2.add(Embedding(VOCAB_SIZE, 1000))\n",
        "# adding bidirectional lstm\n",
        "model2.add(Bidirectional(LSTM(150, return_sequences=True)))\n",
        "# Add dropout reguralization\n",
        "model2.add(Dropout(0.2))\n",
        "# add lstm layyer\n",
        "model2.add(LSTM(100))\n",
        "## add fc layer\n",
        "model2.add(Dense(VOCAB_SIZE/2, activation='relu'))\n",
        "# add output layer\n",
        "model2.add(Dense(VOCAB_SIZE, activation='softmax'))"
      ],
      "execution_count": 16,
      "outputs": []
    },
    {
      "cell_type": "code",
      "metadata": {
        "colab": {
          "base_uri": "https://localhost:8080/"
        },
        "id": "9sbWtH9_kip2",
        "outputId": "2a9cc183-0c6d-4ad9-a68b-19b99ee5da9b"
      },
      "source": [
        "model2.summary()"
      ],
      "execution_count": 17,
      "outputs": [
        {
          "output_type": "stream",
          "text": [
            "Model: \"sequential\"\n",
            "_________________________________________________________________\n",
            "Layer (type)                 Output Shape              Param #   \n",
            "=================================================================\n",
            "embedding (Embedding)        (None, None, 1000)        7233000   \n",
            "_________________________________________________________________\n",
            "bidirectional (Bidirectional (None, None, 300)         1381200   \n",
            "_________________________________________________________________\n",
            "dropout (Dropout)            (None, None, 300)         0         \n",
            "_________________________________________________________________\n",
            "lstm_1 (LSTM)                (None, 100)               160400    \n",
            "_________________________________________________________________\n",
            "dense (Dense)                (None, 3616)              365216    \n",
            "_________________________________________________________________\n",
            "dense_1 (Dense)              (None, 7233)              26161761  \n",
            "=================================================================\n",
            "Total params: 35,301,577\n",
            "Trainable params: 35,301,577\n",
            "Non-trainable params: 0\n",
            "_________________________________________________________________\n"
          ],
          "name": "stdout"
        }
      ]
    },
    {
      "cell_type": "code",
      "metadata": {
        "id": "O8ONO2ZIkkSa"
      },
      "source": [
        "model2.compile(loss='sparse_categorical_crossentropy', optimizer=\"adam\", metrics=['accuracy'])"
      ],
      "execution_count": 18,
      "outputs": []
    },
    {
      "cell_type": "code",
      "metadata": {
        "id": "8SmpUYIylOhG"
      },
      "source": [
        "from tensorflow.keras.callbacks import ModelCheckpoint, EarlyStopping,LambdaCallback"
      ],
      "execution_count": 19,
      "outputs": []
    },
    {
      "cell_type": "code",
      "metadata": {
        "id": "mazCp32glBvJ"
      },
      "source": [
        "checkpoint = ModelCheckpoint(\"/content/drive/MyDrive/lyrics-generator/model_checkpoints/model2\", monitor='val_accuracy', save_best_only=True)\n",
        "\n",
        "early_stopping = EarlyStopping(monitor='val_accuracy', patience=10)\n",
        "\n",
        "print_callback = LambdaCallback(on_epoch_end=on_epoch_end)\n",
        "\n",
        "callbacks_list = [checkpoint, early_stopping, print_callback]"
      ],
      "execution_count": 20,
      "outputs": []
    },
    {
      "cell_type": "code",
      "metadata": {
        "id": "gnoPg6VDl9g0"
      },
      "source": [
        "EPOCHS= 30 #@param {type:'slider', max:100, min:10, step:10}"
      ],
      "execution_count": 21,
      "outputs": []
    },
    {
      "cell_type": "code",
      "metadata": {
        "id": "LORX1fCaWVql"
      },
      "source": [
        "steps_per_epoch = np.ceil(len(X_train)/BATCH_SIZE,)\n",
        "steps_per_epoch_val = np.ceil(len(X_test)/BATCH_SIZE)"
      ],
      "execution_count": 22,
      "outputs": []
    },
    {
      "cell_type": "code",
      "metadata": {
        "id": "30NZRUVtIW-A"
      },
      "source": [
        "# before fitting wee need to create examples file\n",
        "examples_file = open('examples.txt', \"w\")"
      ],
      "execution_count": 23,
      "outputs": []
    },
    {
      "cell_type": "code",
      "metadata": {
        "id": "eQFthN-ok2Xd"
      },
      "source": [
        "history2= model2.fit(generator(X_train,y_train,batch_size=BATCH_SIZE),\n",
        "                  epochs=EPOCHS,\n",
        "                  callbacks=callbacks_list,\n",
        "                  steps_per_epoch=steps_per_epoch,\n",
        "                  validation_data=generator(X_test, y_train, BATCH_SIZE),\n",
        "                   validation_steps=steps_per_epoch_val)"
      ],
      "execution_count": null,
      "outputs": []
    },
    {
      "cell_type": "code",
      "metadata": {
        "id": "4CO2WwtSArme"
      },
      "source": [
        "with open('/content/drive/MyDrive/lyrics-generator/Data/examples.txt') as f:\n",
        "    outputs = f.readlines()"
      ],
      "execution_count": 43,
      "outputs": []
    },
    {
      "cell_type": "markdown",
      "metadata": {
        "id": "3QSMo-FsBJ-Y"
      },
      "source": [
        "### Here is generated lyrics ny epochs"
      ]
    },
    {
      "cell_type": "code",
      "metadata": {
        "colab": {
          "base_uri": "https://localhost:8080/"
        },
        "id": "K4kTYysNBC3y",
        "outputId": "85bcacd4-885a-4181-824f-33367fe562fe"
      },
      "source": [
        "outputs\n"
      ],
      "execution_count": 44,
      "outputs": [
        {
          "output_type": "execute_result",
          "data": {
            "text/plain": [
              "['\\n',\n",
              " '----- Generating text after Epoch: 0\\n',\n",
              " '----- Diversity:0.3\\n',\n",
              " '----- Generating with seed:\\n',\n",
              " '\"is there no place for\"\\n',\n",
              " 'is there no place for a little bit of love and i cant get enough of your heart i dont know if i could never change you and i know i dont know what i want to do i do i do i do do do do do do do do do do do do\\n',\n",
              " '----- Diversity:0.4\\n',\n",
              " '----- Generating with seed:\\n',\n",
              " '\"is there no place for\"\\n',\n",
              " 'is there no place for me to be the same and i know that im not a little bit of love and i know you know how to do youre the only one that i had to make you go and i just cant get no need to go and i dont know what to\\n',\n",
              " '----- Diversity:0.5\\n',\n",
              " '----- Generating with seed:\\n',\n",
              " '\"is there no place for\"\\n',\n",
              " 'is there no place for a good time for a little bit of love and i swear i could be your sweet girl now that you dont know me like a little too late to take my hand for a girl and i got a little time for me to say to you and i\\n',\n",
              " '----- Diversity:0.6\\n',\n",
              " '----- Generating with seed:\\n',\n",
              " '\"is there no place for\"\\n',\n",
              " 'is there no place for a man to be my life shes a fool to business my lifes the girl who we are so far i cant figure it out oh ive got a big big eyes and the day to do your friends and i cant take it for you and me i can\\n',\n",
              " '----- Diversity:0.7\\n',\n",
              " '----- Generating with seed:\\n',\n",
              " '\"is there no place for\"\\n',\n",
              " 'is there no place for the money but i try to survive i cant go on the words she moves in here in the morning im so mad of midnight she trippin you know that youre the one whos here again oh when you were in love with all the time love i want to\\n',\n",
              " '================================================================================\\n',\n",
              " '\\n',\n",
              " '----- Generating text after Epoch: 1\\n',\n",
              " '----- Diversity:0.3\\n',\n",
              " '----- Generating with seed:\\n',\n",
              " '\"in an amish paradise my\"\\n',\n",
              " 'in an amish paradise my my my my my my my my my my my my my my my my my my my my my my my my my my my my my my my my my my my my my my my my my my my my my my my my my my my\\n',\n",
              " '----- Diversity:0.4\\n',\n",
              " '----- Generating with seed:\\n',\n",
              " '\"in an amish paradise my\"\\n',\n",
              " 'in an amish paradise my my my my my my my my my my my my my my my my my my my my my my my my my my my my my my my my my my my my my my my my my my my my my my my my my my my\\n',\n",
              " '----- Diversity:0.5\\n',\n",
              " '----- Generating with seed:\\n',\n",
              " '\"in an amish paradise my\"\\n',\n",
              " 'in an amish paradise my girl you can be mine but i cant breathe i know i know i dont know i dont know if i was ever enough of me than i can do i cant believe that i really love the way you need me you dont need me baby please dont go\\n',\n",
              " '----- Diversity:0.6\\n',\n",
              " '----- Generating with seed:\\n',\n",
              " '\"in an amish paradise my\"\\n',\n",
              " 'in an amish paradise my my my my my my my my my my galway girl my my my my my my my my my my my my my my oh my my my my my my my my my my my my my my lord you wont let me let you down and i\\n',\n",
              " '----- Diversity:0.7\\n',\n",
              " '----- Generating with seed:\\n',\n",
              " '\"in an amish paradise my\"\\n',\n",
              " 'in an amish paradise my minds in the sky with me and ill show you my love and i will be with you babe oh my lady you make me wanna stay with me tonight ooh ooh ooh ooh baby ooh ooh ooh ooh ooh baby baby baby baby baby baby baby baby baby baby\\n',\n",
              " '================================================================================\\n',\n",
              " '\\n',\n",
              " '----- Generating text after Epoch: 2\\n',\n",
              " '----- Diversity:0.3\\n',\n",
              " '----- Generating with seed:\\n',\n",
              " '\"centipede is hot youre bound\"\\n',\n",
              " 'centipede is hot youre bound to go and i know that you can feel it in my heart i know you can see me cry and i know that i am the one that i need i want to be a king of the ocean i got to go on and on and on and\\n',\n",
              " '----- Diversity:0.4\\n',\n",
              " '----- Generating with seed:\\n',\n",
              " '\"centipede is hot youre bound\"\\n',\n",
              " 'centipede is hot youre bound to be famous for a while of me and i am the one who is you you gotta go get lifted and get a little hotter hotter hotter baby you make me wanna feel you like i do i do i do i do i do i do do do\\n',\n",
              " '----- Diversity:0.5\\n',\n",
              " '----- Generating with seed:\\n',\n",
              " '\"centipede is hot youre bound\"\\n',\n",
              " 'centipede is hot youre bound to be goin straight up and go back to the other side i need to get a little taste of you and i just cant take it anymore im gonna get to the ground oh oh oh and ill be waiting for you to see me again i can see\\n',\n",
              " '----- Diversity:0.6\\n',\n",
              " '----- Generating with seed:\\n',\n",
              " '\"centipede is hot youre bound\"\\n',\n",
              " 'centipede is hot youre bound to get my name off my shoulder i got a good bitch i aint finished i aint your mama bitch i aint ridin on my mamas pocket ann and a little bit of you can do that i dont know for nothing left to lose to me hey its only\\n',\n",
              " '----- Diversity:0.7\\n',\n",
              " '----- Generating with seed:\\n',\n",
              " '\"centipede is hot youre bound\"\\n',\n",
              " 'centipede is hot youre bound to see your face distant eyes are cold and a world is all i can do i cant be loving you i dont want this yummy know i got to know i wanna take you back when i go back to my heart and i wish that i could never\\n',\n",
              " '================================================================================\\n',\n",
              " '\\n',\n",
              " '----- Generating text after Epoch: 3\\n',\n",
              " '----- Diversity:0.3\\n',\n",
              " '----- Generating with seed:\\n',\n",
              " '\"change this love you got\"\\n',\n",
              " 'change this love you got to know that i dont know why i do i cant believe that i love you i love you baby i love you i love you i love you baby i love you i love you i love you i love you i love you baby i love you i\\n',\n",
              " '----- Diversity:0.4\\n',\n",
              " '----- Generating with seed:\\n',\n",
              " '\"change this love you got\"\\n',\n",
              " 'change this love you got me knocked me out and i know you got me tripping baby im comin im comin im riding on a mexican radio im on a mexican radio im on a mexican radio im on a mexican radio im on a mexican radio im on a mexican radio im a stoner\\n',\n",
              " '----- Diversity:0.5\\n',\n",
              " '----- Generating with seed:\\n',\n",
              " '\"change this love you got\"\\n',\n",
              " 'change this love you got me so high it makes me weak i know you should know me like that you do it cause i dont know what to do but i dont want to be without you i dont wanna live live without you be my baby baby you know i love you i\\n',\n",
              " '----- Diversity:0.6\\n',\n",
              " '----- Generating with seed:\\n',\n",
              " '\"change this love you got\"\\n',\n",
              " 'change this love you got to give it up and i cant get it back i wont give up no now i got a meeting in the in the middle of the night the only thing that you need im gonna lose all control because i know that i love you if i could never\\n',\n",
              " '----- Diversity:0.7\\n',\n",
              " '----- Generating with seed:\\n',\n",
              " '\"change this love you got\"\\n',\n",
              " 'change this love you got to show you when youre with me baby oh baby baby baby baby baby baby baby baby i love you i love it i love it when you want it all it til you cant start the ground i cant go on i cant see nothing better than yours to\\n',\n",
              " '================================================================================\\n',\n",
              " '\\n',\n",
              " '----- Generating text after Epoch: 4\\n',\n",
              " '----- Diversity:0.3\\n',\n",
              " '----- Generating with seed:\\n',\n",
              " '\"no time to call her\"\\n',\n",
              " 'no time to call her she said she was a dream of a lifetime when i was a little bit of winter and a lesson i was flying high on the freeway of love in my pink cadillac i aint got no time to go and i cant get enough of your love babe you\\n',\n",
              " '----- Diversity:0.4\\n',\n",
              " '----- Generating with seed:\\n',\n",
              " '\"no time to call her\"\\n',\n",
              " 'no time to call her to myself dont you know that you want to live i know you know i know i dont know something sure know something that i can do and i can tell you what im feeling i know what youre thinkin im turning japanese i think im turning japanese i really\\n',\n",
              " '----- Diversity:0.5\\n',\n",
              " '----- Generating with seed:\\n',\n",
              " '\"no time to call her\"\\n',\n",
              " 'no time to call her if im gonna trust you im gonna love you love you love you baby i love the way you love me i love you i love you i hate you i love you i hate you i love you i love you i love you i love you i love\\n',\n",
              " '----- Diversity:0.6\\n',\n",
              " '----- Generating with seed:\\n',\n",
              " '\"no time to call her\"\\n',\n",
              " 'no time to call her back and we never even were born this old song see the sun everybodys dancing at night and well i know you know i love you like a love song baby you know its true its so sad if you dont want me then dont talk to me dont tell\\n',\n",
              " '----- Diversity:0.7\\n',\n",
              " '----- Generating with seed:\\n',\n",
              " '\"no time to call her\"\\n',\n",
              " 'no time to call her i like the way that i loved you i can feel the weight keep up breathe in you feel you make me sick and now its the only thing of your life you know how you feel and i still need you here tonight tonight we gonna rock down this\\n',\n",
              " '================================================================================\\n',\n",
              " '\\n',\n",
              " '----- Generating text after Epoch: 5\\n',\n",
              " '----- Diversity:0.3\\n',\n",
              " '----- Generating with seed:\\n',\n",
              " '\"drunk and im running on\"\\n',\n",
              " 'drunk and im running on running on running on running on running on running on running on running on running on running on running on running blind running on running blind running on running on running on running on running away from my love i gave my all my love ive been waiting for you\\n',\n",
              " '----- Diversity:0.4\\n',\n",
              " '----- Generating with seed:\\n',\n",
              " '\"drunk and im running on\"\\n',\n",
              " 'drunk and im running on empty running blind running on running on running on running on running on running on empty running blind running blind running on running on running on running on running on running on running on running on running on running blind running on running on running on running on running blind\\n',\n",
              " '----- Diversity:0.5\\n',\n",
              " '----- Generating with seed:\\n',\n",
              " '\"drunk and im running on\"\\n',\n",
              " 'drunk and im running on empty running on empty running on empty running away from my love and i hope that you cant stop me now dance with me baby one more time i know i want you to know you cant take it anymore i cant pretend you know how to show you what\\n',\n",
              " '----- Diversity:0.6\\n',\n",
              " '----- Generating with seed:\\n',\n",
              " '\"drunk and im running on\"\\n',\n",
              " 'drunk and im running on running on running away im gonna be your lover be my baby tonight and i got you touchin on your body dont leave me dry dont leave me high dont leave me dry tonight dont talk baby dont talk just listen to the music so lets get up the walk\\n',\n",
              " '----- Diversity:0.7\\n',\n",
              " '----- Generating with seed:\\n',\n",
              " '\"drunk and im running on\"\\n',\n",
              " 'drunk and im running on running free free fallin fallin in love now im alive ill never forget you well you could be a good man and i know where you are others the strong i promise i will never lie again i will never let you go if you dont want me then dont\\n',\n",
              " '================================================================================\\n',\n",
              " '\\n',\n",
              " '----- Generating text after Epoch: 6\\n',\n",
              " '----- Diversity:0.3\\n',\n",
              " '----- Generating with seed:\\n',\n",
              " '\"cruel i wanna tell you\"\\n',\n",
              " 'cruel i wanna tell you that i love you i love you i love you i love you i love you i love you i love you i love you i love you i love you i love you i love you i love you i love you i love you i love you i\\n',\n",
              " '----- Diversity:0.4\\n',\n",
              " '----- Generating with seed:\\n',\n",
              " '\"cruel i wanna tell you\"\\n',\n",
              " 'cruel i wanna tell you i dont know what to do i aint gettin no pedicure pussy im in the bathroom and i dont know what to do you know i can tell you i love you i love you i love you i loved you i wish i wish that i knew what i\\n',\n",
              " '----- Diversity:0.5\\n',\n",
              " '----- Generating with seed:\\n',\n",
              " '\"cruel i wanna tell you\"\\n',\n",
              " 'cruel i wanna tell you all the way i know it doesnt mean youre in love with me you gotta spend some time with you and the rest of my life for you and i hope that you feel like letting go of the midnight of glory and we know we are doing what we\\n',\n",
              " '----- Diversity:0.6\\n',\n",
              " '----- Generating with seed:\\n',\n",
              " '\"cruel i wanna tell you\"\\n',\n",
              " 'cruel i wanna tell you your name and i know just how to love so much it makes me feel like a natural world and i start over the tree a child and i didnt know why i didnt fuck the way that you play with me i wanna be with you be with you\\n',\n",
              " '----- Diversity:0.7\\n',\n",
              " '----- Generating with seed:\\n',\n",
              " '\"cruel i wanna tell you\"\\n',\n",
              " 'cruel i wanna tell you my heart and each time we made in a crowded room and you know what the fuck do you do what you want so i got it right here baby i love it when youre dancing with me youve been chasing me and i know i dont know what boys\\n',\n",
              " '================================================================================\\n',\n",
              " '\\n',\n",
              " '----- Generating text after Epoch: 7\\n',\n",
              " '----- Diversity:0.3\\n',\n",
              " '----- Generating with seed:\\n',\n",
              " '\"streets yeah red cup no\"\\n',\n",
              " 'streets yeah red cup no one wants to be a macho man macho man ive got a love that i can be the one that i can do ill be there to be your friend i will be there to walk away from you i dont know what to do i dont know what to\\n',\n",
              " '----- Diversity:0.4\\n',\n",
              " '----- Generating with seed:\\n',\n",
              " '\"streets yeah red cup no\"\\n',\n",
              " 'streets yeah red cup no one could go back to you so just dance dance dance dance dance dance dance dance dance dance dance dance dance dance dance dance dance dance dance dance dance dance dance dance dance dance dance dance dance dance dance dance dance dance dance dance dance dance dance dance dance dance\\n',\n",
              " '----- Diversity:0.5\\n',\n",
              " '----- Generating with seed:\\n',\n",
              " '\"streets yeah red cup no\"\\n',\n",
              " 'streets yeah red cup no one wants to go on a date like a glove and a joke and i couldnt sleep on wheels i dont wanna be your man dont be scared i wanna be with you too soon and i know that things were standing in the shadows and i feel like im\\n',\n",
              " '----- Diversity:0.6\\n',\n",
              " '----- Generating with seed:\\n',\n",
              " '\"streets yeah red cup no\"\\n',\n",
              " 'streets yeah red cup no one tell me where to go i can see you in my dreams as if i could die although i know you wanna be starting something you want to know i want to dance with somebody i want the young american young american young american young american young american young\\n',\n",
              " '----- Diversity:0.7\\n',\n",
              " '----- Generating with seed:\\n',\n",
              " '\"streets yeah red cup no\"\\n',\n",
              " 'streets yeah red cup no one told me bout a new song hold on tight cause its late youre a part of me i got passion on my own love i can feel your touch yeah im here before i die and now i feel like i do i make the city move your chest\\n',\n",
              " '================================================================================\\n',\n",
              " '\\n',\n",
              " '----- Generating text after Epoch: 8\\n',\n",
              " '----- Diversity:0.3\\n',\n",
              " '----- Generating with seed:\\n',\n",
              " '\"cannonball like a cannonball like\"\\n',\n",
              " 'cannonball like a cannonball like a bird on the moon and the sun is shining bright and i know you know you know i love you i love you theres no need to worry about the weather hi hi hi hi hi hi hi hi hi hi hi hi hi hi hi hi hi hi\\n',\n",
              " '----- Diversity:0.4\\n',\n",
              " '----- Generating with seed:\\n',\n",
              " '\"cannonball like a cannonball like\"\\n',\n",
              " 'cannonball like a cannonball like a bird on the moon i thought i was hungry to blast the police i just wanna get to know the man whos trying to get in the way of what i am what i am am what i am am what i am what i am am what i\\n',\n",
              " '----- Diversity:0.5\\n',\n",
              " '----- Generating with seed:\\n',\n",
              " '\"cannonball like a cannonball like\"\\n',\n",
              " 'cannonball like a cannonball like a bird on a gun and i dont wanna be a stupid girl its a wonder too much to beg me to the places to get away and i cant see you say you dont want me give me a reason why i do you hear that girl i know\\n',\n",
              " '----- Diversity:0.6\\n',\n",
              " '----- Generating with seed:\\n',\n",
              " '\"cannonball like a cannonball like\"\\n',\n",
              " 'cannonball like a cannonball like a cannonball i’ll find a friend of mine and i hope that i do you want me and i want you here with me stay with me cause youre the only one that i knew that i was down and i got the power to make you smile and i\\n',\n",
              " '----- Diversity:0.7\\n',\n",
              " '----- Generating with seed:\\n',\n",
              " '\"cannonball like a cannonball like\"\\n',\n",
              " 'cannonball like a cannonball like a hand for you i can see you now tell me what you want to do youre gonna die cause i promise you that i never meant to be that the day is all that we have and we got love tonight all my life youre all i ever wanted\\n',\n",
              " '================================================================================\\n',\n",
              " '\\n',\n",
              " '----- Generating text after Epoch: 9\\n',\n",
              " '----- Diversity:0.3\\n',\n",
              " '----- Generating with seed:\\n',\n",
              " '\"look ill tumble for ya\"\\n',\n",
              " 'look ill tumble for ya i wanna be de papa you can be de mom and soul diamond rings and dust and theyre playing with the sun singin inna sand and youre still young and so are we in the clear yet are we in the clear yet are we in the clear yet are\\n',\n",
              " '----- Diversity:0.4\\n',\n",
              " '----- Generating with seed:\\n',\n",
              " '\"look ill tumble for ya\"\\n',\n",
              " 'look ill tumble for ya i i cant eat i cant sleep without you i have to wet your whistle and i hope you can be my friend and im gonna do it just right i can tell you exactly what it means to me i know i know i just want to dance with\\n',\n",
              " '----- Diversity:0.5\\n',\n",
              " '----- Generating with seed:\\n',\n",
              " '\"look ill tumble for ya\"\\n',\n",
              " 'look ill tumble for ya baby its a beautiful day i will be with you now i dont know why i dont know if i was your girl if i was your girl there was a time to hold you near me i dont know why i dont know why you cant be afraid of\\n',\n",
              " '----- Diversity:0.6\\n',\n",
              " '----- Generating with seed:\\n',\n",
              " '\"look ill tumble for ya\"\\n',\n",
              " 'look ill tumble for ya the worst that i could be the only one whos keeping you from the floor now you know you know you got nothin better to do you got me missing you whyd you have to go and find it up such a shame if you trust me just to play\\n',\n",
              " '----- Diversity:0.7\\n',\n",
              " '----- Generating with seed:\\n',\n",
              " '\"look ill tumble for ya\"\\n',\n",
              " 'look ill tumble for ya yeah yeah yeah yeah yeah thats okay girl dont leave me hanging on a little bit of done i can get a date and it says i spit in the mirror i just wanna be the girl with you you know that id be lyin sayin i should buy nothing\\n',\n",
              " '================================================================================\\n',\n",
              " '\\n',\n",
              " '----- Generating text after Epoch: 10\\n',\n",
              " '----- Diversity:0.3\\n',\n",
              " '----- Generating with seed:\\n',\n",
              " '\"i now what youre wearing\"\\n',\n",
              " 'i now what youre wearing i will never be apart i know that im in love with you babe you tell me i love you i love you i love you i love you i love you i love you i love you i love you i love you i love you baby i love\\n',\n",
              " '----- Diversity:0.4\\n',\n",
              " '----- Generating with seed:\\n',\n",
              " '\"i now what youre wearing\"\\n',\n",
              " 'i now what youre wearing i want to know i need to know i need to know i need to know i need to know i need to know i need to know i need to know i need to know i need to know i need to know i need to know i need\\n',\n",
              " '----- Diversity:0.5\\n',\n",
              " '----- Generating with seed:\\n',\n",
              " '\"i now what youre wearing\"\\n',\n",
              " 'i now what youre wearing to me i dont know what to say i told you i love you and i love you love you love you wont you tell me you do it to me i like it and i never meant to brag and no one sleeps because i look at you and\\n',\n",
              " '----- Diversity:0.6\\n',\n",
              " '----- Generating with seed:\\n',\n",
              " '\"i now what youre wearing\"\\n',\n",
              " 'i now what youre wearing i will never try to see about her thinking about the night she cries in my bones and i remember i never found the words i could hate the way i get to my roots dont let me down ever since you put your love around me youre the only\\n',\n",
              " '----- Diversity:0.7\\n',\n",
              " '----- Generating with seed:\\n',\n",
              " '\"i now what youre wearing\"\\n',\n",
              " 'i now what youre wearing me i want you to show me the way i am im not gonna man i know i got it but im so new im not gonna clean im a bad girl yours i dont care what ill do for you if you really love me wont you tell me\\n',\n",
              " '================================================================================\\n']"
            ]
          },
          "metadata": {
            "tags": []
          },
          "execution_count": 44
        }
      ]
    },
    {
      "cell_type": "code",
      "metadata": {
        "id": "kDacn1CjBD7F"
      },
      "source": [
        ""
      ],
      "execution_count": null,
      "outputs": []
    }
  ]
}