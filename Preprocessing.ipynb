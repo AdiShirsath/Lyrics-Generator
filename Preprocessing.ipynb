{
 "cells": [
  {
   "cell_type": "code",
   "execution_count": 1,
   "id": "337cc8b2-2162-4b86-9ce6-9392add632de",
   "metadata": {
    "id": "337cc8b2-2162-4b86-9ce6-9392add632de"
   },
   "outputs": [],
   "source": [
    "import os\n",
    "import sys\n",
    "import string\n",
    "import numpy as np\n",
    "import pandas as pd\n",
    "from tensorflow import keras\n",
    "from tqdm import tqdm\n",
    "import pickle"
   ]
  },
  {
   "cell_type": "code",
   "execution_count": 2,
   "id": "CBNwvTIl4_fc",
   "metadata": {
    "colab": {
     "base_uri": "https://localhost:8080/"
    },
    "id": "CBNwvTIl4_fc",
    "outputId": "dd994b55-7913-445c-ea39-03d7b141906b"
   },
   "outputs": [],
   "source": [
    "# from google.colab import drive\n",
    "# drive.mount('/content/drive')"
   ]
  },
  {
   "cell_type": "code",
   "execution_count": 3,
   "id": "1d751047-ec34-4986-9690-8262b7edc5d4",
   "metadata": {
    "id": "1d751047-ec34-4986-9690-8262b7edc5d4"
   },
   "outputs": [],
   "source": [
    "df = pd.read_csv(\"Data/musicoset_songfeatures/lyrics.csv\", sep='\\t')"
   ]
  },
  {
   "cell_type": "code",
   "execution_count": 4,
   "id": "0a84f4bb-cd50-4a9f-9820-235f449bb2da",
   "metadata": {
    "colab": {
     "base_uri": "https://localhost:8080/",
     "height": 196
    },
    "id": "0a84f4bb-cd50-4a9f-9820-235f449bb2da",
    "outputId": "20b4d7af-0317-491e-a3b1-a54cac88c516"
   },
   "outputs": [
    {
     "data": {
      "text/html": [
       "<div>\n",
       "<style scoped>\n",
       "    .dataframe tbody tr th:only-of-type {\n",
       "        vertical-align: middle;\n",
       "    }\n",
       "\n",
       "    .dataframe tbody tr th {\n",
       "        vertical-align: top;\n",
       "    }\n",
       "\n",
       "    .dataframe thead th {\n",
       "        text-align: right;\n",
       "    }\n",
       "</style>\n",
       "<table border=\"1\" class=\"dataframe\">\n",
       "  <thead>\n",
       "    <tr style=\"text-align: right;\">\n",
       "      <th></th>\n",
       "      <th>song_id</th>\n",
       "      <th>lyrics</th>\n",
       "    </tr>\n",
       "  </thead>\n",
       "  <tbody>\n",
       "    <tr>\n",
       "      <th>0</th>\n",
       "      <td>3e9HZxeyfWwjeyPAMmWSSQ</td>\n",
       "      <td>['[Verse 1]\\nThought I\\'d end up with Sean\\nBu...</td>\n",
       "    </tr>\n",
       "    <tr>\n",
       "      <th>1</th>\n",
       "      <td>5p7ujcrUXASCNwRaWNHR1C</td>\n",
       "      <td>[\"[Verse 1]\\nFound you when your heart was bro...</td>\n",
       "    </tr>\n",
       "    <tr>\n",
       "      <th>2</th>\n",
       "      <td>2xLMifQCjDGFmkHkpNLD9h</td>\n",
       "      <td>['[Part I]\\n\\n[Intro: Drake]\\nAstro, yeah\\nSun...</td>\n",
       "    </tr>\n",
       "    <tr>\n",
       "      <th>3</th>\n",
       "      <td>3KkXRkHbMCARz0aVfEt68P</td>\n",
       "      <td>NaN</td>\n",
       "    </tr>\n",
       "    <tr>\n",
       "      <th>4</th>\n",
       "      <td>1rqqCSm0Qe4I9rUvWncaom</td>\n",
       "      <td>[\"[Intro]\\nHigh, high hopes\\n\\n[Chorus]\\nHad t...</td>\n",
       "    </tr>\n",
       "  </tbody>\n",
       "</table>\n",
       "</div>"
      ],
      "text/plain": [
       "                  song_id                                             lyrics\n",
       "0  3e9HZxeyfWwjeyPAMmWSSQ  ['[Verse 1]\\nThought I\\'d end up with Sean\\nBu...\n",
       "1  5p7ujcrUXASCNwRaWNHR1C  [\"[Verse 1]\\nFound you when your heart was bro...\n",
       "2  2xLMifQCjDGFmkHkpNLD9h  ['[Part I]\\n\\n[Intro: Drake]\\nAstro, yeah\\nSun...\n",
       "3  3KkXRkHbMCARz0aVfEt68P                                                NaN\n",
       "4  1rqqCSm0Qe4I9rUvWncaom  [\"[Intro]\\nHigh, high hopes\\n\\n[Chorus]\\nHad t..."
      ]
     },
     "execution_count": 4,
     "metadata": {},
     "output_type": "execute_result"
    }
   ],
   "source": [
    "df.head()"
   ]
  },
  {
   "cell_type": "code",
   "execution_count": 5,
   "id": "29711117-8e66-4457-9647-dfb874d6d465",
   "metadata": {
    "colab": {
     "base_uri": "https://localhost:8080/"
    },
    "id": "29711117-8e66-4457-9647-dfb874d6d465",
    "outputId": "df6bb62c-43ba-4197-8ce3-b24455cd9733"
   },
   "outputs": [
    {
     "name": "stdout",
     "output_type": "stream",
     "text": [
      "<class 'pandas.core.frame.DataFrame'>\n",
      "RangeIndex: 20404 entries, 0 to 20403\n",
      "Data columns (total 2 columns):\n",
      " #   Column   Non-Null Count  Dtype \n",
      "---  ------   --------------  ----- \n",
      " 0   song_id  20404 non-null  object\n",
      " 1   lyrics   19663 non-null  object\n",
      "dtypes: object(2)\n",
      "memory usage: 318.9+ KB\n"
     ]
    }
   ],
   "source": [
    "df.info()"
   ]
  },
  {
   "cell_type": "code",
   "execution_count": 6,
   "id": "30cdd747-e2fd-4d03-b481-0c3028214465",
   "metadata": {
    "colab": {
     "base_uri": "https://localhost:8080/"
    },
    "id": "30cdd747-e2fd-4d03-b481-0c3028214465",
    "outputId": "8874cdde-73f9-431f-b30d-182f16ae5c26"
   },
   "outputs": [
    {
     "data": {
      "text/plain": [
       "song_id      0\n",
       "lyrics     741\n",
       "dtype: int64"
      ]
     },
     "execution_count": 6,
     "metadata": {},
     "output_type": "execute_result"
    }
   ],
   "source": [
    "df.isna().sum()"
   ]
  },
  {
   "cell_type": "code",
   "execution_count": 7,
   "id": "f9375118-fdbc-4f29-8b29-33d2d9fefd62",
   "metadata": {
    "id": "f9375118-fdbc-4f29-8b29-33d2d9fefd62"
   },
   "outputs": [],
   "source": [
    "df.dropna(inplace=True)"
   ]
  },
  {
   "cell_type": "code",
   "execution_count": 8,
   "id": "4052b260-4bc8-4279-a90a-4c8bad494b10",
   "metadata": {
    "id": "4052b260-4bc8-4279-a90a-4c8bad494b10"
   },
   "outputs": [],
   "source": [
    "df.reset_index(inplace=True)"
   ]
  },
  {
   "cell_type": "code",
   "execution_count": 9,
   "id": "af40be91-bfce-45c3-b90a-aa68a8423adc",
   "metadata": {
    "id": "af40be91-bfce-45c3-b90a-aa68a8423adc"
   },
   "outputs": [],
   "source": [
    "df.drop(['index'], axis=1, inplace=True)"
   ]
  },
  {
   "cell_type": "code",
   "execution_count": 10,
   "id": "53449130-594d-41b6-a6c2-c16d43f9aa07",
   "metadata": {
    "colab": {
     "base_uri": "https://localhost:8080/"
    },
    "id": "53449130-594d-41b6-a6c2-c16d43f9aa07",
    "outputId": "6f571022-65d8-4b00-d540-5effb975a32a"
   },
   "outputs": [
    {
     "name": "stdout",
     "output_type": "stream",
     "text": [
      "0        ['[Verse 1]\\nThought I\\'d end up with Sean\\nBu...\n",
      "1        [\"[Verse 1]\\nFound you when your heart was bro...\n",
      "2        ['[Part I]\\n\\n[Intro: Drake]\\nAstro, yeah\\nSun...\n",
      "3        [\"[Intro]\\nHigh, high hopes\\n\\n[Chorus]\\nHad t...\n",
      "4        [\"[Intro]\\nI-I-I don't want a lot for Christma...\n",
      "                               ...                        \n",
      "19658    ['[Verse 1: Big Boi]\\nWell, it\\'s the M-I-croo...\n",
      "19659    ['[Intro]\\nThere are times when I look above a...\n",
      "19660    [\"[Intro: Prodigy and Havoc]\\nWord up son, wor...\n",
      "19661    [\"[Chorus]\\nWee-ooh wim-o-weh. Wee-ooh wim-o-w...\n",
      "19662    ['[Intro: Shaq]\\nYo Jef, why don\\'t you give m...\n",
      "Name: lyrics, Length: 19663, dtype: object\n"
     ]
    }
   ],
   "source": [
    "print(df.lyrics,sep='\\\\n\\\\n')"
   ]
  },
  {
   "cell_type": "markdown",
   "id": "6ac61242-440b-4fe1-964f-1bb59e0d5639",
   "metadata": {
    "id": "6ac61242-440b-4fe1-964f-1bb59e0d5639"
   },
   "source": [
    "* we need to remove punctuations and '[]' in this text"
   ]
  },
  {
   "cell_type": "markdown",
   "id": "e34e9b17-e2a8-495d-9fbe-2ebbc5644247",
   "metadata": {
    "id": "e34e9b17-e2a8-495d-9fbe-2ebbc5644247"
   },
   "source": [
    "### Preprocessing examples that we need to do\n",
    "* **1. Remove Punctuations**"
   ]
  },
  {
   "cell_type": "code",
   "execution_count": 11,
   "id": "0d735eaf-9dc2-45d3-a942-ccb0c64a5611",
   "metadata": {
    "colab": {
     "base_uri": "https://localhost:8080/",
     "height": 35
    },
    "id": "0d735eaf-9dc2-45d3-a942-ccb0c64a5611",
    "outputId": "112a590b-d67c-406a-e1a7-c211a9a2c9c3"
   },
   "outputs": [
    {
     "data": {
      "text/plain": [
       "'!\"#$%&\\'()*+,-./:;<=>?@[\\\\]^_`{|}~'"
      ]
     },
     "execution_count": 11,
     "metadata": {},
     "output_type": "execute_result"
    }
   ],
   "source": [
    "string.punctuation"
   ]
  },
  {
   "cell_type": "markdown",
   "id": "779059d2-68f3-4c29-926d-e8165128dd4c",
   "metadata": {},
   "source": [
    "### Define traslator"
   ]
  },
  {
   "cell_type": "code",
   "execution_count": 12,
   "id": "9c7ba0e8-e2c9-48ec-a60a-18e5ea54f8ec",
   "metadata": {
    "id": "9c7ba0e8-e2c9-48ec-a60a-18e5ea54f8ec"
   },
   "outputs": [],
   "source": [
    "translator= str.maketrans('','', string.punctuation)"
   ]
  },
  {
   "cell_type": "code",
   "execution_count": 13,
   "id": "7621d881-5cfb-480c-8f47-2727cd42d14c",
   "metadata": {
    "colab": {
     "base_uri": "https://localhost:8080/",
     "height": 35
    },
    "id": "7621d881-5cfb-480c-8f47-2727cd42d14c",
    "outputId": "8fea9e2e-6d7d-4204-861e-2951dcfb39c3"
   },
   "outputs": [
    {
     "data": {
      "text/plain": [
       "'next Thank you next Thank you next Yeah yee'"
      ]
     },
     "execution_count": 13,
     "metadata": {},
     "output_type": "execute_result"
    }
   ],
   "source": [
    "# example for removing punchuations\n",
    "xyz=\"next\\ Thank you,@ next\\ Thank you. next Yeah, yee'\"\n",
    "xyz.translate(translator)"
   ]
  },
  {
   "cell_type": "markdown",
   "id": "6f7934a9-faee-4117-a2de-7145cc722ee0",
   "metadata": {
    "id": "6f7934a9-faee-4117-a2de-7145cc722ee0"
   },
   "source": [
    "note:- see above text all punctuations are removed"
   ]
  },
  {
   "cell_type": "markdown",
   "id": "2252dbf4-e641-4712-a539-f88403f1310d",
   "metadata": {
    "id": "2252dbf4-e641-4712-a539-f88403f1310d"
   },
   "source": [
    "* **split texts verses, Pre-chorus, and into**"
   ]
  },
  {
   "cell_type": "code",
   "execution_count": 14,
   "id": "0fd3eca0-80a5-4389-a7c9-8b8d700321e3",
   "metadata": {
    "colab": {
     "base_uri": "https://localhost:8080/"
    },
    "id": "0fd3eca0-80a5-4389-a7c9-8b8d700321e3",
    "outputId": "92185eab-00e4-4b87-9826-d360796e4873"
   },
   "outputs": [
    {
     "data": {
      "text/plain": [
       "['[\"[Verse 1]\\\\nFound you when your heart was broke\\\\nI filled your cup until it overflowed\\\\nTook it so far to keep you close (Keep you close)\\\\nI was afraid to leave you on your own',\n",
       " \"[Pre-Chorus]\\\\nI said I'd catch you if you fall (Fall)\\\\nAnd if they laugh, then fuck 'em all (All)\\\\nAnd then I got you off your knees\\\\nPut you right back on your feet\\\\nJust so you could take advantage of me\"]"
      ]
     },
     "execution_count": 14,
     "metadata": {},
     "output_type": "execute_result"
    }
   ],
   "source": [
    "xyz= df.lyrics[1].split('\\\\n\\\\n')\n",
    "xyz[:2]"
   ]
  },
  {
   "cell_type": "code",
   "execution_count": 15,
   "id": "7acfe159-d5ef-4d56-8644-0cd98d6c5e92",
   "metadata": {
    "colab": {
     "base_uri": "https://localhost:8080/",
     "height": 35
    },
    "id": "7acfe159-d5ef-4d56-8644-0cd98d6c5e92",
    "outputId": "68252ec3-e938-4e55-cd72-cc901c11ee00"
   },
   "outputs": [
    {
     "data": {
      "text/plain": [
       "'\"[Verse 1'"
      ]
     },
     "execution_count": 15,
     "metadata": {},
     "output_type": "execute_result"
    }
   ],
   "source": [
    "key= xyz[0][xyz[0].find('[') + 1:xyz[0].find(']')].strip()\n",
    "key"
   ]
  },
  {
   "cell_type": "markdown",
   "id": "381404ae-f5c0-44d0-b428-7564d0f3bae9",
   "metadata": {
    "id": "381404ae-f5c0-44d0-b428-7564d0f3bae9"
   },
   "source": [
    "we have intro square brackets which have subheading infront of them we need to drop only intro word"
   ]
  },
  {
   "cell_type": "code",
   "execution_count": 16,
   "id": "5a536743-18e1-4ee5-a5fa-1c3e1bced604",
   "metadata": {
    "colab": {
     "base_uri": "https://localhost:8080/"
    },
    "id": "5a536743-18e1-4ee5-a5fa-1c3e1bced604",
    "outputId": "a75423cd-6c41-4b41-a2cc-5b25ca200bec"
   },
   "outputs": [
    {
     "data": {
      "text/plain": [
       "[\"['[Intro: Shaq]\\\\nYo Jef, why don\\\\'t you give me a hoopa beat or something\\\\nSomething I can go to the park to\\\\nYeah, there you go, allright, I like that, I like that\\\\nIt sound dope\",\n",
       " \"(Bust \\\\'em in the eye Shaq)\"]"
      ]
     },
     "execution_count": 16,
     "metadata": {},
     "output_type": "execute_result"
    }
   ],
   "source": [
    "xyz= df.lyrics[19662].split('\\\\n\\\\n')\n",
    "xyz[:2]"
   ]
  },
  {
   "cell_type": "code",
   "execution_count": 17,
   "id": "f9700da8-b4a4-47ce-96e0-7c33a308a125",
   "metadata": {
    "colab": {
     "base_uri": "https://localhost:8080/",
     "height": 35
    },
    "id": "f9700da8-b4a4-47ce-96e0-7c33a308a125",
    "outputId": "6b414343-77e4-4f21-bf79-4ec46f4942a0"
   },
   "outputs": [
    {
     "data": {
      "text/plain": [
       "\"'[Intro: Shaq\""
      ]
     },
     "execution_count": 17,
     "metadata": {},
     "output_type": "execute_result"
    }
   ],
   "source": [
    "key= xyz[0][xyz[0].find('[')+1:  xyz[0].find(']')].strip()\n",
    "key"
   ]
  },
  {
   "cell_type": "code",
   "execution_count": 18,
   "id": "59328cf7-9799-4dd4-90ef-6b2d24b04c2e",
   "metadata": {
    "colab": {
     "base_uri": "https://localhost:8080/",
     "height": 35
    },
    "id": "59328cf7-9799-4dd4-90ef-6b2d24b04c2e",
    "outputId": "c4e8390a-9172-43cf-8cce-fdf8604baf71"
   },
   "outputs": [
    {
     "data": {
      "text/plain": [
       "\"'[Intro\""
      ]
     },
     "execution_count": 18,
     "metadata": {},
     "output_type": "execute_result"
    }
   ],
   "source": [
    "if ':' in key:\n",
    "#     take evrything till ':' comes\n",
    "    key= key[:key.find(':')]\n",
    "    \n",
    "key  "
   ]
  },
  {
   "cell_type": "code",
   "execution_count": 19,
   "id": "ba4dc2bc-b2c4-45c6-b2f8-fb183dca38ed",
   "metadata": {
    "colab": {
     "base_uri": "https://localhost:8080/",
     "height": 52
    },
    "id": "ba4dc2bc-b2c4-45c6-b2f8-fb183dca38ed",
    "outputId": "980d16d9-09a2-4a90-80e1-515a811f6005"
   },
   "outputs": [
    {
     "data": {
      "text/plain": [
       "\"\\\\nYo Jef, why don\\\\'t you give me a hoopa beat or something\\\\nSomething I can go to the park to\\\\nYeah, there you go, allright, I like that, I like that\\\\nIt sound dope\""
      ]
     },
     "execution_count": 19,
     "metadata": {},
     "output_type": "execute_result"
    }
   ],
   "source": [
    "# take exrything after square brackets end\n",
    "# need +1 beause skip ']' <--this\n",
    "xyz[0][xyz[0].find(']')+1:]"
   ]
  },
  {
   "cell_type": "markdown",
   "id": "0dd62cbb-4e93-4ea4-8433-69dec9455f29",
   "metadata": {
    "id": "0dd62cbb-4e93-4ea4-8433-69dec9455f29"
   },
   "source": [
    "# Clean this text as all above examples"
   ]
  },
  {
   "cell_type": "code",
   "execution_count": 20,
   "id": "264731d0-132b-40e0-b3a5-959d524c389a",
   "metadata": {
    "colab": {
     "base_uri": "https://localhost:8080/",
     "height": 196
    },
    "id": "264731d0-132b-40e0-b3a5-959d524c389a",
    "outputId": "6a9459db-8ad6-4ad3-a7a8-45ca2e47f322"
   },
   "outputs": [
    {
     "data": {
      "text/html": [
       "<div>\n",
       "<style scoped>\n",
       "    .dataframe tbody tr th:only-of-type {\n",
       "        vertical-align: middle;\n",
       "    }\n",
       "\n",
       "    .dataframe tbody tr th {\n",
       "        vertical-align: top;\n",
       "    }\n",
       "\n",
       "    .dataframe thead th {\n",
       "        text-align: right;\n",
       "    }\n",
       "</style>\n",
       "<table border=\"1\" class=\"dataframe\">\n",
       "  <thead>\n",
       "    <tr style=\"text-align: right;\">\n",
       "      <th></th>\n",
       "      <th>song_id</th>\n",
       "      <th>lyrics</th>\n",
       "    </tr>\n",
       "  </thead>\n",
       "  <tbody>\n",
       "    <tr>\n",
       "      <th>0</th>\n",
       "      <td>3e9HZxeyfWwjeyPAMmWSSQ</td>\n",
       "      <td>['[Verse 1]\\nThought I\\'d end up with Sean\\nBu...</td>\n",
       "    </tr>\n",
       "    <tr>\n",
       "      <th>1</th>\n",
       "      <td>5p7ujcrUXASCNwRaWNHR1C</td>\n",
       "      <td>[\"[Verse 1]\\nFound you when your heart was bro...</td>\n",
       "    </tr>\n",
       "    <tr>\n",
       "      <th>2</th>\n",
       "      <td>2xLMifQCjDGFmkHkpNLD9h</td>\n",
       "      <td>['[Part I]\\n\\n[Intro: Drake]\\nAstro, yeah\\nSun...</td>\n",
       "    </tr>\n",
       "    <tr>\n",
       "      <th>3</th>\n",
       "      <td>1rqqCSm0Qe4I9rUvWncaom</td>\n",
       "      <td>[\"[Intro]\\nHigh, high hopes\\n\\n[Chorus]\\nHad t...</td>\n",
       "    </tr>\n",
       "    <tr>\n",
       "      <th>4</th>\n",
       "      <td>0bYg9bo50gSsH3LtXe2SQn</td>\n",
       "      <td>[\"[Intro]\\nI-I-I don't want a lot for Christma...</td>\n",
       "    </tr>\n",
       "  </tbody>\n",
       "</table>\n",
       "</div>"
      ],
      "text/plain": [
       "                  song_id                                             lyrics\n",
       "0  3e9HZxeyfWwjeyPAMmWSSQ  ['[Verse 1]\\nThought I\\'d end up with Sean\\nBu...\n",
       "1  5p7ujcrUXASCNwRaWNHR1C  [\"[Verse 1]\\nFound you when your heart was bro...\n",
       "2  2xLMifQCjDGFmkHkpNLD9h  ['[Part I]\\n\\n[Intro: Drake]\\nAstro, yeah\\nSun...\n",
       "3  1rqqCSm0Qe4I9rUvWncaom  [\"[Intro]\\nHigh, high hopes\\n\\n[Chorus]\\nHad t...\n",
       "4  0bYg9bo50gSsH3LtXe2SQn  [\"[Intro]\\nI-I-I don't want a lot for Christma..."
      ]
     },
     "execution_count": 20,
     "metadata": {},
     "output_type": "execute_result"
    }
   ],
   "source": [
    "df.head()"
   ]
  },
  {
   "cell_type": "code",
   "execution_count": 21,
   "id": "839b9645-42f2-40f0-acfe-da030d60edfd",
   "metadata": {
    "colab": {
     "base_uri": "https://localhost:8080/"
    },
    "id": "839b9645-42f2-40f0-acfe-da030d60edfd",
    "outputId": "dd0aaac4-4fd5-4a56-c998-072827193d3e"
   },
   "outputs": [
    {
     "data": {
      "text/plain": [
       "0        ['[Verse 1]\\nThought I\\'d end up with Sean\\nBu...\n",
       "1        [\"[Verse 1]\\nFound you when your heart was bro...\n",
       "2        ['[Part I]\\n\\n[Intro: Drake]\\nAstro, yeah\\nSun...\n",
       "3        [\"[Intro]\\nHigh, high hopes\\n\\n[Chorus]\\nHad t...\n",
       "4        [\"[Intro]\\nI-I-I don't want a lot for Christma...\n",
       "                               ...                        \n",
       "19658    ['[Verse 1: Big Boi]\\nWell, it\\'s the M-I-croo...\n",
       "19659    ['[Intro]\\nThere are times when I look above a...\n",
       "19660    [\"[Intro: Prodigy and Havoc]\\nWord up son, wor...\n",
       "19661    [\"[Chorus]\\nWee-ooh wim-o-weh. Wee-ooh wim-o-w...\n",
       "19662    ['[Intro: Shaq]\\nYo Jef, why don\\'t you give m...\n",
       "Name: lyrics, Length: 19663, dtype: object"
      ]
     },
     "execution_count": 21,
     "metadata": {},
     "output_type": "execute_result"
    }
   ],
   "source": [
    "df.lyrics"
   ]
  },
  {
   "cell_type": "code",
   "execution_count": 22,
   "id": "JoFxu-Fc5VWP",
   "metadata": {
    "id": "JoFxu-Fc5VWP"
   },
   "outputs": [],
   "source": [
    "text=[]"
   ]
  },
  {
   "cell_type": "code",
   "execution_count": 23,
   "id": "1c234a56-0254-4259-8fe5-66673865ee58",
   "metadata": {
    "id": "1c234a56-0254-4259-8fe5-66673865ee58"
   },
   "outputs": [],
   "source": [
    "for i in df.lyrics:\n",
    "    for verse in i.split(\"\\\\n\\\\n\"):\n",
    "        text.append(verse)"
   ]
  },
  {
   "cell_type": "code",
   "execution_count": 24,
   "id": "a1211444-66ed-48fd-ade0-3e31e42475c5",
   "metadata": {
    "id": "a1211444-66ed-48fd-ade0-3e31e42475c5"
   },
   "outputs": [],
   "source": [
    "replace_list =  ['[Verse 1]','[Verse 2]','[Verse 3]','[Verse 4]', '[Chorus]']"
   ]
  },
  {
   "cell_type": "code",
   "execution_count": 25,
   "id": "f9f1e3a7-41fc-4acd-8449-c9a931c6cd22",
   "metadata": {
    "colab": {
     "base_uri": "https://localhost:8080/",
     "height": 68
    },
    "id": "f9f1e3a7-41fc-4acd-8449-c9a931c6cd22",
    "outputId": "9a229260-3e51-45d7-e1cb-ac95d4ea0917"
   },
   "outputs": [
    {
     "data": {
      "text/plain": [
       "'[\\'[Verse 1]\\\\nThought I\\\\\\'d end up with Sean\\\\nBut he wasn\\\\\\'t a match\\\\nWrote some songs about Ricky\\\\nNow I listen and laugh\\\\nEven almost got married\\\\nAnd for Pete, I\\\\\\'m so thankful\\\\nWish I could say, \"Thank you\" to Malcolm\\\\n\\\\\\'Cause he was an angel'"
      ]
     },
     "execution_count": 25,
     "metadata": {},
     "output_type": "execute_result"
    }
   ],
   "source": [
    "text[0]"
   ]
  },
  {
   "cell_type": "code",
   "execution_count": 26,
   "id": "1747aa54-9718-41a1-8051-643b09a98944",
   "metadata": {
    "id": "1747aa54-9718-41a1-8051-643b09a98944"
   },
   "outputs": [],
   "source": [
    "cleaned_text= []"
   ]
  },
  {
   "cell_type": "code",
   "execution_count": 27,
   "id": "ff9d75b1-dd0e-4aee-a167-b087609a3e7d",
   "metadata": {
    "colab": {
     "base_uri": "https://localhost:8080/"
    },
    "id": "ff9d75b1-dd0e-4aee-a167-b087609a3e7d",
    "outputId": "c97e8c4e-d494-4e5f-8744-1fa09a130bd8"
   },
   "outputs": [
    {
     "name": "stderr",
     "output_type": "stream",
     "text": [
      "100%|██████████████████████████████████████████████████████████████████████| 486430/486430 [00:01<00:00, 251227.58it/s]\n"
     ]
    }
   ],
   "source": [
    "for s in tqdm(text):\n",
    "   for i in replace_list:\n",
    "     if i in s:\n",
    "       cleaned_text += [x.lower().replace('(','').replace(')','').translate(translator) for x in s[s.find(']')+1:].split('\\\\n') if len(x) > 1]\n"
   ]
  },
  {
   "cell_type": "code",
   "execution_count": 28,
   "id": "8a96b198-cb4b-460e-a225-cc53e9fac349",
   "metadata": {
    "colab": {
     "base_uri": "https://localhost:8080/"
    },
    "id": "8a96b198-cb4b-460e-a225-cc53e9fac349",
    "outputId": "ca1f1410-8dbc-4b93-c810-f516067db17e"
   },
   "outputs": [
    {
     "data": {
      "text/plain": [
       "237764"
      ]
     },
     "execution_count": 28,
     "metadata": {},
     "output_type": "execute_result"
    }
   ],
   "source": [
    "len(cleaned_text)\n"
   ]
  },
  {
   "cell_type": "code",
   "execution_count": 29,
   "id": "a02852c5-3846-4341-8e00-fd3a235c0382",
   "metadata": {
    "colab": {
     "base_uri": "https://localhost:8080/"
    },
    "id": "a02852c5-3846-4341-8e00-fd3a235c0382",
    "outputId": "bfd057bb-41fd-4567-d052-d0b34f876deb"
   },
   "outputs": [
    {
     "data": {
      "text/plain": [
       "['[\\'[Verse 1]\\\\nThought I\\\\\\'d end up with Sean\\\\nBut he wasn\\\\\\'t a match\\\\nWrote some songs about Ricky\\\\nNow I listen and laugh\\\\nEven almost got married\\\\nAnd for Pete, I\\\\\\'m so thankful\\\\nWish I could say, \"Thank you\" to Malcolm\\\\n\\\\\\'Cause he was an angel',\n",
       " \"[Pre-Chorus]\\\\nOne taught me love\\\\nOne taught me patience\\\\nAnd one taught me pain\\\\nNow, I\\\\'m so amazing\\\\nSay I\\\\'ve loved and I\\\\'ve lost\\\\nBut that\\\\'s not what I see\\\\nSo, look what I got\\\\nLook what you taught me\\\\nAnd for that, I say\",\n",
       " \"[Chorus]\\\\nThank you, next (Next)\\\\nThank you, next (Next)\\\\nThank you, next\\\\nI\\\\'m so fuckin\\\\' grateful for my ex\\\\nThank you, next (Next)\\\\nThank you, next (Next)\\\\nThank you, next (Next)\\\\nI\\\\'m so fuckin\\\\'—\",\n",
       " \"[Verse 2]\\\\nSpend more time with my friends\\\\nI ain\\\\'t worried \\\\'bout nothin\\\\'\\\\nPlus, I met someone else\\\\nWe havin\\\\' better discussions\\\\nI know they say I move on too fast\\\\nBut this one gon\\\\' last\\\\n\\\\'Cause her name is Ari\\\\nAnd I\\\\'m so good with that (So good with that)\",\n",
       " \"[Pre-Chorus]\\\\nShe taught me love (Love)\\\\nShe taught me patience (Patience)\\\\nHow she handles pain (Pain)\\\\nThat shit\\\\'s amazing (Yeah, she\\\\'s amazing)\\\\nI\\\\'ve loved and I\\\\'ve lost (Yeah, yeah)\\\\nBut that\\\\'s not what I see (Yeah, yeah)\\\\n\\\\'Cause look what I\\\\'ve found (Yeah, yeah)\\\\nAin\\\\'t no need for searching, and for that, I say\"]"
      ]
     },
     "execution_count": 29,
     "metadata": {},
     "output_type": "execute_result"
    }
   ],
   "source": [
    "text[0:5]"
   ]
  },
  {
   "cell_type": "code",
   "execution_count": 30,
   "id": "ce2a25d9-060a-4667-9f78-b1d2c06289bc",
   "metadata": {
    "colab": {
     "base_uri": "https://localhost:8080/"
    },
    "id": "ce2a25d9-060a-4667-9f78-b1d2c06289bc",
    "outputId": "c22a072d-3b95-4de1-9cae-3f62ec923618"
   },
   "outputs": [
    {
     "data": {
      "text/plain": [
       "['thought id end up with sean',\n",
       " 'but he wasnt a match',\n",
       " 'wrote some songs about ricky',\n",
       " 'now i listen and laugh',\n",
       " 'even almost got married',\n",
       " 'and for pete im so thankful',\n",
       " 'wish i could say thank you to malcolm',\n",
       " 'cause he was an angel',\n",
       " 'thank you next next',\n",
       " 'thank you next next']"
      ]
     },
     "execution_count": 30,
     "metadata": {},
     "output_type": "execute_result"
    }
   ],
   "source": [
    "cleaned_text[:10]"
   ]
  },
  {
   "cell_type": "code",
   "execution_count": 31,
   "id": "10d68401-3338-4eb0-9ee9-3f02d6bf83c3",
   "metadata": {},
   "outputs": [],
   "source": [
    "with open(\"data/cleaned_text.txt\", 'wb') as fp:\n",
    "    pickle.dump(cleaned_text, fp)"
   ]
  },
  {
   "cell_type": "markdown",
   "id": "f063a73b-d247-45ff-8fbf-dd4e5ac32a81",
   "metadata": {
    "id": "f063a73b-d247-45ff-8fbf-dd4e5ac32a81"
   },
   "source": [
    "# Now we will convert text into vectors"
   ]
  },
  {
   "cell_type": "code",
   "execution_count": 33,
   "id": "9eb168f5-26f5-4f5a-a071-eba5441665ca",
   "metadata": {
    "id": "9eb168f5-26f5-4f5a-a071-eba5441665ca"
   },
   "outputs": [],
   "source": [
    "from tensorflow.keras.preprocessing.text import Tokenizer\n",
    "from keras.utils import to_categorical\n"
   ]
  },
  {
   "cell_type": "markdown",
   "id": "dVij4R4D-lR1",
   "metadata": {
    "id": "dVij4R4D-lR1"
   },
   "source": [
    "### Tokenize the texts"
   ]
  },
  {
   "cell_type": "code",
   "execution_count": 34,
   "id": "ae0cf0cc-8879-4c87-b5a3-ee809e342d82",
   "metadata": {
    "id": "ae0cf0cc-8879-4c87-b5a3-ee809e342d82"
   },
   "outputs": [],
   "source": [
    "tokenizer= Tokenizer()\n",
    "tokenizer.fit_on_texts(cleaned_text)"
   ]
  },
  {
   "cell_type": "code",
   "execution_count": 35,
   "id": "0910b4dc-58fb-4c2a-8a0c-52e40420c3d2",
   "metadata": {
    "id": "0910b4dc-58fb-4c2a-8a0c-52e40420c3d2"
   },
   "outputs": [
    {
     "data": {
      "text/plain": [
       "{'i': 1,\n",
       " 'you': 2,\n",
       " 'the': 3,\n",
       " 'to': 4,\n",
       " 'and': 5,\n",
       " 'a': 6,\n",
       " 'me': 7,\n",
       " 'my': 8,\n",
       " 'it': 9,\n",
       " 'in': 10,\n",
       " 'that': 11,\n",
       " 'on': 12,\n",
       " 'im': 13,\n",
       " 'your': 14,\n",
       " 'of': 15,\n",
       " 'love': 16,\n",
       " 'all': 17,\n",
       " 'be': 18,\n",
       " 'dont': 19,\n",
       " 'like': 20,\n",
       " 'know': 21,\n",
       " 'for': 22,\n",
       " 'so': 23,\n",
       " 'but': 24,\n",
       " 'we': 25,\n",
       " 'is': 26,\n",
       " 'just': 27,\n",
       " 'up': 28,\n",
       " 'with': 29,\n",
       " 'its': 30,\n",
       " 'when': 31,\n",
       " 'no': 32,\n",
       " 'got': 33,\n",
       " 'this': 34,\n",
       " 'do': 35,\n",
       " 'what': 36,\n",
       " 'baby': 37,\n",
       " 'oh': 38,\n",
       " 'if': 39,\n",
       " 'can': 40,\n",
       " 'yeah': 41,\n",
       " 'get': 42,\n",
       " 'now': 43,\n",
       " 'out': 44,\n",
       " 'youre': 45,\n",
       " 'go': 46,\n",
       " 'was': 47,\n",
       " 'down': 48,\n",
       " 'she': 49,\n",
       " 'one': 50,\n",
       " 'cause': 51,\n",
       " 'cant': 52,\n",
       " 'never': 53,\n",
       " 'they': 54,\n",
       " 'time': 55,\n",
       " 'want': 56,\n",
       " 'say': 57,\n",
       " 'way': 58,\n",
       " 'see': 59,\n",
       " 'make': 60,\n",
       " 'let': 61,\n",
       " 'her': 62,\n",
       " 'come': 63,\n",
       " 'back': 64,\n",
       " 'aint': 65,\n",
       " 'girl': 66,\n",
       " 'not': 67,\n",
       " 'wanna': 68,\n",
       " 'take': 69,\n",
       " 'have': 70,\n",
       " 'are': 71,\n",
       " 'how': 72,\n",
       " 'at': 73,\n",
       " 'ill': 74,\n",
       " 'from': 75,\n",
       " 'right': 76,\n",
       " 'were': 77,\n",
       " 'he': 78,\n",
       " 'night': 79,\n",
       " 'feel': 80,\n",
       " 'been': 81,\n",
       " 'gonna': 82,\n",
       " 'need': 83,\n",
       " 'will': 84,\n",
       " 'here': 85,\n",
       " 'thats': 86,\n",
       " 'ive': 87,\n",
       " 'as': 88,\n",
       " 'tell': 89,\n",
       " 'there': 90,\n",
       " 'life': 91,\n",
       " 'could': 92,\n",
       " 'heart': 93,\n",
       " 'well': 94,\n",
       " 'about': 95,\n",
       " 'man': 96,\n",
       " 'little': 97,\n",
       " 'more': 98,\n",
       " 'good': 99,\n",
       " 'too': 100,\n",
       " 'give': 101,\n",
       " 'away': 102,\n",
       " 'day': 103,\n",
       " 'think': 104,\n",
       " 'then': 105,\n",
       " 'keep': 106,\n",
       " 'said': 107,\n",
       " 'where': 108,\n",
       " 'every': 109,\n",
       " 'some': 110,\n",
       " 'why': 111,\n",
       " 'had': 112,\n",
       " 'by': 113,\n",
       " 'only': 114,\n",
       " 'hey': 115,\n",
       " 'around': 116,\n",
       " 'world': 117,\n",
       " 'ever': 118,\n",
       " 'still': 119,\n",
       " 'theres': 120,\n",
       " 'who': 121,\n",
       " 'through': 122,\n",
       " 'or': 123,\n",
       " 'look': 124,\n",
       " 'over': 125,\n",
       " 'long': 126,\n",
       " 'would': 127,\n",
       " 'off': 128,\n",
       " 'wont': 129,\n",
       " 'again': 130,\n",
       " 'eyes': 131,\n",
       " 'gotta': 132,\n",
       " 'always': 133,\n",
       " 'our': 134,\n",
       " 'really': 135,\n",
       " 'find': 136,\n",
       " 'ooh': 137,\n",
       " 'mind': 138,\n",
       " 'shes': 139,\n",
       " 'them': 140,\n",
       " 'better': 141,\n",
       " 'put': 142,\n",
       " 'tonight': 143,\n",
       " 'hold': 144,\n",
       " 'thing': 145,\n",
       " 'home': 146,\n",
       " 'things': 147,\n",
       " 'nothing': 148,\n",
       " 'his': 149,\n",
       " 'much': 150,\n",
       " 'am': 151,\n",
       " 'going': 152,\n",
       " 'an': 153,\n",
       " 'us': 154,\n",
       " 'ya': 155,\n",
       " 'gone': 156,\n",
       " 'boy': 157,\n",
       " 'everything': 158,\n",
       " 'these': 159,\n",
       " 'than': 160,\n",
       " 'call': 161,\n",
       " 'id': 162,\n",
       " 'made': 163,\n",
       " 'even': 164,\n",
       " 'him': 165,\n",
       " 'into': 166,\n",
       " 'something': 167,\n",
       " 'turn': 168,\n",
       " 'leave': 169,\n",
       " 'real': 170,\n",
       " 'stop': 171,\n",
       " 'em': 172,\n",
       " 'run': 173,\n",
       " 'try': 174,\n",
       " 'another': 175,\n",
       " 'nigga': 176,\n",
       " 'did': 177,\n",
       " 'hear': 178,\n",
       " 'stay': 179,\n",
       " 'hard': 180,\n",
       " 'show': 181,\n",
       " 'live': 182,\n",
       " 'before': 183,\n",
       " 'youll': 184,\n",
       " 'lets': 185,\n",
       " 'money': 186,\n",
       " 'should': 187,\n",
       " 'new': 188,\n",
       " 'head': 189,\n",
       " 'believe': 190,\n",
       " 'la': 191,\n",
       " 'shit': 192,\n",
       " 'dance': 193,\n",
       " 'without': 194,\n",
       " 'alone': 195,\n",
       " 'youve': 196,\n",
       " 'last': 197,\n",
       " 'crazy': 198,\n",
       " 'old': 199,\n",
       " 'walk': 200,\n",
       " 'bitch': 201,\n",
       " 'name': 202,\n",
       " 'enough': 203,\n",
       " 'face': 204,\n",
       " 'two': 205,\n",
       " 'play': 206,\n",
       " 'left': 207,\n",
       " 'mine': 208,\n",
       " 'inside': 209,\n",
       " 'feeling': 210,\n",
       " 'people': 211,\n",
       " 'high': 212,\n",
       " 'sweet': 213,\n",
       " 'bout': 214,\n",
       " 'light': 215,\n",
       " 'bad': 216,\n",
       " 'talk': 217,\n",
       " 'fall': 218,\n",
       " 'thought': 219,\n",
       " 'hes': 220,\n",
       " 'kiss': 221,\n",
       " 'wrong': 222,\n",
       " 'because': 223,\n",
       " 'same': 224,\n",
       " 'someone': 225,\n",
       " 'niggas': 226,\n",
       " 'girls': 227,\n",
       " 'place': 228,\n",
       " 'please': 229,\n",
       " 'myself': 230,\n",
       " 'didnt': 231,\n",
       " 'other': 232,\n",
       " 'song': 233,\n",
       " 'maybe': 234,\n",
       " 'free': 235,\n",
       " 'fuck': 236,\n",
       " 'big': 237,\n",
       " 'break': 238,\n",
       " 'hand': 239,\n",
       " 'used': 240,\n",
       " 'best': 241,\n",
       " 'together': 242,\n",
       " 'alright': 243,\n",
       " 'change': 244,\n",
       " 'looking': 245,\n",
       " 'true': 246,\n",
       " 'knew': 247,\n",
       " 'rock': 248,\n",
       " 'while': 249,\n",
       " 'told': 250,\n",
       " 'til': 251,\n",
       " 'rain': 252,\n",
       " 'cry': 253,\n",
       " 'hit': 254,\n",
       " 'done': 255,\n",
       " 'lost': 256,\n",
       " 'waiting': 257,\n",
       " 'yes': 258,\n",
       " 'everybody': 259,\n",
       " 'might': 260,\n",
       " 'first': 261,\n",
       " 'forever': 262,\n",
       " 'remember': 263,\n",
       " 'end': 264,\n",
       " 'god': 265,\n",
       " 'days': 266,\n",
       " 'side': 267,\n",
       " 'start': 268,\n",
       " 'touch': 269,\n",
       " 'young': 270,\n",
       " 'hands': 271,\n",
       " 'wait': 272,\n",
       " 'dream': 273,\n",
       " 'friends': 274,\n",
       " 'coming': 275,\n",
       " 'gon': 276,\n",
       " 'ride': 277,\n",
       " 'comes': 278,\n",
       " 'has': 279,\n",
       " 'wish': 280,\n",
       " 'whoa': 281,\n",
       " 'move': 282,\n",
       " 'those': 283,\n",
       " 'watch': 284,\n",
       " 'help': 285,\n",
       " 'sure': 286,\n",
       " 'whats': 287,\n",
       " 'woman': 288,\n",
       " 'stand': 289,\n",
       " 'else': 290,\n",
       " 'mean': 291,\n",
       " 'sun': 292,\n",
       " 'hot': 293,\n",
       " 'shake': 294,\n",
       " 'care': 295,\n",
       " 'work': 296,\n",
       " 'goes': 297,\n",
       " 'own': 298,\n",
       " 'nobody': 299,\n",
       " 'town': 300,\n",
       " 'sky': 301,\n",
       " 'dreams': 302,\n",
       " 'makes': 303,\n",
       " 'somebody': 304,\n",
       " 'lose': 305,\n",
       " 'getting': 306,\n",
       " 'soul': 307,\n",
       " 'i’m': 308,\n",
       " 'took': 309,\n",
       " 'came': 310,\n",
       " 'words': 311,\n",
       " 'round': 312,\n",
       " 'body': 313,\n",
       " 'door': 314,\n",
       " 'close': 315,\n",
       " 'fire': 316,\n",
       " 'na': 317,\n",
       " 'must': 318,\n",
       " 'times': 319,\n",
       " 'die': 320,\n",
       " 'found': 321,\n",
       " 'bring': 322,\n",
       " 'their': 323,\n",
       " 'friend': 324,\n",
       " 'uh': 325,\n",
       " 'far': 326,\n",
       " 'smile': 327,\n",
       " 'matter': 328,\n",
       " 'living': 329,\n",
       " 'sing': 330,\n",
       " 'thinking': 331,\n",
       " 'pain': 332,\n",
       " 'fly': 333,\n",
       " 'hope': 334,\n",
       " 'trying': 335,\n",
       " 'beat': 336,\n",
       " 'cold': 337,\n",
       " 'whole': 338,\n",
       " 'black': 339,\n",
       " 'roll': 340,\n",
       " 'anything': 341,\n",
       " 'guess': 342,\n",
       " 'hell': 343,\n",
       " 'blue': 344,\n",
       " 'kind': 345,\n",
       " 'yourself': 346,\n",
       " 'lonely': 347,\n",
       " 'late': 348,\n",
       " 'mama': 349,\n",
       " 'seen': 350,\n",
       " 'after': 351,\n",
       " 'knows': 352,\n",
       " 'loving': 353,\n",
       " 'sometimes': 354,\n",
       " 'next': 355,\n",
       " 'though': 356,\n",
       " 'da': 357,\n",
       " 'feels': 358,\n",
       " 'road': 359,\n",
       " 'pretty': 360,\n",
       " 'miss': 361,\n",
       " 'heard': 362,\n",
       " 'many': 363,\n",
       " 'music': 364,\n",
       " 'forget': 365,\n",
       " 'lot': 366,\n",
       " 'tears': 367,\n",
       " 'understand': 368,\n",
       " 'lights': 369,\n",
       " 'any': 370,\n",
       " 'hurt': 371,\n",
       " 'theyre': 372,\n",
       " 'morning': 373,\n",
       " 'until': 374,\n",
       " 'open': 375,\n",
       " 'slow': 376,\n",
       " 'ready': 377,\n",
       " 'running': 378,\n",
       " 'gave': 379,\n",
       " 'couldnt': 380,\n",
       " 'doing': 381,\n",
       " 'fine': 382,\n",
       " 'arms': 383,\n",
       " 'once': 384,\n",
       " 'deep': 385,\n",
       " 'strong': 386,\n",
       " 'may': 387,\n",
       " 'today': 388,\n",
       " 'boys': 389,\n",
       " 'lie': 390,\n",
       " 'sleep': 391,\n",
       " 'game': 392,\n",
       " 'nothin': 393,\n",
       " 'damn': 394,\n",
       " 'since': 395,\n",
       " 'floor': 396,\n",
       " 'went': 397,\n",
       " 'loves': 398,\n",
       " 'ima': 399,\n",
       " 'don’t': 400,\n",
       " 'red': 401,\n",
       " 'line': 402,\n",
       " 'easy': 403,\n",
       " 'goodbye': 404,\n",
       " 'wanted': 405,\n",
       " 'hair': 406,\n",
       " 'sound': 407,\n",
       " 'fight': 408,\n",
       " 'hate': 409,\n",
       " 'lord': 410,\n",
       " 'years': 411,\n",
       " 'feet': 412,\n",
       " 'heaven': 413,\n",
       " 'honey': 414,\n",
       " 'drive': 415,\n",
       " 'party': 416,\n",
       " 'making': 417,\n",
       " 'wonder': 418,\n",
       " 'saw': 419,\n",
       " 'low': 420,\n",
       " 'listen': 421,\n",
       " 'bit': 422,\n",
       " 'bed': 423,\n",
       " 'till': 424,\n",
       " 'behind': 425,\n",
       " 'happy': 426,\n",
       " 'city': 427,\n",
       " 'babe': 428,\n",
       " 'ah': 429,\n",
       " 'house': 430,\n",
       " 'top': 431,\n",
       " 'ask': 432,\n",
       " 'does': 433,\n",
       " 'chance': 434,\n",
       " 'wild': 435,\n",
       " 'fast': 436,\n",
       " 'talking': 437,\n",
       " 'fool': 438,\n",
       " 'under': 439,\n",
       " 'sorry': 440,\n",
       " 'beautiful': 441,\n",
       " 'pull': 442,\n",
       " 'tried': 443,\n",
       " 'broken': 444,\n",
       " 'falling': 445,\n",
       " 'gets': 446,\n",
       " 'street': 447,\n",
       " 'white': 448,\n",
       " 'lay': 449,\n",
       " 'set': 450,\n",
       " 'stars': 451,\n",
       " 'hide': 452,\n",
       " 'yo': 453,\n",
       " 'wake': 454,\n",
       " 'car': 455,\n",
       " 'says': 456,\n",
       " 'loved': 457,\n",
       " 'goin': 458,\n",
       " 'summer': 459,\n",
       " 'wants': 460,\n",
       " 'tight': 461,\n",
       " 'dark': 462,\n",
       " 'seems': 463,\n",
       " 'ass': 464,\n",
       " 'ground': 465,\n",
       " 'cool': 466,\n",
       " 'truth': 467,\n",
       " 'yall': 468,\n",
       " 'moment': 469,\n",
       " 'wouldnt': 470,\n",
       " 'each': 471,\n",
       " 'alive': 472,\n",
       " 'gettin': 473,\n",
       " 'room': 474,\n",
       " 'along': 475,\n",
       " 'lady': 476,\n",
       " 'water': 477,\n",
       " 'standing': 478,\n",
       " 'tryna': 479,\n",
       " 'very': 480,\n",
       " 'lips': 481,\n",
       " 'hearts': 482,\n",
       " 'weve': 483,\n",
       " 'front': 484,\n",
       " 'doesnt': 485,\n",
       " 'step': 486,\n",
       " 'catch': 487,\n",
       " 'reason': 488,\n",
       " 'being': 489,\n",
       " 'it’s': 490,\n",
       " 'wind': 491,\n",
       " 'drink': 492,\n",
       " 'save': 493,\n",
       " 'walking': 494,\n",
       " 'phone': 495,\n",
       " 'takes': 496,\n",
       " 'lookin': 497,\n",
       " 'youd': 498,\n",
       " 'lover': 499,\n",
       " 'bet': 500,\n",
       " 'ayy': 501,\n",
       " 'started': 502,\n",
       " 'swear': 503,\n",
       " 'drop': 504,\n",
       " 'air': 505,\n",
       " 'afraid': 506,\n",
       " 'fun': 507,\n",
       " 'word': 508,\n",
       " 'mad': 509,\n",
       " 'met': 510,\n",
       " 'jump': 511,\n",
       " 'nights': 512,\n",
       " 'breathe': 513,\n",
       " 'holding': 514,\n",
       " 'dead': 515,\n",
       " 'soon': 516,\n",
       " 'both': 517,\n",
       " 'anymore': 518,\n",
       " 'whos': 519,\n",
       " 'daddy': 520,\n",
       " 'meet': 521,\n",
       " 'part': 522,\n",
       " 'guy': 523,\n",
       " 'pay': 524,\n",
       " 'felt': 525,\n",
       " 'saying': 526,\n",
       " 'kill': 527,\n",
       " 'turned': 528,\n",
       " 'okay': 529,\n",
       " 'straight': 530,\n",
       " 'burn': 531,\n",
       " 'yours': 532,\n",
       " 'check': 533,\n",
       " 'feelin': 534,\n",
       " 'talkin': 535,\n",
       " 'gold': 536,\n",
       " 'throw': 537,\n",
       " 'promise': 538,\n",
       " 'comin': 539,\n",
       " 'such': 540,\n",
       " 'spend': 541,\n",
       " 'wasnt': 542,\n",
       " 'caught': 543,\n",
       " 'whatever': 544,\n",
       " 'three': 545,\n",
       " 'dancing': 546,\n",
       " 'sad': 547,\n",
       " 'lies': 548,\n",
       " 'playing': 549,\n",
       " 'apart': 550,\n",
       " 'full': 551,\n",
       " 'kids': 552,\n",
       " 'perfect': 553,\n",
       " 'control': 554,\n",
       " 'calling': 555,\n",
       " 'broke': 556,\n",
       " 'shine': 557,\n",
       " 'different': 558,\n",
       " 'seem': 559,\n",
       " 'above': 560,\n",
       " 'crying': 561,\n",
       " 'rest': 562,\n",
       " 'ha': 563,\n",
       " 'angel': 564,\n",
       " 'eye': 565,\n",
       " 'sit': 566,\n",
       " 'between': 567,\n",
       " 'number': 568,\n",
       " 'bitches': 569,\n",
       " 'worry': 570,\n",
       " 'breath': 571,\n",
       " 'looks': 572,\n",
       " 'follow': 573,\n",
       " 'leaving': 574,\n",
       " 'country': 575,\n",
       " 'tomorrow': 576,\n",
       " 'lovin': 577,\n",
       " 'taste': 578,\n",
       " 'huh': 579,\n",
       " 'keeps': 580,\n",
       " 'gun': 581,\n",
       " 'star': 582,\n",
       " 'clear': 583,\n",
       " 'everyone': 584,\n",
       " 'past': 585,\n",
       " 'darling': 586,\n",
       " 'somewhere': 587,\n",
       " 'moon': 588,\n",
       " 'act': 589,\n",
       " 'born': 590,\n",
       " 'tryin': 591,\n",
       " 'wall': 592,\n",
       " 'worth': 593,\n",
       " 'fuckin': 594,\n",
       " 'livin': 595,\n",
       " 'blow': 596,\n",
       " 'radio': 597,\n",
       " 'taking': 598,\n",
       " 'pray': 599,\n",
       " 'known': 600,\n",
       " 'most': 601,\n",
       " 'somethin': 602,\n",
       " 'shot': 603,\n",
       " 'called': 604,\n",
       " 'meant': 605,\n",
       " 'you’re': 606,\n",
       " 'nice': 607,\n",
       " 'ones': 608,\n",
       " 'trust': 609,\n",
       " 'club': 610,\n",
       " 'tired': 611,\n",
       " 'school': 612,\n",
       " 'cut': 613,\n",
       " 'finally': 614,\n",
       " 'someday': 615,\n",
       " 'son': 616,\n",
       " 'needs': 617,\n",
       " 'sex': 618,\n",
       " 'buy': 619,\n",
       " 'lil': 620,\n",
       " 'learn': 621,\n",
       " 'streets': 622,\n",
       " 'use': 623,\n",
       " 'smoke': 624,\n",
       " 'yet': 625,\n",
       " 'fell': 626,\n",
       " 'treat': 627,\n",
       " 'shoes': 628,\n",
       " 'half': 629,\n",
       " 'ring': 630,\n",
       " 'four': 631,\n",
       " 'moving': 632,\n",
       " 'runnin': 633,\n",
       " 'giving': 634,\n",
       " 'window': 635,\n",
       " 'knees': 636,\n",
       " 'ho': 637,\n",
       " 'woah': 638,\n",
       " 'rich': 639,\n",
       " 'kick': 640,\n",
       " 'mess': 641,\n",
       " 'hoes': 642,\n",
       " 'singing': 643,\n",
       " 'doin': 644,\n",
       " 'already': 645,\n",
       " 'watching': 646,\n",
       " 'pass': 647,\n",
       " 'child': 648,\n",
       " 'isnt': 649,\n",
       " 'count': 650,\n",
       " 'pop': 651,\n",
       " 'king': 652,\n",
       " 'nowhere': 653,\n",
       " 'mr': 654,\n",
       " 'telling': 655,\n",
       " 'loud': 656,\n",
       " 'walked': 657,\n",
       " 'read': 658,\n",
       " 'blame': 659,\n",
       " 'hang': 660,\n",
       " 'woo': 661,\n",
       " 'bar': 662,\n",
       " 'grow': 663,\n",
       " 'pick': 664,\n",
       " 'stuck': 665,\n",
       " 'clothes': 666,\n",
       " 'working': 667,\n",
       " 'whip': 668,\n",
       " 'sitting': 669,\n",
       " 'everywhere': 670,\n",
       " 'trouble': 671,\n",
       " 'faith': 672,\n",
       " 'year': 673,\n",
       " 'scared': 674,\n",
       " 'win': 675,\n",
       " 'glad': 676,\n",
       " 'belong': 677,\n",
       " 'needed': 678,\n",
       " 'million': 679,\n",
       " 'second': 680,\n",
       " 'learned': 681,\n",
       " 'warm': 682,\n",
       " 'share': 683,\n",
       " 'fear': 684,\n",
       " 'story': 685,\n",
       " 'i’ll': 686,\n",
       " 'peace': 687,\n",
       " 'turning': 688,\n",
       " 'laugh': 689,\n",
       " 'upon': 690,\n",
       " 'send': 691,\n",
       " 'voice': 692,\n",
       " 'outside': 693,\n",
       " 'doubt': 694,\n",
       " 'bag': 695,\n",
       " 'kinda': 696,\n",
       " 'skin': 697,\n",
       " 'near': 698,\n",
       " 'lives': 699,\n",
       " 'reach': 700,\n",
       " 'somehow': 701,\n",
       " 'train': 702,\n",
       " 'blind': 703,\n",
       " 'closer': 704,\n",
       " 'middle': 705,\n",
       " 'across': 706,\n",
       " 'gimme': 707,\n",
       " 'ice': 708,\n",
       " 'diamonds': 709,\n",
       " 'knock': 710,\n",
       " 'men': 711,\n",
       " 'river': 712,\n",
       " 'shame': 713,\n",
       " 'bye': 714,\n",
       " 'hello': 715,\n",
       " 'wed': 716,\n",
       " 'burning': 717,\n",
       " 'special': 718,\n",
       " 'can’t': 719,\n",
       " 'funny': 720,\n",
       " 'wear': 721,\n",
       " 'looked': 722,\n",
       " 'sign': 723,\n",
       " 'few': 724,\n",
       " 'yesterday': 725,\n",
       " 'hundred': 726,\n",
       " 'picture': 727,\n",
       " 'minute': 728,\n",
       " 'bright': 729,\n",
       " 'brother': 730,\n",
       " 'mother': 731,\n",
       " 'speak': 732,\n",
       " 'blood': 733,\n",
       " 'ahead': 734,\n",
       " 'empty': 735,\n",
       " 'pride': 736,\n",
       " 'eat': 737,\n",
       " 'single': 738,\n",
       " 'earth': 739,\n",
       " 'secret': 740,\n",
       " 'carry': 741,\n",
       " 'lucky': 742,\n",
       " 'thousand': 743,\n",
       " 'ways': 744,\n",
       " 'changed': 745,\n",
       " 'mouth': 746,\n",
       " 'dem': 747,\n",
       " 'almost': 748,\n",
       " 'feelings': 749,\n",
       " 'ball': 750,\n",
       " 'missing': 751,\n",
       " 'war': 752,\n",
       " 'sick': 753,\n",
       " 'kid': 754,\n",
       " 'everybodys': 755,\n",
       " 'dirty': 756,\n",
       " 'wine': 757,\n",
       " 'push': 758,\n",
       " 'rhythm': 759,\n",
       " 'ran': 760,\n",
       " 'higher': 761,\n",
       " 'sea': 762,\n",
       " 'bang': 763,\n",
       " 'magic': 764,\n",
       " 'dress': 765,\n",
       " 'scream': 766,\n",
       " 'losing': 767,\n",
       " 'green': 768,\n",
       " 'land': 769,\n",
       " 'family': 770,\n",
       " 'sugar': 771,\n",
       " 'ten': 772,\n",
       " 'flow': 773,\n",
       " 'shut': 774,\n",
       " 'thinkin': 775,\n",
       " 'queen': 776,\n",
       " 'makin': 777,\n",
       " 'small': 778,\n",
       " 'deal': 779,\n",
       " 'truck': 780,\n",
       " 'cars': 781,\n",
       " 'five': 782,\n",
       " 'shell': 783,\n",
       " 'probably': 784,\n",
       " 'breaking': 785,\n",
       " 'outta': 786,\n",
       " 'drunk': 787,\n",
       " 'riding': 788,\n",
       " 'sight': 789,\n",
       " 'piece': 790,\n",
       " 'swing': 791,\n",
       " 'dreaming': 792,\n",
       " 'great': 793,\n",
       " 'edge': 794,\n",
       " 'songs': 795,\n",
       " 'write': 796,\n",
       " 'wide': 797,\n",
       " '‘cause': 798,\n",
       " 'gang': 799,\n",
       " 'pussy': 800,\n",
       " 'waste': 801,\n",
       " 'tear': 802,\n",
       " 'moves': 803,\n",
       " 'crowd': 804,\n",
       " 'realize': 805,\n",
       " 'thank': 806,\n",
       " 'chain': 807,\n",
       " 'boom': 808,\n",
       " 'stronger': 809,\n",
       " 'heres': 810,\n",
       " 'happen': 811,\n",
       " 'women': 812,\n",
       " 'fill': 813,\n",
       " 'havent': 814,\n",
       " 'glass': 815,\n",
       " 'wit': 816,\n",
       " 'corner': 817,\n",
       " 'dog': 818,\n",
       " 'rolling': 819,\n",
       " 'lovely': 820,\n",
       " 'hurts': 821,\n",
       " 'death': 822,\n",
       " 'hanging': 823,\n",
       " 'lying': 824,\n",
       " 'ain’t': 825,\n",
       " 'bottom': 826,\n",
       " 'memories': 827,\n",
       " 'cannot': 828,\n",
       " 'cross': 829,\n",
       " 'whenever': 830,\n",
       " 'memory': 831,\n",
       " 'anyway': 832,\n",
       " 'longer': 833,\n",
       " 'cried': 834,\n",
       " 'asked': 835,\n",
       " 'friday': 836,\n",
       " 'style': 837,\n",
       " 'miles': 838,\n",
       " 'couple': 839,\n",
       " 'against': 840,\n",
       " 'guys': 841,\n",
       " 'later': 842,\n",
       " 'driving': 843,\n",
       " 'hol': 844,\n",
       " 'shoot': 845,\n",
       " 'lovers': 846,\n",
       " 'stupid': 847,\n",
       " 'starts': 848,\n",
       " 'jesus': 849,\n",
       " 'favorite': 850,\n",
       " 'ohoh': 851,\n",
       " 'played': 852,\n",
       " 'quite': 853,\n",
       " 'jeans': 854,\n",
       " 'games': 855,\n",
       " 'mi': 856,\n",
       " 'mirror': 857,\n",
       " 'children': 858,\n",
       " 'rather': 859,\n",
       " 'shouldve': 860,\n",
       " 'less': 861,\n",
       " 'cash': 862,\n",
       " 'given': 863,\n",
       " 'bought': 864,\n",
       " 'supposed': 865,\n",
       " 'shout': 866,\n",
       " 'lead': 867,\n",
       " 'hallelujah': 868,\n",
       " 'type': 869,\n",
       " 'anywhere': 870,\n",
       " 'paid': 871,\n",
       " 'yellow': 872,\n",
       " 'imma': 873,\n",
       " 'everyday': 874,\n",
       " 'safe': 875,\n",
       " 'means': 876,\n",
       " 'harder': 877,\n",
       " 'sunday': 878,\n",
       " 'fake': 879,\n",
       " 'cup': 880,\n",
       " 'sense': 881,\n",
       " 'case': 882,\n",
       " 'father': 883,\n",
       " 'devil': 884,\n",
       " 'hood': 885,\n",
       " 'shining': 886,\n",
       " 'theyll': 887,\n",
       " 'heat': 888,\n",
       " 'turns': 889,\n",
       " 'proud': 890,\n",
       " 'beer': 891,\n",
       " 'ladies': 892,\n",
       " 'block': 893,\n",
       " 'weak': 894,\n",
       " 'ocean': 895,\n",
       " 'held': 896,\n",
       " 'itll': 897,\n",
       " 'rap': 898,\n",
       " 'paper': 899,\n",
       " 'answer': 900,\n",
       " 'fade': 901,\n",
       " 'christmas': 902,\n",
       " 'having': 903,\n",
       " 'six': 904,\n",
       " 'moonlight': 905,\n",
       " 'walkin': 906,\n",
       " 'seat': 907,\n",
       " 'welcome': 908,\n",
       " 'thunder': 909,\n",
       " 'survive': 910,\n",
       " 'brain': 911,\n",
       " 'job': 912,\n",
       " 'joy': 913,\n",
       " 'wondering': 914,\n",
       " 'kept': 915,\n",
       " 'band': 916,\n",
       " 'bottle': 917,\n",
       " 'york': 918,\n",
       " 'rush': 919,\n",
       " 'di': 920,\n",
       " 'stone': 921,\n",
       " 'sayin': 922,\n",
       " 'cmon': 923,\n",
       " 'dry': 924,\n",
       " 'strange': 925,\n",
       " 'mmm': 926,\n",
       " 'fucking': 927,\n",
       " 'nah': 928,\n",
       " 'ends': 929,\n",
       " 'track': 930,\n",
       " 'chase': 931,\n",
       " 'explain': 932,\n",
       " 'freedom': 933,\n",
       " 'dirt': 934,\n",
       " 'blues': 935,\n",
       " 'brand': 936,\n",
       " 'business': 937,\n",
       " 'walls': 938,\n",
       " 'dope': 939,\n",
       " 'rollin': 940,\n",
       " 'sexy': 941,\n",
       " 'kisses': 942,\n",
       " 'playin': 943,\n",
       " 'spent': 944,\n",
       " 'space': 945,\n",
       " 'storm': 946,\n",
       " 'fact': 947,\n",
       " 'tv': 948,\n",
       " 'hour': 949,\n",
       " 'que': 950,\n",
       " 'shy': 951,\n",
       " 'fame': 952,\n",
       " 'happened': 953,\n",
       " 'anyone': 954,\n",
       " 'ago': 955,\n",
       " 'sleeping': 956,\n",
       " 'ohh': 957,\n",
       " 'lean': 958,\n",
       " 'anybody': 959,\n",
       " 'fallin': 960,\n",
       " 'week': 961,\n",
       " 'rise': 962,\n",
       " 'switch': 963,\n",
       " 'seven': 964,\n",
       " 'quit': 965,\n",
       " 'spot': 966,\n",
       " 'died': 967,\n",
       " 'simple': 968,\n",
       " 'dying': 969,\n",
       " 'de': 970,\n",
       " 'taken': 971,\n",
       " 'wings': 972,\n",
       " 'pieces': 973,\n",
       " 'point': 974,\n",
       " 'wishing': 975,\n",
       " 'power': 976,\n",
       " 'pretend': 977,\n",
       " 'sail': 978,\n",
       " 'wife': 979,\n",
       " 'neck': 980,\n",
       " 'scene': 981,\n",
       " 'places': 982,\n",
       " 'guns': 983,\n",
       " 'beach': 984,\n",
       " 'dat': 985,\n",
       " 'ba': 986,\n",
       " 'dick': 987,\n",
       " 'key': 988,\n",
       " 'ghost': 989,\n",
       " 'brought': 990,\n",
       " 'tough': 991,\n",
       " 'yea': 992,\n",
       " 'price': 993,\n",
       " 'instead': 994,\n",
       " 'pour': 995,\n",
       " 'midnight': 996,\n",
       " 'dear': 997,\n",
       " 'heavy': 998,\n",
       " 'letting': 999,\n",
       " 'raise': 1000,\n",
       " ...}"
      ]
     },
     "execution_count": 35,
     "metadata": {},
     "output_type": "execute_result"
    }
   ],
   "source": [
    "tokenizer.word_index"
   ]
  },
  {
   "cell_type": "code",
   "execution_count": 36,
   "id": "aaacacb2-57f1-447c-82f7-a37c68ed887f",
   "metadata": {
    "id": "aaacacb2-57f1-447c-82f7-a37c68ed887f"
   },
   "outputs": [],
   "source": [
    "frequency=tokenizer.word_counts"
   ]
  },
  {
   "cell_type": "markdown",
   "id": "65e82558-5ac1-4605-a987-2b7480b2712c",
   "metadata": {},
   "source": [
    "### we will not take words with less frequency than 7"
   ]
  },
  {
   "cell_type": "code",
   "execution_count": 37,
   "id": "mj-zg7-KT4_Y",
   "metadata": {
    "id": "mj-zg7-KT4_Y"
   },
   "outputs": [],
   "source": [
    "MIN_FREQUENCY = 7"
   ]
  },
  {
   "cell_type": "code",
   "execution_count": 38,
   "id": "e97b897a-a251-4673-b429-2d4bb2c4dadd",
   "metadata": {},
   "outputs": [],
   "source": [
    "uncommon_words = set([key for key in frequency.keys() if frequency[key] < MIN_FREQUENCY])\n",
    "\n",
    "words = sorted(set([key for key in frequency.keys() if frequency[key] >= MIN_FREQUENCY]))\n"
   ]
  },
  {
   "cell_type": "code",
   "execution_count": 39,
   "id": "6c938906-ce98-4f22-9ed4-95de374f4196",
   "metadata": {},
   "outputs": [
    {
     "name": "stdout",
     "output_type": "stream",
     "text": [
      "3\n",
      "3\n",
      "2\n",
      "1\n",
      "1\n",
      "1\n",
      "3\n"
     ]
    }
   ],
   "source": [
    "for i in ['loop','ageless','mounted','gusto','educations','gumpin','mich',]:\n",
    "    print(frequency[i])"
   ]
  },
  {
   "cell_type": "markdown",
   "id": "38f2976e-d842-4018-bbfc-bb44402ba8d4",
   "metadata": {},
   "source": [
    "**Note words will not have much impact beause they are used verry less times**m"
   ]
  },
  {
   "cell_type": "code",
   "execution_count": 40,
   "id": "df1c5fb8-faa5-4aa7-b957-24a657d86422",
   "metadata": {},
   "outputs": [
    {
     "data": {
      "text/plain": [
       "7233"
      ]
     },
     "execution_count": 40,
     "metadata": {},
     "output_type": "execute_result"
    }
   ],
   "source": [
    "VOCAB_SIZE= len(words)\n",
    "VOCAB_SIZE"
   ]
  },
  {
   "cell_type": "code",
   "execution_count": 41,
   "id": "d6ae0cca-0f7a-4530-93be-46197844cb5b",
   "metadata": {},
   "outputs": [],
   "source": [
    "word_indices = dict((w, i) for i, w in enumerate(words))\n",
    "\n",
    "indices_word = dict((i, w) for i, w in enumerate(words))"
   ]
  },
  {
   "cell_type": "markdown",
   "id": "926d049d-1ea6-4d44-8944-9e9d2d09e9ae",
   "metadata": {},
   "source": [
    "**note save this dictionaries will need them at time of text generation**"
   ]
  },
  {
   "cell_type": "code",
   "execution_count": 42,
   "id": "9a0f663d-2f10-473e-b8c7-f8b3e0e35f4b",
   "metadata": {},
   "outputs": [],
   "source": [
    "with open('data/word_indices','wb') as fp:\n",
    "    pickle.dump(word_indices, fp)"
   ]
  },
  {
   "cell_type": "code",
   "execution_count": 43,
   "id": "8ecfcd3b-2f1d-4eb3-8908-80e082c3a979",
   "metadata": {},
   "outputs": [],
   "source": [
    "with open('data/indices_word','wb') as fp:\n",
    "    pickle.dump(indices_word, fp)"
   ]
  },
  {
   "cell_type": "markdown",
   "id": "FqwiG6p8-bgk",
   "metadata": {
    "id": "FqwiG6p8-bgk"
   },
   "source": [
    "#### Convert text into numbers"
   ]
  },
  {
   "cell_type": "code",
   "execution_count": 44,
   "id": "894a02e9-f43f-4ce4-8ef7-282829f4b45e",
   "metadata": {
    "id": "894a02e9-f43f-4ce4-8ef7-282829f4b45e"
   },
   "outputs": [],
   "source": [
    "encoded_text= tokenizer.texts_to_sequences(cleaned_text)\n"
   ]
  },
  {
   "cell_type": "code",
   "execution_count": 45,
   "id": "e60ada0f-613f-43aa-8888-970354e6206e",
   "metadata": {
    "colab": {
     "base_uri": "https://localhost:8080/"
    },
    "id": "e60ada0f-613f-43aa-8888-970354e6206e",
    "outputId": "9b5358e9-c457-4319-d12a-2189332806aa"
   },
   "outputs": [
    {
     "name": "stdout",
     "output_type": "stream",
     "text": [
      "[[219, 162, 264, 28, 29, 7234], [24, 78, 542, 6, 1638], [1063, 110, 795, 95, 6671], [43, 1, 421, 5, 689], [164, 748, 33, 1298]]\n"
     ]
    }
   ],
   "source": [
    "print((encoded_text[:5]))"
   ]
  },
  {
   "cell_type": "markdown",
   "id": "GY5KvPvF-J86",
   "metadata": {
    "id": "GY5KvPvF-J86"
   },
   "source": [
    "### Here we will create feature and labels we took minimm sequence 4 so 4 word and next word to that will be label"
   ]
  },
  {
   "cell_type": "code",
   "execution_count": 58,
   "id": "2M3PaOIcTXzH",
   "metadata": {
    "id": "2M3PaOIcTXzH"
   },
   "outputs": [],
   "source": [
    "x=[]\n",
    "y=[]"
   ]
  },
  {
   "cell_type": "code",
   "execution_count": 47,
   "id": "ae822034-f97e-43f1-9869-eebb2a9bf7a1",
   "metadata": {},
   "outputs": [
    {
     "data": {
      "text/plain": [
       "['thought id end up with sean',\n",
       " 'but he wasnt a match',\n",
       " 'wrote some songs about ricky',\n",
       " 'now i listen and laugh',\n",
       " 'even almost got married']"
      ]
     },
     "execution_count": 47,
     "metadata": {},
     "output_type": "execute_result"
    }
   ],
   "source": [
    "cleaned_text[:5]\n"
   ]
  },
  {
   "cell_type": "code",
   "execution_count": 49,
   "id": "25163906-6623-4e32-bedc-a6f5ec65b422",
   "metadata": {},
   "outputs": [],
   "source": [
    "MIN_SEQ= 4"
   ]
  },
  {
   "cell_type": "code",
   "execution_count": 59,
   "id": "w0oz7BQRSl9j",
   "metadata": {
    "colab": {
     "base_uri": "https://localhost:8080/"
    },
    "id": "w0oz7BQRSl9j",
    "outputId": "f6a19bb6-ee50-4494-cce5-dcf8ad3b7252"
   },
   "outputs": [
    {
     "name": "stderr",
     "output_type": "stream",
     "text": [
      "100%|██████████████████████████████████████████████████████████████████████| 237764/237764 [00:01<00:00, 194838.87it/s]\n"
     ]
    }
   ],
   "source": [
    "for d in tqdm(encoded_text):\n",
    "   for i in range(MIN_SEQ, len(d)):\n",
    "        # skip unccommon words using if \n",
    "        if d[i] in indices_word.keys():\n",
    "            x.append(d[i-MIN_SEQ: i])\n",
    "            y.append(d[i])"
   ]
  },
  {
   "cell_type": "code",
   "execution_count": 51,
   "id": "72cd4495-5c64-44e0-a553-88f4ae0edd1d",
   "metadata": {},
   "outputs": [
    {
     "data": {
      "text/plain": [
       "[[219, 162, 264, 28],\n",
       " [24, 78, 542, 6],\n",
       " [1063, 110, 795, 95],\n",
       " [43, 1, 421, 5],\n",
       " [5, 22, 7235, 13]]"
      ]
     },
     "execution_count": 51,
     "metadata": {},
     "output_type": "execute_result"
    }
   ],
   "source": [
    "x[:5]"
   ]
  },
  {
   "cell_type": "code",
   "execution_count": 52,
   "id": "qEN6Yy6hSl69",
   "metadata": {
    "colab": {
     "base_uri": "https://localhost:8080/"
    },
    "id": "qEN6Yy6hSl69",
    "outputId": "d316934f-e940-492a-c4b1-3cb5241cf117"
   },
   "outputs": [
    {
     "data": {
      "text/plain": [
       "[29, 1638, 6671, 689, 23, 4725, 806, 2, 4, 564]"
      ]
     },
     "execution_count": 52,
     "metadata": {},
     "output_type": "execute_result"
    }
   ],
   "source": [
    "y[:10]"
   ]
  },
  {
   "cell_type": "markdown",
   "id": "IrY2hzYKbJaQ",
   "metadata": {
    "id": "IrY2hzYKbJaQ"
   },
   "source": [
    "### Save preprocesses features and labels"
   ]
  },
  {
   "cell_type": "code",
   "execution_count": 136,
   "id": "LEB7EaHe-11p",
   "metadata": {
    "id": "LEB7EaHe-11p"
   },
   "outputs": [],
   "source": [
    "with open(\"Data/x.txt\", 'wb') as fp:\n",
    "  pickle.dump(x, fp)"
   ]
  },
  {
   "cell_type": "code",
   "execution_count": 137,
   "id": "_79xweiwZ_Ww",
   "metadata": {
    "id": "_79xweiwZ_Ww"
   },
   "outputs": [],
   "source": [
    "with open(\"Data/x.txt\", 'rb') as fp:\n",
    "  loaded_x= pickle.load(fp)"
   ]
  },
  {
   "cell_type": "code",
   "execution_count": 138,
   "id": "-o-bH_zzaInc",
   "metadata": {
    "colab": {
     "base_uri": "https://localhost:8080/"
    },
    "id": "-o-bH_zzaInc",
    "outputId": "bafb7e24-3f2f-411a-b318-e57d80c3aef3"
   },
   "outputs": [
    {
     "data": {
      "text/plain": [
       "True"
      ]
     },
     "execution_count": 138,
     "metadata": {},
     "output_type": "execute_result"
    }
   ],
   "source": [
    "loaded_x == x"
   ]
  },
  {
   "cell_type": "code",
   "execution_count": 53,
   "id": "ilMvkXxgaKVM",
   "metadata": {
    "id": "ilMvkXxgaKVM"
   },
   "outputs": [],
   "source": [
    "with open(\"data/y.txt\", 'wb') as fp:\n",
    "  pickle.dump(y, fp)"
   ]
  },
  {
   "cell_type": "code",
   "execution_count": 54,
   "id": "-vWjdQXQaUwe",
   "metadata": {
    "id": "-vWjdQXQaUwe"
   },
   "outputs": [],
   "source": [
    "with open(\"Data/y.txt\", 'rb') as fp:\n",
    "  loaded_y= pickle.load(fp)"
   ]
  },
  {
   "cell_type": "code",
   "execution_count": 55,
   "id": "CPubFspqaZVC",
   "metadata": {
    "colab": {
     "base_uri": "https://localhost:8080/"
    },
    "id": "CPubFspqaZVC",
    "outputId": "b1a1c435-c7c1-45e0-c57e-784bacce52d4"
   },
   "outputs": [
    {
     "data": {
      "text/plain": [
       "True"
      ]
     },
     "execution_count": 55,
     "metadata": {},
     "output_type": "execute_result"
    }
   ],
   "source": [
    "loaded_y == y"
   ]
  },
  {
   "cell_type": "code",
   "execution_count": null,
   "id": "pgiOcTPzbDru",
   "metadata": {
    "id": "pgiOcTPzbDru"
   },
   "outputs": [],
   "source": []
  }
 ],
 "metadata": {
  "accelerator": "GPU",
  "colab": {
   "name": "Preprocessing.ipynb",
   "provenance": [],
   "toc_visible": true
  },
  "kernelspec": {
   "display_name": "Python 3",
   "language": "python",
   "name": "python3"
  },
  "language_info": {
   "codemirror_mode": {
    "name": "ipython",
    "version": 3
   },
   "file_extension": ".py",
   "mimetype": "text/x-python",
   "name": "python",
   "nbconvert_exporter": "python",
   "pygments_lexer": "ipython3",
   "version": "3.8.8"
  }
 },
 "nbformat": 4,
 "nbformat_minor": 5
}
