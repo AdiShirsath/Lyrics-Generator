{
 "cells": [
  {
   "cell_type": "code",
   "execution_count": 2,
   "id": "337cc8b2-2162-4b86-9ce6-9392add632de",
   "metadata": {
    "id": "337cc8b2-2162-4b86-9ce6-9392add632de"
   },
   "outputs": [],
   "source": [
    "import os\n",
    "import sys\n",
    "import string\n",
    "import numpy as np\n",
    "import pandas as pd\n",
    "from tensorflow import keras\n",
    "from tqdm import tqdm\n",
    "import pickle"
   ]
  },
  {
   "cell_type": "code",
   "execution_count": 3,
   "id": "CBNwvTIl4_fc",
   "metadata": {
    "colab": {
     "base_uri": "https://localhost:8080/"
    },
    "id": "CBNwvTIl4_fc",
    "outputId": "dd994b55-7913-445c-ea39-03d7b141906b"
   },
   "outputs": [],
   "source": [
    "# from google.colab import drive\n",
    "# drive.mount('/content/drive')"
   ]
  },
  {
   "cell_type": "code",
   "execution_count": 4,
   "id": "1d751047-ec34-4986-9690-8262b7edc5d4",
   "metadata": {
    "id": "1d751047-ec34-4986-9690-8262b7edc5d4"
   },
   "outputs": [],
   "source": [
    "df = pd.read_csv(\"Data/musicoset_songfeatures/lyrics.csv\", sep='\\t')"
   ]
  },
  {
   "cell_type": "code",
   "execution_count": 5,
   "id": "0a84f4bb-cd50-4a9f-9820-235f449bb2da",
   "metadata": {
    "colab": {
     "base_uri": "https://localhost:8080/",
     "height": 196
    },
    "id": "0a84f4bb-cd50-4a9f-9820-235f449bb2da",
    "outputId": "20b4d7af-0317-491e-a3b1-a54cac88c516"
   },
   "outputs": [
    {
     "data": {
      "text/html": [
       "<div>\n",
       "<style scoped>\n",
       "    .dataframe tbody tr th:only-of-type {\n",
       "        vertical-align: middle;\n",
       "    }\n",
       "\n",
       "    .dataframe tbody tr th {\n",
       "        vertical-align: top;\n",
       "    }\n",
       "\n",
       "    .dataframe thead th {\n",
       "        text-align: right;\n",
       "    }\n",
       "</style>\n",
       "<table border=\"1\" class=\"dataframe\">\n",
       "  <thead>\n",
       "    <tr style=\"text-align: right;\">\n",
       "      <th></th>\n",
       "      <th>song_id</th>\n",
       "      <th>lyrics</th>\n",
       "    </tr>\n",
       "  </thead>\n",
       "  <tbody>\n",
       "    <tr>\n",
       "      <th>0</th>\n",
       "      <td>3e9HZxeyfWwjeyPAMmWSSQ</td>\n",
       "      <td>['[Verse 1]\\nThought I\\'d end up with Sean\\nBu...</td>\n",
       "    </tr>\n",
       "    <tr>\n",
       "      <th>1</th>\n",
       "      <td>5p7ujcrUXASCNwRaWNHR1C</td>\n",
       "      <td>[\"[Verse 1]\\nFound you when your heart was bro...</td>\n",
       "    </tr>\n",
       "    <tr>\n",
       "      <th>2</th>\n",
       "      <td>2xLMifQCjDGFmkHkpNLD9h</td>\n",
       "      <td>['[Part I]\\n\\n[Intro: Drake]\\nAstro, yeah\\nSun...</td>\n",
       "    </tr>\n",
       "    <tr>\n",
       "      <th>3</th>\n",
       "      <td>3KkXRkHbMCARz0aVfEt68P</td>\n",
       "      <td>NaN</td>\n",
       "    </tr>\n",
       "    <tr>\n",
       "      <th>4</th>\n",
       "      <td>1rqqCSm0Qe4I9rUvWncaom</td>\n",
       "      <td>[\"[Intro]\\nHigh, high hopes\\n\\n[Chorus]\\nHad t...</td>\n",
       "    </tr>\n",
       "  </tbody>\n",
       "</table>\n",
       "</div>"
      ],
      "text/plain": [
       "                  song_id                                             lyrics\n",
       "0  3e9HZxeyfWwjeyPAMmWSSQ  ['[Verse 1]\\nThought I\\'d end up with Sean\\nBu...\n",
       "1  5p7ujcrUXASCNwRaWNHR1C  [\"[Verse 1]\\nFound you when your heart was bro...\n",
       "2  2xLMifQCjDGFmkHkpNLD9h  ['[Part I]\\n\\n[Intro: Drake]\\nAstro, yeah\\nSun...\n",
       "3  3KkXRkHbMCARz0aVfEt68P                                                NaN\n",
       "4  1rqqCSm0Qe4I9rUvWncaom  [\"[Intro]\\nHigh, high hopes\\n\\n[Chorus]\\nHad t..."
      ]
     },
     "execution_count": 5,
     "metadata": {},
     "output_type": "execute_result"
    }
   ],
   "source": [
    "df.head()"
   ]
  },
  {
   "cell_type": "code",
   "execution_count": 6,
   "id": "29711117-8e66-4457-9647-dfb874d6d465",
   "metadata": {
    "colab": {
     "base_uri": "https://localhost:8080/"
    },
    "id": "29711117-8e66-4457-9647-dfb874d6d465",
    "outputId": "df6bb62c-43ba-4197-8ce3-b24455cd9733"
   },
   "outputs": [
    {
     "name": "stdout",
     "output_type": "stream",
     "text": [
      "<class 'pandas.core.frame.DataFrame'>\n",
      "RangeIndex: 20404 entries, 0 to 20403\n",
      "Data columns (total 2 columns):\n",
      " #   Column   Non-Null Count  Dtype \n",
      "---  ------   --------------  ----- \n",
      " 0   song_id  20404 non-null  object\n",
      " 1   lyrics   19663 non-null  object\n",
      "dtypes: object(2)\n",
      "memory usage: 318.9+ KB\n"
     ]
    }
   ],
   "source": [
    "df.info()"
   ]
  },
  {
   "cell_type": "code",
   "execution_count": 7,
   "id": "30cdd747-e2fd-4d03-b481-0c3028214465",
   "metadata": {
    "colab": {
     "base_uri": "https://localhost:8080/"
    },
    "id": "30cdd747-e2fd-4d03-b481-0c3028214465",
    "outputId": "8874cdde-73f9-431f-b30d-182f16ae5c26"
   },
   "outputs": [
    {
     "data": {
      "text/plain": [
       "song_id      0\n",
       "lyrics     741\n",
       "dtype: int64"
      ]
     },
     "execution_count": 7,
     "metadata": {},
     "output_type": "execute_result"
    }
   ],
   "source": [
    "df.isna().sum()"
   ]
  },
  {
   "cell_type": "code",
   "execution_count": 8,
   "id": "f9375118-fdbc-4f29-8b29-33d2d9fefd62",
   "metadata": {
    "id": "f9375118-fdbc-4f29-8b29-33d2d9fefd62"
   },
   "outputs": [],
   "source": [
    "df.dropna(inplace=True)"
   ]
  },
  {
   "cell_type": "code",
   "execution_count": 9,
   "id": "4052b260-4bc8-4279-a90a-4c8bad494b10",
   "metadata": {
    "id": "4052b260-4bc8-4279-a90a-4c8bad494b10"
   },
   "outputs": [],
   "source": [
    "df.reset_index(inplace=True)"
   ]
  },
  {
   "cell_type": "code",
   "execution_count": 10,
   "id": "af40be91-bfce-45c3-b90a-aa68a8423adc",
   "metadata": {
    "id": "af40be91-bfce-45c3-b90a-aa68a8423adc"
   },
   "outputs": [],
   "source": [
    "df.drop(['index'], axis=1, inplace=True)"
   ]
  },
  {
   "cell_type": "code",
   "execution_count": 11,
   "id": "53449130-594d-41b6-a6c2-c16d43f9aa07",
   "metadata": {
    "colab": {
     "base_uri": "https://localhost:8080/"
    },
    "id": "53449130-594d-41b6-a6c2-c16d43f9aa07",
    "outputId": "6f571022-65d8-4b00-d540-5effb975a32a"
   },
   "outputs": [
    {
     "name": "stdout",
     "output_type": "stream",
     "text": [
      "0        ['[Verse 1]\\nThought I\\'d end up with Sean\\nBu...\n",
      "1        [\"[Verse 1]\\nFound you when your heart was bro...\n",
      "2        ['[Part I]\\n\\n[Intro: Drake]\\nAstro, yeah\\nSun...\n",
      "3        [\"[Intro]\\nHigh, high hopes\\n\\n[Chorus]\\nHad t...\n",
      "4        [\"[Intro]\\nI-I-I don't want a lot for Christma...\n",
      "                               ...                        \n",
      "19658    ['[Verse 1: Big Boi]\\nWell, it\\'s the M-I-croo...\n",
      "19659    ['[Intro]\\nThere are times when I look above a...\n",
      "19660    [\"[Intro: Prodigy and Havoc]\\nWord up son, wor...\n",
      "19661    [\"[Chorus]\\nWee-ooh wim-o-weh. Wee-ooh wim-o-w...\n",
      "19662    ['[Intro: Shaq]\\nYo Jef, why don\\'t you give m...\n",
      "Name: lyrics, Length: 19663, dtype: object\n"
     ]
    }
   ],
   "source": [
    "print(df.lyrics,sep='\\\\n\\\\n')"
   ]
  },
  {
   "cell_type": "markdown",
   "id": "6ac61242-440b-4fe1-964f-1bb59e0d5639",
   "metadata": {
    "id": "6ac61242-440b-4fe1-964f-1bb59e0d5639"
   },
   "source": [
    "* we need to remove punctuations and '[]' in this text"
   ]
  },
  {
   "cell_type": "markdown",
   "id": "e34e9b17-e2a8-495d-9fbe-2ebbc5644247",
   "metadata": {
    "id": "e34e9b17-e2a8-495d-9fbe-2ebbc5644247"
   },
   "source": [
    "### Preprocessing examples that we need to do\n",
    "* **1. Remove Punctuations**"
   ]
  },
  {
   "cell_type": "code",
   "execution_count": 12,
   "id": "0d735eaf-9dc2-45d3-a942-ccb0c64a5611",
   "metadata": {
    "colab": {
     "base_uri": "https://localhost:8080/",
     "height": 35
    },
    "id": "0d735eaf-9dc2-45d3-a942-ccb0c64a5611",
    "outputId": "112a590b-d67c-406a-e1a7-c211a9a2c9c3"
   },
   "outputs": [
    {
     "data": {
      "text/plain": [
       "'!\"#$%&\\'()*+,-./:;<=>?@[\\\\]^_`{|}~'"
      ]
     },
     "execution_count": 12,
     "metadata": {},
     "output_type": "execute_result"
    }
   ],
   "source": [
    "string.punctuation"
   ]
  },
  {
   "cell_type": "markdown",
   "id": "779059d2-68f3-4c29-926d-e8165128dd4c",
   "metadata": {},
   "source": [
    "### Define traslator"
   ]
  },
  {
   "cell_type": "code",
   "execution_count": 13,
   "id": "9c7ba0e8-e2c9-48ec-a60a-18e5ea54f8ec",
   "metadata": {
    "id": "9c7ba0e8-e2c9-48ec-a60a-18e5ea54f8ec"
   },
   "outputs": [],
   "source": [
    "translator= str.maketrans('','', string.punctuation)"
   ]
  },
  {
   "cell_type": "code",
   "execution_count": 14,
   "id": "7621d881-5cfb-480c-8f47-2727cd42d14c",
   "metadata": {
    "colab": {
     "base_uri": "https://localhost:8080/",
     "height": 35
    },
    "id": "7621d881-5cfb-480c-8f47-2727cd42d14c",
    "outputId": "8fea9e2e-6d7d-4204-861e-2951dcfb39c3"
   },
   "outputs": [
    {
     "data": {
      "text/plain": [
       "'next Thank you next Thank you next Yeah yee'"
      ]
     },
     "execution_count": 14,
     "metadata": {},
     "output_type": "execute_result"
    }
   ],
   "source": [
    "# example for removing punchuations\n",
    "xyz=\"next\\ Thank you,@ next\\ Thank you. next Yeah, yee'\"\n",
    "xyz.translate(translator)"
   ]
  },
  {
   "cell_type": "markdown",
   "id": "6f7934a9-faee-4117-a2de-7145cc722ee0",
   "metadata": {
    "id": "6f7934a9-faee-4117-a2de-7145cc722ee0"
   },
   "source": [
    "note:- see above text all punctuations are removed"
   ]
  },
  {
   "cell_type": "markdown",
   "id": "2252dbf4-e641-4712-a539-f88403f1310d",
   "metadata": {
    "id": "2252dbf4-e641-4712-a539-f88403f1310d"
   },
   "source": [
    "* **split texts verses, Pre-chorus, and into**"
   ]
  },
  {
   "cell_type": "code",
   "execution_count": 15,
   "id": "0fd3eca0-80a5-4389-a7c9-8b8d700321e3",
   "metadata": {
    "colab": {
     "base_uri": "https://localhost:8080/"
    },
    "id": "0fd3eca0-80a5-4389-a7c9-8b8d700321e3",
    "outputId": "92185eab-00e4-4b87-9826-d360796e4873"
   },
   "outputs": [
    {
     "data": {
      "text/plain": [
       "['[\"[Verse 1]\\\\nFound you when your heart was broke\\\\nI filled your cup until it overflowed\\\\nTook it so far to keep you close (Keep you close)\\\\nI was afraid to leave you on your own',\n",
       " \"[Pre-Chorus]\\\\nI said I'd catch you if you fall (Fall)\\\\nAnd if they laugh, then fuck 'em all (All)\\\\nAnd then I got you off your knees\\\\nPut you right back on your feet\\\\nJust so you could take advantage of me\"]"
      ]
     },
     "execution_count": 15,
     "metadata": {},
     "output_type": "execute_result"
    }
   ],
   "source": [
    "xyz= df.lyrics[1].split('\\\\n\\\\n')\n",
    "xyz[:2]"
   ]
  },
  {
   "cell_type": "code",
   "execution_count": 16,
   "id": "7acfe159-d5ef-4d56-8644-0cd98d6c5e92",
   "metadata": {
    "colab": {
     "base_uri": "https://localhost:8080/",
     "height": 35
    },
    "id": "7acfe159-d5ef-4d56-8644-0cd98d6c5e92",
    "outputId": "68252ec3-e938-4e55-cd72-cc901c11ee00"
   },
   "outputs": [
    {
     "data": {
      "text/plain": [
       "'\"[Verse 1'"
      ]
     },
     "execution_count": 16,
     "metadata": {},
     "output_type": "execute_result"
    }
   ],
   "source": [
    "key= xyz[0][xyz[0].find('[') + 1:xyz[0].find(']')].strip()\n",
    "key"
   ]
  },
  {
   "cell_type": "markdown",
   "id": "381404ae-f5c0-44d0-b428-7564d0f3bae9",
   "metadata": {
    "id": "381404ae-f5c0-44d0-b428-7564d0f3bae9"
   },
   "source": [
    "we have intro square brackets which have subheading infront of them we need to drop only intro word"
   ]
  },
  {
   "cell_type": "code",
   "execution_count": 17,
   "id": "5a536743-18e1-4ee5-a5fa-1c3e1bced604",
   "metadata": {
    "colab": {
     "base_uri": "https://localhost:8080/"
    },
    "id": "5a536743-18e1-4ee5-a5fa-1c3e1bced604",
    "outputId": "a75423cd-6c41-4b41-a2cc-5b25ca200bec"
   },
   "outputs": [
    {
     "data": {
      "text/plain": [
       "[\"['[Intro: Shaq]\\\\nYo Jef, why don\\\\'t you give me a hoopa beat or something\\\\nSomething I can go to the park to\\\\nYeah, there you go, allright, I like that, I like that\\\\nIt sound dope\",\n",
       " \"(Bust \\\\'em in the eye Shaq)\"]"
      ]
     },
     "execution_count": 17,
     "metadata": {},
     "output_type": "execute_result"
    }
   ],
   "source": [
    "xyz= df.lyrics[19662].split('\\\\n\\\\n')\n",
    "xyz[:2]"
   ]
  },
  {
   "cell_type": "code",
   "execution_count": 18,
   "id": "f9700da8-b4a4-47ce-96e0-7c33a308a125",
   "metadata": {
    "colab": {
     "base_uri": "https://localhost:8080/",
     "height": 35
    },
    "id": "f9700da8-b4a4-47ce-96e0-7c33a308a125",
    "outputId": "6b414343-77e4-4f21-bf79-4ec46f4942a0"
   },
   "outputs": [
    {
     "data": {
      "text/plain": [
       "\"'[Intro: Shaq\""
      ]
     },
     "execution_count": 18,
     "metadata": {},
     "output_type": "execute_result"
    }
   ],
   "source": [
    "key= xyz[0][xyz[0].find('[')+1:  xyz[0].find(']')].strip()\n",
    "key"
   ]
  },
  {
   "cell_type": "code",
   "execution_count": 19,
   "id": "59328cf7-9799-4dd4-90ef-6b2d24b04c2e",
   "metadata": {
    "colab": {
     "base_uri": "https://localhost:8080/",
     "height": 35
    },
    "id": "59328cf7-9799-4dd4-90ef-6b2d24b04c2e",
    "outputId": "c4e8390a-9172-43cf-8cce-fdf8604baf71"
   },
   "outputs": [
    {
     "data": {
      "text/plain": [
       "\"'[Intro\""
      ]
     },
     "execution_count": 19,
     "metadata": {},
     "output_type": "execute_result"
    }
   ],
   "source": [
    "if ':' in key:\n",
    "#     take evrything till ':' comes\n",
    "    key= key[:key.find(':')]\n",
    "    \n",
    "key  "
   ]
  },
  {
   "cell_type": "code",
   "execution_count": 20,
   "id": "ba4dc2bc-b2c4-45c6-b2f8-fb183dca38ed",
   "metadata": {
    "colab": {
     "base_uri": "https://localhost:8080/",
     "height": 52
    },
    "id": "ba4dc2bc-b2c4-45c6-b2f8-fb183dca38ed",
    "outputId": "980d16d9-09a2-4a90-80e1-515a811f6005"
   },
   "outputs": [
    {
     "data": {
      "text/plain": [
       "\"\\\\nYo Jef, why don\\\\'t you give me a hoopa beat or something\\\\nSomething I can go to the park to\\\\nYeah, there you go, allright, I like that, I like that\\\\nIt sound dope\""
      ]
     },
     "execution_count": 20,
     "metadata": {},
     "output_type": "execute_result"
    }
   ],
   "source": [
    "# take exrything after square brackets end\n",
    "# need +1 beause skip ']' <--this\n",
    "xyz[0][xyz[0].find(']')+1:]"
   ]
  },
  {
   "cell_type": "markdown",
   "id": "0dd62cbb-4e93-4ea4-8433-69dec9455f29",
   "metadata": {
    "id": "0dd62cbb-4e93-4ea4-8433-69dec9455f29"
   },
   "source": [
    "# Clean this text as all above examples"
   ]
  },
  {
   "cell_type": "code",
   "execution_count": 21,
   "id": "264731d0-132b-40e0-b3a5-959d524c389a",
   "metadata": {
    "colab": {
     "base_uri": "https://localhost:8080/",
     "height": 196
    },
    "id": "264731d0-132b-40e0-b3a5-959d524c389a",
    "outputId": "6a9459db-8ad6-4ad3-a7a8-45ca2e47f322"
   },
   "outputs": [
    {
     "data": {
      "text/html": [
       "<div>\n",
       "<style scoped>\n",
       "    .dataframe tbody tr th:only-of-type {\n",
       "        vertical-align: middle;\n",
       "    }\n",
       "\n",
       "    .dataframe tbody tr th {\n",
       "        vertical-align: top;\n",
       "    }\n",
       "\n",
       "    .dataframe thead th {\n",
       "        text-align: right;\n",
       "    }\n",
       "</style>\n",
       "<table border=\"1\" class=\"dataframe\">\n",
       "  <thead>\n",
       "    <tr style=\"text-align: right;\">\n",
       "      <th></th>\n",
       "      <th>song_id</th>\n",
       "      <th>lyrics</th>\n",
       "    </tr>\n",
       "  </thead>\n",
       "  <tbody>\n",
       "    <tr>\n",
       "      <th>0</th>\n",
       "      <td>3e9HZxeyfWwjeyPAMmWSSQ</td>\n",
       "      <td>['[Verse 1]\\nThought I\\'d end up with Sean\\nBu...</td>\n",
       "    </tr>\n",
       "    <tr>\n",
       "      <th>1</th>\n",
       "      <td>5p7ujcrUXASCNwRaWNHR1C</td>\n",
       "      <td>[\"[Verse 1]\\nFound you when your heart was bro...</td>\n",
       "    </tr>\n",
       "    <tr>\n",
       "      <th>2</th>\n",
       "      <td>2xLMifQCjDGFmkHkpNLD9h</td>\n",
       "      <td>['[Part I]\\n\\n[Intro: Drake]\\nAstro, yeah\\nSun...</td>\n",
       "    </tr>\n",
       "    <tr>\n",
       "      <th>3</th>\n",
       "      <td>1rqqCSm0Qe4I9rUvWncaom</td>\n",
       "      <td>[\"[Intro]\\nHigh, high hopes\\n\\n[Chorus]\\nHad t...</td>\n",
       "    </tr>\n",
       "    <tr>\n",
       "      <th>4</th>\n",
       "      <td>0bYg9bo50gSsH3LtXe2SQn</td>\n",
       "      <td>[\"[Intro]\\nI-I-I don't want a lot for Christma...</td>\n",
       "    </tr>\n",
       "  </tbody>\n",
       "</table>\n",
       "</div>"
      ],
      "text/plain": [
       "                  song_id                                             lyrics\n",
       "0  3e9HZxeyfWwjeyPAMmWSSQ  ['[Verse 1]\\nThought I\\'d end up with Sean\\nBu...\n",
       "1  5p7ujcrUXASCNwRaWNHR1C  [\"[Verse 1]\\nFound you when your heart was bro...\n",
       "2  2xLMifQCjDGFmkHkpNLD9h  ['[Part I]\\n\\n[Intro: Drake]\\nAstro, yeah\\nSun...\n",
       "3  1rqqCSm0Qe4I9rUvWncaom  [\"[Intro]\\nHigh, high hopes\\n\\n[Chorus]\\nHad t...\n",
       "4  0bYg9bo50gSsH3LtXe2SQn  [\"[Intro]\\nI-I-I don't want a lot for Christma..."
      ]
     },
     "execution_count": 21,
     "metadata": {},
     "output_type": "execute_result"
    }
   ],
   "source": [
    "df.head()"
   ]
  },
  {
   "cell_type": "code",
   "execution_count": 22,
   "id": "839b9645-42f2-40f0-acfe-da030d60edfd",
   "metadata": {
    "colab": {
     "base_uri": "https://localhost:8080/"
    },
    "id": "839b9645-42f2-40f0-acfe-da030d60edfd",
    "outputId": "dd0aaac4-4fd5-4a56-c998-072827193d3e"
   },
   "outputs": [
    {
     "data": {
      "text/plain": [
       "0        ['[Verse 1]\\nThought I\\'d end up with Sean\\nBu...\n",
       "1        [\"[Verse 1]\\nFound you when your heart was bro...\n",
       "2        ['[Part I]\\n\\n[Intro: Drake]\\nAstro, yeah\\nSun...\n",
       "3        [\"[Intro]\\nHigh, high hopes\\n\\n[Chorus]\\nHad t...\n",
       "4        [\"[Intro]\\nI-I-I don't want a lot for Christma...\n",
       "                               ...                        \n",
       "19658    ['[Verse 1: Big Boi]\\nWell, it\\'s the M-I-croo...\n",
       "19659    ['[Intro]\\nThere are times when I look above a...\n",
       "19660    [\"[Intro: Prodigy and Havoc]\\nWord up son, wor...\n",
       "19661    [\"[Chorus]\\nWee-ooh wim-o-weh. Wee-ooh wim-o-w...\n",
       "19662    ['[Intro: Shaq]\\nYo Jef, why don\\'t you give m...\n",
       "Name: lyrics, Length: 19663, dtype: object"
      ]
     },
     "execution_count": 22,
     "metadata": {},
     "output_type": "execute_result"
    }
   ],
   "source": [
    "df.lyrics"
   ]
  },
  {
   "cell_type": "code",
   "execution_count": 23,
   "id": "JoFxu-Fc5VWP",
   "metadata": {
    "id": "JoFxu-Fc5VWP"
   },
   "outputs": [],
   "source": [
    "text=[]"
   ]
  },
  {
   "cell_type": "code",
   "execution_count": 24,
   "id": "1c234a56-0254-4259-8fe5-66673865ee58",
   "metadata": {
    "id": "1c234a56-0254-4259-8fe5-66673865ee58"
   },
   "outputs": [],
   "source": [
    "for i in df.lyrics:\n",
    "    for verse in i.split(\"\\\\n\\\\n\"):\n",
    "        text.append(verse)"
   ]
  },
  {
   "cell_type": "code",
   "execution_count": 25,
   "id": "a1211444-66ed-48fd-ade0-3e31e42475c5",
   "metadata": {
    "id": "a1211444-66ed-48fd-ade0-3e31e42475c5"
   },
   "outputs": [],
   "source": [
    "replace_list =  ['[Verse 1]','[Verse 2]','[Verse 3]','[Verse 4]', '[Chorus]']"
   ]
  },
  {
   "cell_type": "code",
   "execution_count": 26,
   "id": "f9f1e3a7-41fc-4acd-8449-c9a931c6cd22",
   "metadata": {
    "colab": {
     "base_uri": "https://localhost:8080/",
     "height": 68
    },
    "id": "f9f1e3a7-41fc-4acd-8449-c9a931c6cd22",
    "outputId": "9a229260-3e51-45d7-e1cb-ac95d4ea0917"
   },
   "outputs": [
    {
     "data": {
      "text/plain": [
       "'[\\'[Verse 1]\\\\nThought I\\\\\\'d end up with Sean\\\\nBut he wasn\\\\\\'t a match\\\\nWrote some songs about Ricky\\\\nNow I listen and laugh\\\\nEven almost got married\\\\nAnd for Pete, I\\\\\\'m so thankful\\\\nWish I could say, \"Thank you\" to Malcolm\\\\n\\\\\\'Cause he was an angel'"
      ]
     },
     "execution_count": 26,
     "metadata": {},
     "output_type": "execute_result"
    }
   ],
   "source": [
    "text[0]"
   ]
  },
  {
   "cell_type": "code",
   "execution_count": 27,
   "id": "1747aa54-9718-41a1-8051-643b09a98944",
   "metadata": {
    "id": "1747aa54-9718-41a1-8051-643b09a98944"
   },
   "outputs": [],
   "source": [
    "cleaned_text= []"
   ]
  },
  {
   "cell_type": "code",
   "execution_count": 28,
   "id": "ff9d75b1-dd0e-4aee-a167-b087609a3e7d",
   "metadata": {
    "colab": {
     "base_uri": "https://localhost:8080/"
    },
    "id": "ff9d75b1-dd0e-4aee-a167-b087609a3e7d",
    "outputId": "c97e8c4e-d494-4e5f-8744-1fa09a130bd8"
   },
   "outputs": [
    {
     "name": "stderr",
     "output_type": "stream",
     "text": [
      "100%|██████████████████████████████████████████████████████████████████████| 486430/486430 [00:01<00:00, 428856.01it/s]\n"
     ]
    }
   ],
   "source": [
    "for s in tqdm(text):\n",
    "   for i in replace_list:\n",
    "     if i in s:\n",
    "       cleaned_text += [x.lower().replace('(','').replace(')','').translate(translator) for x in s[s.find(']')+1:].split('\\\\n') if len(x) > 1]\n"
   ]
  },
  {
   "cell_type": "code",
   "execution_count": 29,
   "id": "8a96b198-cb4b-460e-a225-cc53e9fac349",
   "metadata": {
    "colab": {
     "base_uri": "https://localhost:8080/"
    },
    "id": "8a96b198-cb4b-460e-a225-cc53e9fac349",
    "outputId": "ca1f1410-8dbc-4b93-c810-f516067db17e"
   },
   "outputs": [
    {
     "data": {
      "text/plain": [
       "237764"
      ]
     },
     "execution_count": 29,
     "metadata": {},
     "output_type": "execute_result"
    }
   ],
   "source": [
    "len(cleaned_text)\n"
   ]
  },
  {
   "cell_type": "code",
   "execution_count": 30,
   "id": "a02852c5-3846-4341-8e00-fd3a235c0382",
   "metadata": {
    "colab": {
     "base_uri": "https://localhost:8080/"
    },
    "id": "a02852c5-3846-4341-8e00-fd3a235c0382",
    "outputId": "bfd057bb-41fd-4567-d052-d0b34f876deb"
   },
   "outputs": [
    {
     "data": {
      "text/plain": [
       "['[\\'[Verse 1]\\\\nThought I\\\\\\'d end up with Sean\\\\nBut he wasn\\\\\\'t a match\\\\nWrote some songs about Ricky\\\\nNow I listen and laugh\\\\nEven almost got married\\\\nAnd for Pete, I\\\\\\'m so thankful\\\\nWish I could say, \"Thank you\" to Malcolm\\\\n\\\\\\'Cause he was an angel',\n",
       " \"[Pre-Chorus]\\\\nOne taught me love\\\\nOne taught me patience\\\\nAnd one taught me pain\\\\nNow, I\\\\'m so amazing\\\\nSay I\\\\'ve loved and I\\\\'ve lost\\\\nBut that\\\\'s not what I see\\\\nSo, look what I got\\\\nLook what you taught me\\\\nAnd for that, I say\",\n",
       " \"[Chorus]\\\\nThank you, next (Next)\\\\nThank you, next (Next)\\\\nThank you, next\\\\nI\\\\'m so fuckin\\\\' grateful for my ex\\\\nThank you, next (Next)\\\\nThank you, next (Next)\\\\nThank you, next (Next)\\\\nI\\\\'m so fuckin\\\\'—\",\n",
       " \"[Verse 2]\\\\nSpend more time with my friends\\\\nI ain\\\\'t worried \\\\'bout nothin\\\\'\\\\nPlus, I met someone else\\\\nWe havin\\\\' better discussions\\\\nI know they say I move on too fast\\\\nBut this one gon\\\\' last\\\\n\\\\'Cause her name is Ari\\\\nAnd I\\\\'m so good with that (So good with that)\",\n",
       " \"[Pre-Chorus]\\\\nShe taught me love (Love)\\\\nShe taught me patience (Patience)\\\\nHow she handles pain (Pain)\\\\nThat shit\\\\'s amazing (Yeah, she\\\\'s amazing)\\\\nI\\\\'ve loved and I\\\\'ve lost (Yeah, yeah)\\\\nBut that\\\\'s not what I see (Yeah, yeah)\\\\n\\\\'Cause look what I\\\\'ve found (Yeah, yeah)\\\\nAin\\\\'t no need for searching, and for that, I say\"]"
      ]
     },
     "execution_count": 30,
     "metadata": {},
     "output_type": "execute_result"
    }
   ],
   "source": [
    "text[0:5]"
   ]
  },
  {
   "cell_type": "code",
   "execution_count": 31,
   "id": "ce2a25d9-060a-4667-9f78-b1d2c06289bc",
   "metadata": {
    "colab": {
     "base_uri": "https://localhost:8080/"
    },
    "id": "ce2a25d9-060a-4667-9f78-b1d2c06289bc",
    "outputId": "c22a072d-3b95-4de1-9cae-3f62ec923618"
   },
   "outputs": [
    {
     "data": {
      "text/plain": [
       "['thought id end up with sean',\n",
       " 'but he wasnt a match',\n",
       " 'wrote some songs about ricky',\n",
       " 'now i listen and laugh',\n",
       " 'even almost got married',\n",
       " 'and for pete im so thankful',\n",
       " 'wish i could say thank you to malcolm',\n",
       " 'cause he was an angel',\n",
       " 'thank you next next',\n",
       " 'thank you next next']"
      ]
     },
     "execution_count": 31,
     "metadata": {},
     "output_type": "execute_result"
    }
   ],
   "source": [
    "cleaned_text[:10]"
   ]
  },
  {
   "cell_type": "markdown",
   "id": "6407cdb6-ca3b-41dc-a682-1fa55acc8225",
   "metadata": {},
   "source": [
    "**Note**- this cleaned_text file will be needed in GPT-2 training so save it"
   ]
  },
  {
   "cell_type": "code",
   "execution_count": 32,
   "id": "10d68401-3338-4eb0-9ee9-3f02d6bf83c3",
   "metadata": {},
   "outputs": [],
   "source": [
    "with open(\"data/cleaned_text.txt\", 'wb') as fp:\n",
    "    pickle.dump(cleaned_text, fp)"
   ]
  },
  {
   "cell_type": "markdown",
   "id": "73f36333-3cc8-4199-9dd9-98d2aa0d0c13",
   "metadata": {},
   "source": [
    "# prep\n"
   ]
  },
  {
   "cell_type": "code",
   "execution_count": 59,
   "id": "ce51c208-d40f-4e52-bccf-8299003f116a",
   "metadata": {},
   "outputs": [],
   "source": [
    "text_corpus =  []\n",
    "for sentence in cleaned_text:\n",
    "    for word in sentence.split():\n",
    "        text_corpus.append(word)"
   ]
  },
  {
   "cell_type": "code",
   "execution_count": 61,
   "id": "21030ff3-7083-40e2-8e91-cc616afb295f",
   "metadata": {},
   "outputs": [
    {
     "data": {
      "text/plain": [
       "['thought', 'id', 'end', 'up', 'with']"
      ]
     },
     "execution_count": 61,
     "metadata": {},
     "output_type": "execute_result"
    }
   ],
   "source": [
    "text_corpus[:5]"
   ]
  },
  {
   "cell_type": "code",
   "execution_count": 74,
   "id": "96d1e7c1-e3eb-449f-8e05-efd78849adb7",
   "metadata": {},
   "outputs": [],
   "source": [
    "MIN_SEQ = 5\n",
    "MIN_FREQUENCY=7"
   ]
  },
  {
   "cell_type": "code",
   "execution_count": 63,
   "id": "81a7d937-e465-4452-a5b0-a249fed5e891",
   "metadata": {},
   "outputs": [],
   "source": [
    "frequency= {}\n",
    "uncommon_words= set()\n"
   ]
  },
  {
   "cell_type": "code",
   "execution_count": 64,
   "id": "0bc2c71e-0a2a-4a02-85c3-c62b20092dea",
   "metadata": {},
   "outputs": [],
   "source": [
    "for w in text_corpus:\n",
    "    frequency[w] = frequency.get(w,0)+1"
   ]
  },
  {
   "cell_type": "code",
   "execution_count": 83,
   "id": "25b9b986-dd73-4335-a8c3-9eca19583ef6",
   "metadata": {},
   "outputs": [],
   "source": [
    "# Take uncommon words means if frequency of word is less than 7 take it as uncomman word\n",
    "uncommon_words = set([key for key in frequency.keys() if frequency[key] < MIN_FREQUENCY])\n",
    "# take all words who are not in uncommon words\n",
    "vocab = sorted(set([key for key in frequency.keys() if frequency[key]>= MIN_FREQUENCY]))"
   ]
  },
  {
   "cell_type": "code",
   "execution_count": 84,
   "id": "a1631615-5b08-46db-b345-9faa237c25a3",
   "metadata": {},
   "outputs": [
    {
     "data": {
      "text/plain": [
       "7233"
      ]
     },
     "execution_count": 84,
     "metadata": {},
     "output_type": "execute_result"
    }
   ],
   "source": [
    "VOCAB_SIZE= len(vocab)\n",
    "VOCAB_SIZE"
   ]
  },
  {
   "cell_type": "code",
   "execution_count": null,
   "id": "2e920778-2353-40b5-8c64-0cb64bfc5175",
   "metadata": {},
   "outputs": [],
   "source": [
    "### Create dictionary of words to their indices from ours vocabulary i.e. words"
   ]
  },
  {
   "cell_type": "code",
   "execution_count": 85,
   "id": "029c5651-1475-4f3b-a003-27c5fbe6602b",
   "metadata": {},
   "outputs": [],
   "source": [
    "word_indices = dict((w,i) for i ,w in enumerate(vocab))\n",
    "indices_word= dict((i,w) for i, w in enumerate(vocab))"
   ]
  },
  {
   "cell_type": "code",
   "execution_count": 75,
   "id": "37afc1ce-ac50-4baf-88c9-6dd62fe1a664",
   "metadata": {},
   "outputs": [],
   "source": [
    "sequences= []\n",
    "next_word= []"
   ]
  },
  {
   "cell_type": "code",
   "execution_count": 76,
   "id": "58b10de5-c42a-4a6f-ab22-312bc53b2317",
   "metadata": {},
   "outputs": [
    {
     "data": {
      "text/plain": [
       "['sean', 'but', 'he', 'wasnt', 'a']"
      ]
     },
     "execution_count": 76,
     "metadata": {},
     "output_type": "execute_result"
    }
   ],
   "source": [
    "text_corpus[5:10]"
   ]
  },
  {
   "cell_type": "markdown",
   "id": "6d0e80eb-afec-42d4-8988-121d83c59b41",
   "metadata": {},
   "source": [
    "### **Imp Note** - here we will create unique data set of lstm with 5 words as input and next word after than 5 will be our prediction/label"
   ]
  },
  {
   "cell_type": "code",
   "execution_count": 77,
   "id": "3b1b2912-5c1a-4ba0-aea6-2260353c210c",
   "metadata": {},
   "outputs": [
    {
     "name": "stderr",
     "output_type": "stream",
     "text": [
      "100%|█████████████████████████████████████████████████████████████████████| 1662102/1662102 [01:43<00:00, 16059.07it/s]\n"
     ]
    }
   ],
   "source": [
    "for i in tqdm(range(len(text_corpus)- MIN_SEQ)):\n",
    "    if text_corpus[i] in vocab:\n",
    "        sequences.append(text_corpus[i:i+MIN_SEQ])\n",
    "        next_word.append(text_corpus[i+MIN_SEQ])"
   ]
  },
  {
   "cell_type": "code",
   "execution_count": 79,
   "id": "79b68a5c-e259-4a43-a117-753c50ee1be7",
   "metadata": {},
   "outputs": [
    {
     "data": {
      "text/plain": [
       "[['thought', 'id', 'end', 'up', 'with'],\n",
       " ['id', 'end', 'up', 'with', 'sean'],\n",
       " ['end', 'up', 'with', 'sean', 'but'],\n",
       " ['up', 'with', 'sean', 'but', 'he'],\n",
       " ['with', 'sean', 'but', 'he', 'wasnt']]"
      ]
     },
     "execution_count": 79,
     "metadata": {},
     "output_type": "execute_result"
    }
   ],
   "source": [
    "sequences[:5]"
   ]
  },
  {
   "cell_type": "code",
   "execution_count": 81,
   "id": "3bf4f81b-ef8a-4585-b85c-5b83c28d3b13",
   "metadata": {},
   "outputs": [
    {
     "data": {
      "text/plain": [
       "['sean', 'but', 'he', 'wasnt', 'a']"
      ]
     },
     "execution_count": 81,
     "metadata": {},
     "output_type": "execute_result"
    }
   ],
   "source": [
    "next_word[:5]"
   ]
  },
  {
   "cell_type": "markdown",
   "id": "926d049d-1ea6-4d44-8944-9e9d2d09e9ae",
   "metadata": {},
   "source": [
    "**note save this word_indicies, indicies_words will need them at time of creating vectors from words**"
   ]
  },
  {
   "cell_type": "code",
   "execution_count": 86,
   "id": "9a0f663d-2f10-473e-b8c7-f8b3e0e35f4b",
   "metadata": {},
   "outputs": [],
   "source": [
    "with open('data/word_indices.txt','wb') as fp:\n",
    "    pickle.dump(word_indices, fp)"
   ]
  },
  {
   "cell_type": "code",
   "execution_count": 87,
   "id": "8ecfcd3b-2f1d-4eb3-8908-80e082c3a979",
   "metadata": {},
   "outputs": [],
   "source": [
    "with open('data/indices_word.txt','wb') as fp:\n",
    "    pickle.dump(indices_word, fp)"
   ]
  },
  {
   "cell_type": "markdown",
   "id": "5aa062e5-c27d-4b57-9187-72ecb133ca18",
   "metadata": {},
   "source": [
    "### Save sequences and next_word list we will use them at time of crating batch"
   ]
  },
  {
   "cell_type": "code",
   "execution_count": 91,
   "id": "LEB7EaHe-11p",
   "metadata": {
    "id": "LEB7EaHe-11p"
   },
   "outputs": [],
   "source": [
    "# save \n",
    "with open(\"Data/sequences.txt\", 'wb') as fp:\n",
    "  pickle.dump(sequences, fp)"
   ]
  },
  {
   "cell_type": "code",
   "execution_count": 92,
   "id": "_79xweiwZ_Ww",
   "metadata": {
    "id": "_79xweiwZ_Ww"
   },
   "outputs": [],
   "source": [
    "# load\n",
    "with open(\"Data/sequences.txt\", 'rb') as fp:\n",
    "  loaded_x= pickle.load(fp)"
   ]
  },
  {
   "cell_type": "code",
   "execution_count": 93,
   "id": "-o-bH_zzaInc",
   "metadata": {
    "colab": {
     "base_uri": "https://localhost:8080/"
    },
    "id": "-o-bH_zzaInc",
    "outputId": "bafb7e24-3f2f-411a-b318-e57d80c3aef3"
   },
   "outputs": [
    {
     "data": {
      "text/plain": [
       "True"
      ]
     },
     "execution_count": 93,
     "metadata": {},
     "output_type": "execute_result"
    }
   ],
   "source": [
    "# check if previous and loaded is same\n",
    "loaded_x == sequences"
   ]
  },
  {
   "cell_type": "code",
   "execution_count": 94,
   "id": "ilMvkXxgaKVM",
   "metadata": {
    "id": "ilMvkXxgaKVM"
   },
   "outputs": [],
   "source": [
    "with open(\"data/next_word.txt\", 'wb') as fp:\n",
    "  pickle.dump(next_word, fp)"
   ]
  },
  {
   "cell_type": "code",
   "execution_count": 95,
   "id": "-vWjdQXQaUwe",
   "metadata": {
    "id": "-vWjdQXQaUwe"
   },
   "outputs": [],
   "source": [
    "with open(\"Data/next_word.txt\", 'rb') as fp:\n",
    "  loaded_y= pickle.load(fp)"
   ]
  },
  {
   "cell_type": "code",
   "execution_count": 97,
   "id": "CPubFspqaZVC",
   "metadata": {
    "colab": {
     "base_uri": "https://localhost:8080/"
    },
    "id": "CPubFspqaZVC",
    "outputId": "b1a1c435-c7c1-45e0-c57e-784bacce52d4"
   },
   "outputs": [
    {
     "data": {
      "text/plain": [
       "True"
      ]
     },
     "execution_count": 97,
     "metadata": {},
     "output_type": "execute_result"
    }
   ],
   "source": [
    "loaded_y == next_word"
   ]
  },
  {
   "cell_type": "code",
   "execution_count": null,
   "id": "5ec1243b-1aa2-4221-bfe0-d37581085f87",
   "metadata": {},
   "outputs": [],
   "source": []
  }
 ],
 "metadata": {
  "accelerator": "GPU",
  "colab": {
   "name": "Preprocessing.ipynb",
   "provenance": [],
   "toc_visible": true
  },
  "kernelspec": {
   "display_name": "Python 3",
   "language": "python",
   "name": "python3"
  },
  "language_info": {
   "codemirror_mode": {
    "name": "ipython",
    "version": 3
   },
   "file_extension": ".py",
   "mimetype": "text/x-python",
   "name": "python",
   "nbconvert_exporter": "python",
   "pygments_lexer": "ipython3",
   "version": "3.8.8"
  }
 },
 "nbformat": 4,
 "nbformat_minor": 5
}
